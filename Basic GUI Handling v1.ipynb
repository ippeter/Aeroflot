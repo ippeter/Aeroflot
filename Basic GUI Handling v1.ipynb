{
 "cells": [
  {
   "cell_type": "code",
   "execution_count": 3,
   "metadata": {},
   "outputs": [
    {
     "name": "stdout",
     "output_type": "stream",
     "text": [
      "Populating the interactive namespace from numpy and matplotlib\n"
     ]
    },
    {
     "name": "stderr",
     "output_type": "stream",
     "text": [
      "C:\\ProgramData\\Anaconda3\\lib\\site-packages\\IPython\\core\\magics\\pylab.py:160: UserWarning: pylab import has clobbered these variables: ['seed', 'sample', 'uniform', 'randint']\n",
      "`%matplotlib` prevents importing * from pylab and numpy\n",
      "  \"\\n`%matplotlib` prevents importing * from pylab and numpy\"\n"
     ]
    }
   ],
   "source": [
    "import win32gui\n",
    "import win32api\n",
    "import win32con\n",
    "import pickle\n",
    "import glob\n",
    "import time\n",
    "\n",
    "import random as rd\n",
    "from random import randint, uniform, sample, seed\n",
    "\n",
    "import tensorflow as tf\n",
    "import numpy as np\n",
    "\n",
    "from PIL import Image, ImageDraw, ImageGrab\n",
    "from skimage import io\n",
    "\n",
    "from keras.layers import Input, Add, Dense, Activation, ZeroPadding2D, BatchNormalization, Flatten, Conv2D, AveragePooling2D, MaxPooling2D \n",
    "from keras.models import Model, load_model\n",
    "\n",
    "import keras.backend as K\n",
    "\n",
    "import matplotlib.pyplot as plt\n",
    "%pylab inline"
   ]
  },
  {
   "cell_type": "code",
   "execution_count": null,
   "metadata": {
    "collapsed": true
   },
   "outputs": [],
   "source": []
  },
  {
   "cell_type": "markdown",
   "metadata": {},
   "source": [
    "### Вспомогательные и тестовые функции"
   ]
  },
  {
   "cell_type": "code",
   "execution_count": 4,
   "metadata": {},
   "outputs": [
    {
     "name": "stdout",
     "output_type": "stream",
     "text": [
      "Window FRD L19:\n",
      "\tLocation: (600, 0)\n",
      "\t    Size: (380, 768)\n"
     ]
    }
   ],
   "source": [
    "def callback(hwnd, extra):\n",
    "    \"\"\"\n",
    "    Detects position and size of the Vysor application window\n",
    "    Example copied from Stackoverflow\n",
    "    Input:\n",
    "    - hwnd: unknown\n",
    "    - extra: nothing\n",
    "    Output: nothing\n",
    "    \"\"\"\n",
    "    rect = win32gui.GetWindowRect(hwnd)\n",
    "    x = rect[0]\n",
    "    y = rect[1]\n",
    "    w = rect[2] - x\n",
    "    h = rect[3] - y\n",
    "    \n",
    "    win_name = win32gui.GetWindowText(hwnd)\n",
    "    \n",
    "    if (win_name == \"FRD L19\"):\n",
    "        print(\"Window %s:\" % win_name)\n",
    "        print(\"\\tLocation: (%d, %d)\" % (x, y))\n",
    "        print(\"\\t    Size: (%d, %d)\" % (w, h))\n",
    "        \n",
    "        if ((x >= 0) and (y >= 0)):\n",
    "            start_box_left_top_x = x + 260\n",
    "            start_box_left_top_y = y + 680\n",
    "\n",
    "            start_box_right_bottom_x = start_box_left_top_x + 45\n",
    "            start_box_right_bottom_y = start_box_left_top_y + 55\n",
    "\n",
    "            #h_x, h_y = win32api.GetCursorPos()\n",
    "            #print(h_x, h_y)\n",
    "\n",
    "            #im = pyscreenshot.grab(bbox=(start_box_left_top_x, start_box_left_top_y, start_box_right_bottom_x, start_box_right_bottom_y))\n",
    "            #im.show()\n",
    "            #im.save(\"GameStarter.png\")\n",
    "\n",
    "win32gui.EnumWindows(callback, None)"
   ]
  },
  {
   "cell_type": "code",
   "execution_count": null,
   "metadata": {
    "collapsed": true
   },
   "outputs": [],
   "source": []
  },
  {
   "cell_type": "markdown",
   "metadata": {},
   "source": [
    "### Основные функции"
   ]
  },
  {
   "cell_type": "code",
   "execution_count": 5,
   "metadata": {
    "collapsed": true
   },
   "outputs": [],
   "source": [
    "# Окно приложения, левый верхний угол: 663 0\n",
    "# Центр блюда в ряду 1, колонке 1: 727 350\n",
    "\n",
    "def fix_window_coordinates_and_size(window_name, use_external_screen=True):\n",
    "    \"\"\"\n",
    "    Returns coordinates of the left top corner of the window\n",
    "    Input:\n",
    "    - window_name: target window name, string\n",
    "    Output:\n",
    "    - x: x coordinate, int\n",
    "    - y: y coordinate, int\n",
    "    - w: window width (over the X axis)\n",
    "    - h: window height (over the Y axis)\n",
    "    \"\"\"\n",
    "    \n",
    "    # Get window handle\n",
    "    win_handle = win32gui.FindWindow(None, window_name)\n",
    "    \n",
    "    assert win_handle, \"Window not found!\"\n",
    "\n",
    "    # Get window coordinates\n",
    "    rect = win32gui.GetWindowRect(win_handle)\n",
    "    x = rect[0]\n",
    "    y = rect[1]\n",
    "    w = rect[2] - x\n",
    "    h = rect[3] - y\n",
    "\n",
    "    if (use_external_screen):\n",
    "        win32gui.MoveWindow(win_handle, 600, 0, 380, 760, True)\n",
    "        result = (600, 0, 380, 760)\n",
    "    else:\n",
    "        win32gui.MoveWindow(win_handle, 900, 0, 380, 760, True)\n",
    "        result = (900, 0, 380, 760)\n",
    "    \n",
    "    return result\n",
    "\n",
    "\n",
    "def check_if_new_game(x, y, parameters):\n",
    "    \"\"\"\n",
    "    Checks if there is a new game screen with the start new game triangle\n",
    "    Input:\n",
    "    - x: left top corner x coordinate of the application, int\n",
    "    - y: left top corner y coordinate of the application, int\n",
    "    - parameters: dict with parameters incl. Game_Starter ethalon box, dict\n",
    "    Output:\n",
    "    - result: boolean. True if there is a new game screen, False otherwise\n",
    "    \"\"\"\n",
    "\n",
    "    # Get part of the window, where the game starter circle/triangle is expected\n",
    "    game_starter = ImageGrab.grab(bbox=(x + 172, y + 481, x + 209, y + 519))\n",
    "    game_starter = game_starter.convert(\"L\")\n",
    "    game_starter = np.array(game_starter)\n",
    "    \n",
    "    # Load ethalon game starter box\n",
    "    ethalon = parameters[\"Game_Starter\"]\n",
    "    \n",
    "    # Check them\n",
    "    tmp2 = np.abs(game_starter.astype(int) - ethalon.astype(int))\n",
    "    difference = tmp2.sum()    \n",
    "    \n",
    "    if (difference < 300.):\n",
    "        print(\"We can start a new game\")\n",
    "        result = True\n",
    "    else:\n",
    "        print(\"Game is progress, difference =\", difference)\n",
    "        result = False\n",
    "    \n",
    "    return result\n",
    "\n",
    "\n",
    "def press_start(x, y):\n",
    "    \"\"\"\n",
    "    Presses the Start New Game triangle\n",
    "    Input:\n",
    "    - x: top left corner x coordinate of the window, int\n",
    "    - y: top left corner y coordinate of the window, int\n",
    "    Output:\n",
    "    - True\n",
    "    \"\"\"\n",
    "\n",
    "    x_res = win32api.GetSystemMetrics(0)\n",
    "    y_res = win32api.GetSystemMetrics(1)\n",
    "    \n",
    "    start_x = x + 172 + 19\n",
    "    start_y = y + 481 + 19\n",
    "    \n",
    "    nx = int(start_x * 65535 / x_res)\n",
    "    ny = int(start_y * 65535 / y_res)\n",
    "    \n",
    "    win32api.mouse_event(win32con.MOUSEEVENTF_ABSOLUTE | win32con.MOUSEEVENTF_MOVE, nx, ny, 0, 0)\n",
    "    win32api.Sleep(200)\n",
    "    win32api.mouse_event(win32con.MOUSEEVENTF_ABSOLUTE | win32con.MOUSEEVENTF_LEFTDOWN, nx, ny, 0, 0)\n",
    "    win32api.Sleep(200)\n",
    "    win32api.mouse_event(win32con.MOUSEEVENTF_ABSOLUTE | win32con.MOUSEEVENTF_LEFTUP, nx, ny, 0, 0)\n",
    "    win32api.Sleep(500)\n",
    "    \n",
    "    return True\n",
    "\n",
    "\n",
    "def press_next_game(x, y):\n",
    "    \"\"\"\n",
    "    Presses the Play Again button\n",
    "    Input:\n",
    "    - x: top left corner x coordinate of the window, int\n",
    "    - y: top left corner y coordinate of the window, int\n",
    "    Output:\n",
    "    - True\n",
    "    \"\"\"\n",
    "\n",
    "    x_res = win32api.GetSystemMetrics(0)\n",
    "    y_res = win32api.GetSystemMetrics(1)\n",
    "    \n",
    "    start_x = x + 180\n",
    "    start_y = y + 480\n",
    "    \n",
    "    nx = int(start_x * 65535 / x_res)\n",
    "    ny = int(start_y * 65535 / y_res)\n",
    "    \n",
    "    win32api.mouse_event(win32con.MOUSEEVENTF_ABSOLUTE | win32con.MOUSEEVENTF_MOVE, nx, ny, 0, 0)\n",
    "    win32api.Sleep(200)\n",
    "    win32api.mouse_event(win32con.MOUSEEVENTF_ABSOLUTE | win32con.MOUSEEVENTF_LEFTDOWN, nx, ny, 0, 0)\n",
    "    win32api.Sleep(200)\n",
    "    win32api.mouse_event(win32con.MOUSEEVENTF_ABSOLUTE | win32con.MOUSEEVENTF_LEFTUP, nx, ny, 0, 0)\n",
    "    win32api.Sleep(500)\n",
    "    \n",
    "    return True\n",
    "\n",
    "\n",
    "def get_1_digit_score(score, parameters):\n",
    "    \"\"\"\n",
    "    Extracts one digit score (3-9)\n",
    "    Input:\n",
    "    - score: PIL Image with the score\n",
    "    - parameters: dict with parameters incl. ethalon digits, dict\n",
    "    Output:\n",
    "    - score, positive if score found, int. -1 otherwise.\n",
    "    \"\"\"\n",
    "    # Load ethalon large digits\n",
    "    ethalon_single = parameters[\"Ethalon_Single\"]\n",
    "    \n",
    "    # Crop the digit\n",
    "    digit = np.array(score.crop((13, 9, 23, 25)))    \n",
    "    \n",
    "    # Find the best possible ethalon digit\n",
    "    tmp2 = np.abs(digit.astype(int) - ethalon_single.astype(int))\n",
    "    result = tmp2.sum(axis=(1, 2))\n",
    "    \n",
    "    if (np.min(result) > 500.):\n",
    "        choice = -1\n",
    "    else:\n",
    "        choice = np.argmin(result)    \n",
    "    \n",
    "    return choice\n",
    "\n",
    "\n",
    "def get_2_digits_score(score, parameters):\n",
    "    \"\"\"\n",
    "    Extracts two digits score (xx)\n",
    "    Input:\n",
    "    - score: PIL Image with the score\n",
    "    - parameters: dict with parameters incl. ethalon digits, dict\n",
    "    Output:\n",
    "    - score, positive if score found, int. -1 otherwise.\n",
    "    \"\"\"\n",
    "    \n",
    "    # Load ethalon large digits\n",
    "    ethalon_large_left = parameters[\"Ethalon_Large_Left\"]\n",
    "    ethalon_large_right = parameters[\"Ethalon_Large_Right\"]\n",
    "\n",
    "    # Crop the digits\n",
    "    left_digit = np.array(score.crop((6, 9, 16, 25) ))\n",
    "    right_digit = np.array(score.crop((19, 9, 29, 25)))\n",
    "    \n",
    "    # Find the best possible left ethalon digit\n",
    "    tmp2 = np.abs(left_digit.astype(int) - ethalon_large_left.astype(int))\n",
    "    result = tmp2.sum(axis=(1, 2))\n",
    "    \n",
    "    if (np.min(result) > 500.):\n",
    "        return -1\n",
    "    \n",
    "    left_choice = np.argmin(result)\n",
    "    \n",
    "    # Find the best possible right ethalon digit\n",
    "    tmp2 = np.abs(right_digit.astype(int) - ethalon_large_right.astype(int))\n",
    "    result = tmp2.sum(axis=(1, 2))\n",
    "    \n",
    "    right_choice = np.argmin(result)\n",
    "    \n",
    "    return left_choice*10 + right_choice\n",
    "\n",
    "\n",
    "def get_3_digits_score(score, parameters):\n",
    "    \"\"\"\n",
    "    Extracts three digits score (xxx)\n",
    "    Input:\n",
    "    - score: PIL Image with the score\n",
    "    - parameters: dict with parameters incl. ethalon digits, dict\n",
    "    Output:\n",
    "    - score, positive if score found, int. -1 otherwise.\n",
    "    \"\"\"\n",
    "    # Load ethalon large digits\n",
    "    ethalon_small_left = parameters[\"Ethalon_Small_Left\"]\n",
    "    ethalon_small_middle = parameters[\"Ethalon_Small_Middle\"]\n",
    "    ethalon_small_right = parameters[\"Ethalon_Small_Right\"]\n",
    "    \n",
    "    # Crop the digits\n",
    "    left_digit = np.array(score.crop((4, 12, 12, 23)))\n",
    "    middle_digit = np.array(score.crop((14, 12, 22, 23)))\n",
    "    right_digit = np.array(score.crop((23, 12, 31, 23)))\n",
    "    \n",
    "    # Find the best possible left ethalon digit\n",
    "    tmp2 = np.abs(left_digit.astype(int) - ethalon_small_left.astype(int))\n",
    "    result = tmp2.sum(axis=(1, 2))\n",
    "    \n",
    "    if (np.min(result) > 500.):\n",
    "        return -1\n",
    "    \n",
    "    left_choice = np.argmin(result)\n",
    "    \n",
    "    # Find the best possible middle ethalon digit\n",
    "    tmp2 = np.abs(middle_digit.astype(int) - ethalon_small_middle.astype(int))\n",
    "    result = tmp2.sum(axis=(1, 2))\n",
    "    middle_choice = np.argmin(result)\n",
    "    \n",
    "    # Find the best possible right ethalon digit\n",
    "    tmp2 = np.abs(right_digit.astype(int) - ethalon_small_right.astype(int))\n",
    "    result = tmp2.sum(axis=(1, 2))\n",
    "    right_choice = np.argmin(result)\n",
    "    \n",
    "    return left_choice*100 + middle_choice*10 + right_choice\n",
    "\n",
    "\n",
    "def get_current_score(x, y, parameters):\n",
    "    \"\"\"\n",
    "    Gets current score. Wrapper for calls to get_1_digit_score, get_2_digits_score, get_3_digits_score\n",
    "    Input:\n",
    "    - x: top left corner x coordinate of the application\n",
    "    - y: top left corner y coordinate of the application\n",
    "    - parameters: dict with parameters incl. ethalon digits, dict\n",
    "    Output:\n",
    "    - score, int\n",
    "    \"\"\"\n",
    "    \n",
    "    # Get the score plate\n",
    "    img_score = ImageGrab.grab(bbox=(x + 269, y + 654, x + 304, y + 689))\n",
    "    img_bw = img_score.convert(\"L\")\n",
    "    \n",
    "    # Get the score based on the number of digits\n",
    "    three_digits_score = get_3_digits_score(img_bw, parameters)\n",
    "    \n",
    "    if (three_digits_score == -1):\n",
    "        two_digits_score = get_2_digits_score(img_bw, parameters)\n",
    "        \n",
    "        if (two_digits_score == -1):\n",
    "            score = get_1_digit_score(img_bw, parameters)\n",
    "        else:\n",
    "            score = two_digits_score\n",
    "    else:\n",
    "        score = three_digits_score\n",
    "    \n",
    "    return score\n",
    "\n",
    "\n",
    "def process_move_142(move):\n",
    "    \"\"\"\n",
    "    There are total 142 possible moves:\n",
    "    - along the vertical axis: 6 + 5*12 + 6 = 6*12 = 72\n",
    "    - along the norizontal axis: 7 + 4*14 + 7 = 5*14 = 70\n",
    "    \n",
    "    The _move_ parameter:\n",
    "    Vertical moves:\n",
    "    move in 1-6: row 1, column _move_, down\n",
    "    move in 7-66: row (move - 7 // 12) + 2, column (((move - 7) % 12) // 2) + 1, direction _move_ % 2 == 0 - up, otherwise - down\n",
    "    move in 67-72: row 7, column (move - 66), up\n",
    "    \n",
    "    Horizontal moves:\n",
    "    move in 73-79: row (move - 72), column 1, right\n",
    "    move in 80-135: row ((move - 80) % 14) // 2 + 1, column ((move - 80) // 14) + 2, direction _move_ % 2 == 0 - left, otherwise - right\n",
    "    move in 136-142: row (move - 135), column 6, left    \n",
    "    \n",
    "    Input:\n",
    "    - move: move code, 1-142, int\n",
    "    Output:\n",
    "    - row: row where the moved object located, 1-7, int\n",
    "    - column: row where the moved object located, 1-6, int\n",
    "    - direction: \"up\"/\"down\"/\"left\"/\"right\", string\n",
    "    \"\"\"\n",
    "    # Process move\n",
    "    if (move in range(1, 7)):\n",
    "        row = 1\n",
    "        column = move\n",
    "        direction = \"down\"\n",
    "    elif (move in range(7, 67)):\n",
    "        row = ((move - 7) // 12) + 2\n",
    "        column = (((move - 7) % 12) // 2) + 1\n",
    "        direction = \"up\" if (move % 2 == 0) else \"down\"\n",
    "    elif (move in range(67, 73)):\n",
    "        row = 7\n",
    "        column = move - 66\n",
    "        direction = \"up\"\n",
    "    elif (move in range(73, 80)):\n",
    "        row = move - 72\n",
    "        column = 1\n",
    "        direction = \"right\"\n",
    "    elif (move in range(80, 136)):\n",
    "        row = (((move - 80) % 14) // 2) + 1\n",
    "        column = ((move - 80) // 14) + 2\n",
    "        direction = \"left\" if (move % 2 == 0) else \"right\"\n",
    "    else:\n",
    "        row = move - 135\n",
    "        column = 6\n",
    "        direction = \"left\"\n",
    "    \n",
    "    return row, column, direction\n",
    "\n",
    "\n",
    "def process_move_71(move):\n",
    "    \"\"\"\n",
    "    There are total 71 possible moves:\n",
    "    - along the vertical axis: 6*6 = 36\n",
    "    - along the horizontal axis: 7*5 = 35\n",
    "    - Total 35 + 36 = 71\n",
    "    \n",
    "    The _move_ parameter:\n",
    "    Vertical moves:\n",
    "    move in 1-36: row (move - 1) % 6 + 1, column (move - 1) // 6 + 1, \"down\"\n",
    "    \n",
    "    Horizontal moves:\n",
    "    move in 37-71: row (move - 37) // 5 + 1, column (move - 37) % 5 + 1, \"right\"\n",
    "    \n",
    "    Input:\n",
    "    - move: move code, 1-66, int\n",
    "    Output:\n",
    "    - row: row where the moved object located, 1-7, int\n",
    "    - column: row where the moved object located, 1-6, int\n",
    "    - direction: \"down\"/\"right\", string\n",
    "    \"\"\"\n",
    "    # Process move\n",
    "    if (move in range(1, 37)):\n",
    "        row = (move - 1) % 6 + 1\n",
    "        column = (move - 1) // 6 + 1\n",
    "        direction = \"down\"\n",
    "    else:\n",
    "        # move in 37-71\n",
    "        column = (move - 37) % 5 + 1\n",
    "        row = (move - 37) // 5 + 1\n",
    "        direction = \"right\"\n",
    "    \n",
    "    return row, column, direction\n",
    "\n",
    "\n",
    "def make_move(x, y, number_of_moves, move):\n",
    "    \"\"\"\n",
    "    Physically moves plates: clicks on one plate and drags it in a certain direction\n",
    "    Input:\n",
    "    - x, y: application window coordinates, int\n",
    "    - number_of_moves: either 71 or 142\n",
    "    - move: particular move to make. Either 1<=move<=71, or 1<=move<=142\n",
    "    \"\"\"\n",
    "    if (number_of_moves == 142):\n",
    "        row, column, direction = process_move_142(move)\n",
    "    else:\n",
    "        row, column, direction = process_move_71(move)\n",
    "    \n",
    "    plate_size = 58\n",
    "    first_plate_center_x = x + 18 + 29\n",
    "    first_plate_center_y = y + 229 + 29\n",
    "    \n",
    "    horizontal_margin = 0\n",
    "    vertical_margin = 4\n",
    "\n",
    "    start_x = first_plate_center_x + (column - 1)*(plate_size + horizontal_margin)\n",
    "    start_y = first_plate_center_y + (row - 1)*(plate_size + vertical_margin)\n",
    "    \n",
    "    if (direction == \"down\"):\n",
    "        end_x = start_x\n",
    "        end_y = start_y + plate_size + vertical_margin\n",
    "    elif (direction == \"up\"):\n",
    "        end_x = start_x\n",
    "        end_y = start_y - plate_size - vertical_margin\n",
    "    elif (direction == \"left\"):\n",
    "        end_x = start_x - plate_size - horizontal_margin\n",
    "        end_y = start_y \n",
    "    else:\n",
    "        end_x = start_x + plate_size + horizontal_margin\n",
    "        end_y = start_y \n",
    "\n",
    "    # Now handle the mouse (drag with the left button pressed)\n",
    "    x_res = win32api.GetSystemMetrics(0)\n",
    "    y_res = win32api.GetSystemMetrics(1)\n",
    "    \n",
    "    nx = int(start_x * 65535 / x_res)\n",
    "    ny = int(start_y * 65535 / y_res)\n",
    "    \n",
    "    n_x_dist = int((end_x - start_x) * 65535 / x_res)\n",
    "    n_y_dist = int((end_y - start_y) * 65535 / y_res)\n",
    "    \n",
    "    win32api.mouse_event(win32con.MOUSEEVENTF_ABSOLUTE | win32con.MOUSEEVENTF_MOVE, nx, ny, 0, 0)\n",
    "    win32api.Sleep(300)\n",
    "    win32api.mouse_event(win32con.MOUSEEVENTF_ABSOLUTE | win32con.MOUSEEVENTF_LEFTDOWN, nx, ny, 0, 0)\n",
    "    win32api.Sleep(150)\n",
    "    win32api.mouse_event(win32con.MOUSEEVENTF_ABSOLUTE | win32con.MOUSEEVENTF_MOVE, nx + n_x_dist, ny + n_y_dist, 0, 0)\n",
    "    win32api.Sleep(150)\n",
    "    win32api.mouse_event(win32con.MOUSEEVENTF_ABSOLUTE | win32con.MOUSEEVENTF_LEFTUP, nx + n_x_dist, ny + n_y_dist, 0, 0)\n",
    "    win32api.Sleep(300)\n",
    "        \n",
    "    return\n",
    "\n",
    "\n",
    "#\n",
    "# Pixelization v1.0 Simple (no bonus plates detection)\n",
    "# Готовим трехмерный массив из 0 и 1 размера 7x6x4\n",
    "# Каждый из последних четырех слоёв отвечает за свой цвет\n",
    "# Массив цветов в таком порядке: [red, green, blue, purple]\n",
    "# по принципу RGB+Purple\n",
    "#\n",
    "def pixelization_v1(x, y, parameters):\n",
    "    \"\"\"\n",
    "    Converts picture with plates into 3D matrix [7, 6, 4]\n",
    "    Input:\n",
    "    - x: top left corner x coordinate of the application\n",
    "    - y: top left corner y coordinate of the application\n",
    "    - parameters: dict with parameters incl. ethalon colors, dict\n",
    "    Output:\n",
    "    - np.array, shape = [7, 6, 4]\n",
    "    \"\"\"\n",
    "    # Initialize all required parameters\n",
    "    ethalon_colors = parameters[\"Ethalon_Colors\"]\n",
    "    \n",
    "    plate_size = 58\n",
    "    horizontal_margin = 0\n",
    "    vertical_margin = 4\n",
    "    \n",
    "    result = np.zeros((7, 6, 4))\n",
    "    \n",
    "    # Get part of the image with plates\n",
    "    plates = ImageGrab.grab(bbox=(x + 18, y + 229, x + 361, y + 658))\n",
    "\n",
    "    for ii in range(7):\n",
    "        target_y = ii*(plate_size + vertical_margin) + 3\n",
    "        \n",
    "        for jj in range(6):\n",
    "            target_x = jj*(plate_size + horizontal_margin - 1) + 29\n",
    "            current_color = np.array(plates.crop((target_x, target_y, target_x + 1, target_y + 1)))\n",
    "            \n",
    "            tmp = np.abs((ethalon_colors - current_color.astype(int))).sum(axis=(1, 2, 3))\n",
    "            result[ii, jj, np.argmin(tmp)] = 1\n",
    "\n",
    "    return result\n",
    "\n",
    "\n",
    "#\n",
    "# Pixelization v2.0 Simple (no bonus plates detection)\n",
    "# Готовим двумерный массив размера 7x6x1, состоящий из 0.25, 0.5, 0.75, 1.0 [red, green, blue, purple]\n",
    "# Массив цветов в таком порядке: [red, green, blue, purple]\n",
    "# по принципу RGB+Purple\n",
    "#\n",
    "def pixelization_v2(x, y, parameters):\n",
    "    \"\"\"\n",
    "    Converts picture with plates into 2D matrix [7, 6]\n",
    "    Input:\n",
    "    - x: top left corner x coordinate of the application\n",
    "    - y: top left corner y coordinate of the application\n",
    "    - parameters: dict with parameters incl. ethalon colors, dict\n",
    "    Output:\n",
    "    - np.array, shape = [7, 6]\n",
    "    \"\"\"\n",
    "    # Initialize all required parameters\n",
    "    ethalon_colors = parameters[\"Ethalon_Colors\"]\n",
    "    \n",
    "    plate_size = 58\n",
    "    horizontal_margin = 0\n",
    "    vertical_margin = 4\n",
    "    \n",
    "    result = np.zeros((7, 6, 1))\n",
    "    \n",
    "    # Get part of the image with plates\n",
    "    plates = ImageGrab.grab(bbox=(x + 18, y + 229, x + 361, y + 658))\n",
    "\n",
    "    for ii in range(7):\n",
    "        target_y = ii*(plate_size + vertical_margin) + 3\n",
    "        \n",
    "        for jj in range(6):\n",
    "            target_x = jj*(plate_size + horizontal_margin - 1) + 29\n",
    "            current_color = np.array(plates.crop((target_x, target_y, target_x + 1, target_y + 1)))\n",
    "            \n",
    "            tmp = np.abs((ethalon_colors - current_color.astype(int))).sum(axis=(1, 2, 3))\n",
    "            result[ii, jj, 0] = (np.argmin(tmp) + 1) / 4.0\n",
    "\n",
    "    return result\n",
    "\n",
    "\n",
    "def Aero_CNN_v1(input_shape = (7, 6, 4), classes = 71):\n",
    "    \"\"\"\n",
    "    Keras CNN\n",
    "    INPUT -> CONV -> RELU -> CONV -> RELU -> FC -> RELU -> OUTPUT\n",
    "    \"\"\"\n",
    "    # Define the input placeholder as a tensor with shape input_shape. Think of this as your input image!\n",
    "    X_input = Input(input_shape)\n",
    "\n",
    "    # Zero-Padding: pads the border of X_input with zeroes\n",
    "    X = ZeroPadding2D((1, 1))(X_input)\n",
    "\n",
    "    # CONV -> BN -> RELU Block applied to X\n",
    "    X = Conv2D(32, (3, 3), strides = (1, 1), name = 'conv0')(X)\n",
    "    X = Activation('relu')(X)\n",
    "\n",
    "    # CONV -> BN -> RELU Block applied to X\n",
    "    X = Conv2D(64, (3, 3), strides = (1, 1), name = 'conv1')(X)\n",
    "    X = Activation('relu')(X)\n",
    "    \n",
    "    # FLATTEN X (means convert it to a vector) + FC + RELU\n",
    "    X = Flatten()(X)\n",
    "    X = Dense(256, name='fc0')(X)\n",
    "    X = Activation('relu')(X)\n",
    "    \n",
    "    # FULLYCONNECTED\n",
    "    X = Dense(classes, name='fc1')(X)\n",
    "\n",
    "    # Create model. This creates your Keras model instance, you'll use this instance to train/test the model.\n",
    "    model = Model(inputs = X_input, outputs = X, name='Aero_CNN')\n",
    "\n",
    "    return model\n",
    "\n",
    "\n",
    "def Aero_CNN_v2(input_shape = (7, 6, 1), classes = 142):\n",
    "    \"\"\"\n",
    "    Keras CNN\n",
    "    INPUT -> CONV -> RELU -> CONV -> RELU -> FC -> RELU -> OUTPUT\n",
    "    \"\"\"\n",
    "    # Define the input placeholder as a tensor with shape input_shape. Think of this as your input image!\n",
    "    X_input = Input(input_shape)\n",
    "\n",
    "    # Zero-Padding: pads the border of X_input with zeroes\n",
    "    X = ZeroPadding2D((2, 2))(X_input)\n",
    "\n",
    "    # CONV -> BN -> RELU Block applied to X\n",
    "    X = Conv2D(16, (5, 5), strides = (1, 1), name = 'conv0')(X)\n",
    "    X = Activation('relu')(X)\n",
    "\n",
    "    # CONV -> BN -> RELU Block applied to X\n",
    "    X = Conv2D(32, (3, 3), strides = (1, 1), name = 'conv1')(X)\n",
    "    X = Activation('relu')(X)\n",
    "    \n",
    "    # FLATTEN X (means convert it to a vector) + FULLYCONNECTED\n",
    "    X = Flatten()(X)\n",
    "    X = Dense(classes, activation='relu', name='fc0')(X)\n",
    "\n",
    "    # Create model. This creates your Keras model instance, you'll use this instance to train/test the model.\n",
    "    model = Model(inputs = X_input, outputs = X, name='Aero_CNN')\n",
    "\n",
    "    return model\n",
    "\n",
    "\n",
    "def Aero_CNN_v3(input_shape = (7, 6, 1), classes = 71):\n",
    "    \"\"\"\n",
    "    Keras CNN\n",
    "    INPUT -> CONV -> RELU -> CONV -> RELU -> FC -> RELU -> OUTPUT\n",
    "    \"\"\"\n",
    "    # Define the input placeholder as a tensor with shape input_shape. Think of this as your input image!\n",
    "    X_input = Input(input_shape)\n",
    "\n",
    "    # Zero-Padding: pads the border of X_input with zeroes\n",
    "    X = ZeroPadding2D((1, 1))(X_input)\n",
    "\n",
    "    # CONV -> BN -> RELU Block applied to X\n",
    "    X = Conv2D(32, (3, 3), strides = (1, 1), name = 'conv0')(X)\n",
    "    X = Activation('relu')(X)\n",
    "    \n",
    "    # CONV -> BN -> RELU Block applied to X\n",
    "    X = Conv2D(64, (3, 3), strides = (1, 1), name = 'conv1')(X)\n",
    "    X = Activation('relu')(X)\n",
    "    \n",
    "    # FLATTEN X (means convert it to a vector) + FULLYCONNECTED\n",
    "    X = Flatten()(X)\n",
    "    X = Dense(classes, activation='relu', name='fc0')(X)\n",
    "\n",
    "    # Create model. This creates your Keras model instance, you'll use this instance to train/test the model.\n",
    "    model = Model(inputs = X_input, outputs = X, name='Aero_CNN')\n",
    "\n",
    "    return model\n",
    "\n",
    "\n",
    "def Aero_CNN_v4(input_shape = (7, 6, 1), classes = 71):\n",
    "    \"\"\"\n",
    "    Keras CNN\n",
    "    INPUT -> CONV -> RELU -> CONV -> RELU -> FC -> RELU -> OUTPUT\n",
    "    \"\"\"\n",
    "    # Define the input placeholder as a tensor with shape input_shape. Think of this as your input image!\n",
    "    X_input = Input(input_shape)\n",
    "\n",
    "    # Zero-Padding: pads the border of X_input with zeroes\n",
    "    X = ZeroPadding2D((1, 1))(X_input)\n",
    "\n",
    "    # CONV -> BN -> RELU Block applied to X\n",
    "    X = Conv2D(32, (3, 3), strides = (1, 1), name = 'conv0')(X)\n",
    "    X = Activation('relu')(X)\n",
    "    \n",
    "    # CONV -> BN -> RELU Block applied to X\n",
    "    X = Conv2D(64, (3, 3), strides = (1, 1), name = 'conv1')(X)\n",
    "    X = Activation('relu')(X)\n",
    "    \n",
    "    # FLATTEN X (means convert it to a vector) + FC + RELU\n",
    "    X = Flatten()(X)\n",
    "    X = Dense(256, name='fc0')(X)\n",
    "    X = Activation('relu')(X)\n",
    "    \n",
    "    # FULLYCONNECTED\n",
    "    X = Dense(classes, name='fc1')(X)\n",
    "\n",
    "    # Create model. This creates your Keras model instance, you'll use this instance to train/test the model.\n",
    "    model = Model(inputs = X_input, outputs = X, name='Aero_CNN')\n",
    "\n",
    "    return model\n",
    "\n",
    "\n",
    "def replay_memory_converter_to_1D(replay_memory):\n",
    "    \"\"\"\n",
    "    Replay memory converter from 4D to 1D\n",
    "    Input:\n",
    "    - replay_memory: moves history in 4D, list of tuples\n",
    "    Output:\n",
    "    - replay_memory: moves history in 1D, list of tuples\n",
    "    \"\"\"\n",
    "    result = []\n",
    "    \n",
    "    for item in replay_memory:\n",
    "        s_before = item[0]\n",
    "\n",
    "        s_before[:, :, 0] = s_before[:, :, 0] * 0.25\n",
    "        s_before[:, :, 1] = s_before[:, :, 1] * 0.5\n",
    "        s_before[:, :, 2] = s_before[:, :, 2] * 0.75\n",
    "        s_before[:, :, 3] = s_before[:, :, 3] * 1.0\n",
    "\n",
    "        s_before = s_before.sum(axis=2)\n",
    "\n",
    "        s_before = np.expand_dims(s_before, axis=2)\n",
    "        \n",
    "        s_after = item[3]\n",
    "\n",
    "        s_after[:, :, 0] = s_after[:, :, 0] * 0.25\n",
    "        s_after[:, :, 1] = s_after[:, :, 1] * 0.5\n",
    "        s_after[:, :, 2] = s_after[:, :, 2] * 0.75\n",
    "        s_after[:, :, 3] = s_after[:, :, 3] * 1.0\n",
    "\n",
    "        s_after = s_after.sum(axis=2)\n",
    "\n",
    "        s_after = np.expand_dims(s_after, axis=2)      \n",
    "        \n",
    "        result.append( (s_before, item[1], item[2], s_after) )\n",
    "        \n",
    "    return result\n",
    "\n",
    "\n",
    "def replay_memory_converter_to_4D(replay_memory):\n",
    "    \"\"\"\n",
    "    Replay memory converter from 1D to 4D\n",
    "    Input:\n",
    "    - replay_memory: moves history in 1D, list of tuples\n",
    "    Output:\n",
    "    - replay_memory: moves history in 4D, list of tuples\n",
    "    \"\"\"\n",
    "    result = []\n",
    "    \n",
    "    for item in replay_memory:\n",
    "        s_before = np.repeat(item[0], 4, axis=2)\n",
    "        s_before = s_before * 4\n",
    "        \n",
    "        np.place(s_before[:, :, 0], s_before[:, :, 0] != 1, 0)\n",
    "        np.place(s_before[:, :, 1], s_before[:, :, 1] != 2, 0)\n",
    "        s_before[:, :, 1] = s_before[:, :, 1] / 2\n",
    "        np.place(s_before[:, :, 2], s_before[:, :, 2] != 3, 0)\n",
    "        s_before[:, :, 2] = s_before[:, :, 2] / 3\n",
    "        np.place(s_before[:, :, 3], s_before[:, :, 3] != 4, 0)\n",
    "        s_before[:, :, 3] = s_before[:, :, 3] / 4\n",
    "        \n",
    "        s_after = np.repeat(item[3], 4, axis=2)\n",
    "        s_after = s_after * 4\n",
    "        \n",
    "        np.place(s_after[:, :, 0], s_after[:, :, 0] != 1, 0)\n",
    "        np.place(s_after[:, :, 1], s_after[:, :, 1] != 2, 0)\n",
    "        s_after[:, :, 1] = s_after[:, :, 1] / 2\n",
    "        np.place(s_after[:, :, 2], s_after[:, :, 2] != 3, 0)\n",
    "        s_after[:, :, 2] = s_after[:, :, 2] / 3\n",
    "        np.place(s_after[:, :, 3], s_after[:, :, 3] != 4, 0)\n",
    "        s_after[:, :, 3] = s_after[:, :, 3] / 4\n",
    "\n",
    "        result.append( (s_before, item[1], item[2], s_after) )\n",
    "        \n",
    "    return result"
   ]
  },
  {
   "cell_type": "code",
   "execution_count": null,
   "metadata": {
    "collapsed": true
   },
   "outputs": [],
   "source": []
  },
  {
   "cell_type": "markdown",
   "metadata": {
    "collapsed": true
   },
   "source": [
    "### Main program body"
   ]
  },
  {
   "cell_type": "markdown",
   "metadata": {},
   "source": [
    "#### Эталонные параметры\n",
    "Размер окна, чтобы работало на ноутбуке:  \n",
    "  width = 380  \n",
    "  height = 760  \n",
    "  \n",
    "Положение треугольника Game Starter:  \n",
    "x + 172, y + 481, x + 209, y + 519  \n",
    "  \n",
    "Положение счёта:  \n",
    "x + 269, y + 654, x + 304, y + 689\n",
    "\n",
    "Двухзначный счет:  \n",
    "- левая цифра: (6, 9, 16, 25)  \n",
    "- правая цифра: (19, 9, 29, 25)  \n",
    "\n",
    "Однозначный счет:\n",
    "- цифра: (13, 9, 23, 25)  \n",
    "\n",
    "Трехзначный счет:\n",
    "- левая цифра: (4, 12, 12, 23)  \n",
    "- средняя цифра: (14, 12, 22, 23)  \n",
    "- правая цифра: (23, 12, 31, 23)  \n",
    "\n",
    "Тарелки:  \n",
    "- размер: 58x58  \n",
    "- x центра первой тарелки: x + 18 + 29\n",
    "- y центра второй тарелки: y + 229 + 29\n",
    "- горизонтальная маржа: 0\n",
    "- вертикальная маржа: 4\n"
   ]
  },
  {
   "cell_type": "code",
   "execution_count": 4,
   "metadata": {
    "collapsed": true
   },
   "outputs": [],
   "source": [
    "# Initialize parameters\n",
    "parameters = {}\n",
    "\n",
    "# Game Starter\n",
    "parameters[\"Game_Starter\"] = np.array(Image.open(\"Game_Starter.png\"))\n",
    "\n",
    "# Ethalon Single Digit\n",
    "tmp = []\n",
    "\n",
    "for f in glob.glob(\"Ethalon_Single\\\\S*.png\"):\n",
    "    img = io.imread(f)\n",
    "    tmp.append(img)\n",
    "    parameters[\"Ethalon_Single\"] = np.array(tmp)\n",
    "    \n",
    "# Ethalon Large Digits\n",
    "tmp = []\n",
    "\n",
    "for f in glob.glob(\"Ethalon_Large\\\\L*.png\"):\n",
    "    img = io.imread(f)\n",
    "    tmp.append(img)\n",
    "\n",
    "parameters[\"Ethalon_Large_Left\"] = np.array(tmp)\n",
    "\n",
    "tmp = []\n",
    "    \n",
    "for f in glob.glob(\"Ethalon_Large\\\\R*.png\"):\n",
    "    img = io.imread(f)\n",
    "    tmp.append(img)\n",
    "\n",
    "parameters[\"Ethalon_Large_Right\"] = np.array(tmp)\n",
    "\n",
    "# Ethalon Small Digits\n",
    "tmp = []\n",
    "\n",
    "for f in glob.glob(\"Ethalon_Small\\\\L*.png\"):\n",
    "    img = io.imread(f)\n",
    "    tmp.append(img)\n",
    "\n",
    "parameters[\"Ethalon_Small_Left\"] = np.array(tmp)\n",
    "\n",
    "tmp = []\n",
    "\n",
    "for f in glob.glob(\"Ethalon_Small\\\\M*.png\"):\n",
    "    img = io.imread(f)\n",
    "    tmp.append(img)\n",
    "\n",
    "parameters[\"Ethalon_Small_Middle\"] = np.array(tmp)\n",
    "\n",
    "tmp = []\n",
    "\n",
    "for f in glob.glob(\"Ethalon_Small\\\\R*.png\"):\n",
    "    img = io.imread(f)\n",
    "    tmp.append(img)\n",
    "\n",
    "parameters[\"Ethalon_Small_Right\"] = np.array(tmp)\n",
    "\n",
    "# Load ethalon colors: RGB+Purple\n",
    "with open('colors.pickle', 'rb') as f:\n",
    "    colors = pickle.load(f)\n",
    "    \n",
    "parameters[\"Ethalon_Colors\"] = colors"
   ]
  },
  {
   "cell_type": "code",
   "execution_count": null,
   "metadata": {
    "collapsed": true
   },
   "outputs": [],
   "source": []
  },
  {
   "cell_type": "code",
   "execution_count": 20,
   "metadata": {},
   "outputs": [],
   "source": [
    "#\n",
    "# Выравниваем приложение на экране\n",
    "#\n",
    "aeroflot_x, aeroflot_y, aeroflot_width, aeroflot_height = fix_window_coordinates_and_size(\"FRD L19\", use_external_screen=True)\n",
    "\n",
    "assert ((aeroflot_width == 380) and (aeroflot_height == 760)), print(\"Incorrect window size!\")\n"
   ]
  },
  {
   "cell_type": "code",
   "execution_count": 22,
   "metadata": {
    "collapsed": true
   },
   "outputs": [],
   "source": [
    "plate = ImageGrab.grab(bbox=(aeroflot_x + 18 + 3*57, aeroflot_y + 229 + 2*62, aeroflot_x + 18 + 58 + 3*57, aeroflot_y + 229 + 58 + 2*62))\n",
    "plate.show()"
   ]
  },
  {
   "cell_type": "code",
   "execution_count": 23,
   "metadata": {
    "collapsed": true
   },
   "outputs": [],
   "source": [
    "plate.save(\"purple_5.png\")"
   ]
  },
  {
   "cell_type": "code",
   "execution_count": null,
   "metadata": {
    "collapsed": true
   },
   "outputs": [],
   "source": []
  },
  {
   "cell_type": "code",
   "execution_count": null,
   "metadata": {
    "collapsed": true
   },
   "outputs": [],
   "source": []
  },
  {
   "cell_type": "code",
   "execution_count": null,
   "metadata": {
    "collapsed": true
   },
   "outputs": [],
   "source": []
  },
  {
   "cell_type": "code",
   "execution_count": 114,
   "metadata": {
    "collapsed": true
   },
   "outputs": [],
   "source": [
    "# Тут будем хранить историю\n",
    "#replay_memory = []\n",
    "#with open('replay_memory_1D.pickle', 'rb') as f:\n",
    "#   replay_memory = pickle.load(f)\n",
    "\n",
    "# Число возможных ходов\n",
    "number_of_moves = 71"
   ]
  },
  {
   "cell_type": "code",
   "execution_count": 115,
   "metadata": {
    "collapsed": true
   },
   "outputs": [],
   "source": [
    "# Загрузим ранее созданную модель\n",
    "#aero_cnn = load_model('AeroCNN_v4.h5')"
   ]
  },
  {
   "cell_type": "code",
   "execution_count": 116,
   "metadata": {
    "collapsed": true
   },
   "outputs": [],
   "source": [
    "# Количество предсказаний\n",
    "total_num_of_predictions = 0\n",
    "num_of_successful_predictions = 0"
   ]
  },
  {
   "cell_type": "code",
   "execution_count": 117,
   "metadata": {
    "collapsed": true
   },
   "outputs": [],
   "source": [
    "# Готовим модель\n",
    "aero_cnn = Aero_CNN_v1(input_shape=(7, 6, 4), classes=number_of_moves)\n",
    "aero_cnn.compile(optimizer='adam', loss='mean_squared_error', metrics=['accuracy'])"
   ]
  },
  {
   "cell_type": "code",
   "execution_count": 233,
   "metadata": {},
   "outputs": [
    {
     "name": "stdout",
     "output_type": "stream",
     "text": [
      "We can start a new game\n",
      "Non-random move 65. Predicted 5.445000171661377, actual reward 0\n",
      "Non-random move 56. Predicted 4.7779998779296875, actual reward 3\n",
      "DEBUG: Skipping bad move...\n",
      "DEBUG: Skipping bad move...\n",
      "DEBUG: Skipping bad move...\n",
      "Non-random move 41. Predicted 5.5970001220703125, actual reward 0\n",
      "Non-random move 30. Predicted 6.65500020980835, actual reward 0\n",
      "Handling last move...\n",
      "Non-random move 9. Predicted 6.5329999923706055, actual reward 3\n",
      "Game 0 over.\n",
      "---\n",
      "We can start a new game\n",
      "Non-random move 13. Predicted 7.843999862670898, actual reward 0\n",
      "Non-random move 62. Predicted 5.026000022888184, actual reward 0\n",
      "Non-random move 61. Predicted 4.815000057220459, actual reward 0\n",
      "Non-random move 9. Predicted 5.570000171661377, actual reward 0\n",
      "Non-random move 10. Predicted 5.188000202178955, actual reward 0\n",
      "Non-random move 15. Predicted 10.644000053405762, actual reward 0\n",
      "Non-random move 13. Predicted 10.003000259399414, actual reward 6\n",
      "Non-random move 49. Predicted 9.626999855041504, actual reward 0\n",
      "Non-random move 7. Predicted 8.020000457763672, actual reward 0\n",
      "Non-random move 15. Predicted 6.9710001945495605, actual reward 0\n",
      "Handling last move...\n",
      "Game 1 over.\n",
      "---\n",
      "We can start a new game\n",
      "Non-random move 29. Predicted 7.191999912261963, actual reward 0\n",
      "Non-random move 55. Predicted 4.017000198364258, actual reward 0\n",
      "Non-random move 49. Predicted 3.4630000591278076, actual reward 10\n",
      "Non-random move 23. Predicted 7.394000053405762, actual reward 0\n",
      "Non-random move 22. Predicted 4.7870001792907715, actual reward 0\n",
      "Non-random move 4. Predicted 9.12399959564209, actual reward 3\n",
      "Non-random move 4. Predicted 9.668000221252441, actual reward 0\n",
      ">>> Successful predictions ratio: 0.2\n",
      "Non-random move 31. Predicted 7.3420000076293945, actual reward 0\n",
      "Non-random move 8. Predicted 7.09499979019165, actual reward 0\n",
      "Non-random move 9. Predicted 7.085999965667725, actual reward 6\n",
      "Non-random move 19. Predicted 8.446999549865723, actual reward 0\n",
      "Non-random move 48. Predicted 6.690999984741211, actual reward 0\n",
      "Handling last move...\n",
      "Game 2 over.\n",
      "---\n",
      "We can start a new game\n",
      "Non-random move 50. Predicted 7.138999938964844, actual reward 0\n",
      "Non-random move 48. Predicted 6.9039998054504395, actual reward 0\n",
      "Non-random move 20. Predicted 5.460000038146973, actual reward 0\n",
      "Non-random move 11. Predicted 4.349999904632568, actual reward 0\n",
      "Non-random move 52. Predicted 4.311999797821045, actual reward 0\n",
      "Non-random move 8. Predicted 3.759999990463257, actual reward 0\n",
      "Non-random move 23. Predicted 3.6989998817443848, actual reward 6\n",
      "Non-random move 53. Predicted 3.7639999389648438, actual reward 12\n",
      "Non-random move 60. Predicted 5.340000152587891, actual reward 0\n",
      "Non-random move 19. Predicted 5.199999809265137, actual reward 0\n",
      "Non-random move 59. Predicted 4.938000202178955, actual reward 0\n",
      "Non-random move 53. Predicted 4.449999809265137, actual reward 0\n",
      "Non-random move 27. Predicted 7.335999965667725, actual reward 0\n",
      "Non-random move 61. Predicted 6.916999816894531, actual reward 0\n",
      "Non-random move 38. Predicted 6.492000102996826, actual reward 0\n",
      "Non-random move 20. Predicted 5.860000133514404, actual reward 9\n",
      "Handling last move...\n",
      "Non-random move 13. Predicted 6.109000205993652, actual reward 0\n",
      "Game 3 over.\n",
      "---\n",
      "We can start a new game\n",
      "Non-random move 19. Predicted 8.111000061035156, actual reward 3\n",
      "Non-random move 27. Predicted 7.684999942779541, actual reward 0\n",
      "Non-random move 21. Predicted 6.046999931335449, actual reward 4\n",
      "Non-random move 48. Predicted 5.163000106811523, actual reward 10\n",
      "Non-random move 21. Predicted 6.3470001220703125, actual reward 0\n",
      "Non-random move 54. Predicted 5.5920000076293945, actual reward 0\n",
      "Non-random move 7. Predicted 8.631999969482422, actual reward 0\n",
      "Non-random move 46. Predicted 6.10699987411499, actual reward 12\n",
      "Non-random move 15. Predicted 7.067999839782715, actual reward 0\n",
      "Non-random move 54. Predicted 6.320000171661377, actual reward 0\n",
      "Non-random move 63. Predicted 5.374000072479248, actual reward 0\n",
      "Non-random move 56. Predicted 5.078000068664551, actual reward 0\n",
      "Non-random move 20. Predicted 4.868000030517578, actual reward 0\n",
      "Non-random move 58. Predicted 4.8420000076293945, actual reward 0\n",
      "Non-random move 24. Predicted 4.75, actual reward 0\n",
      "Non-random move 10. Predicted 4.769000053405762, actual reward 3\n",
      "Non-random move 14. Predicted 8.322999954223633, actual reward 0\n",
      "Non-random move 48. Predicted 7.258999824523926, actual reward 4\n",
      "Non-random move 48. Predicted 6.730000019073486, actual reward 0\n",
      "Non-random move 60. Predicted 6.111000061035156, actual reward 0\n",
      "Handling last move...\n",
      "Game 4 over.\n",
      "---\n",
      "We can start a new game\n",
      "Non-random move 10. Predicted 7.039999961853027, actual reward 0\n",
      "Non-random move 26. Predicted 5.295000076293945, actual reward 0\n",
      "Non-random move 55. Predicted 7.98799991607666, actual reward 0\n",
      "Non-random move 16. Predicted 6.86899995803833, actual reward 0\n",
      "Non-random move 51. Predicted 7.241000175476074, actual reward 6\n",
      "Non-random move 23. Predicted 6.699999809265137, actual reward 0\n",
      "Non-random move 26. Predicted 13.04800033569336, actual reward 4\n",
      "Non-random move 26. Predicted 6.158999919891357, actual reward 0\n",
      ">>> Successful predictions ratio: 0.24\n",
      "Non-random move 13. Predicted 4.9720001220703125, actual reward 0\n",
      "Non-random move 53. Predicted 4.247000217437744, actual reward 0\n",
      "Non-random move 27. Predicted 6.103000164031982, actual reward 0\n",
      "Non-random move 11. Predicted 5.4070000648498535, actual reward 0\n",
      "Non-random move 38. Predicted 4.650000095367432, actual reward 0\n",
      "Non-random move 55. Predicted 4.813000202178955, actual reward 0\n",
      "Non-random move 17. Predicted 3.9779999256134033, actual reward 0\n",
      "Non-random move 40. Predicted 3.921999931335449, actual reward 0\n",
      "Non-random move 15. Predicted 3.8459999561309814, actual reward 0\n",
      "Non-random move 10. Predicted 3.9639999866485596, actual reward 0\n",
      "Non-random move 43. Predicted 3.638000011444092, actual reward 0\n",
      "Non-random move 21. Predicted 3.6489999294281006, actual reward 3\n",
      "Non-random move 8. Predicted 5.809000015258789, actual reward 0\n",
      "Handling last move...\n",
      "Non-random move 54. Predicted 5.324999809265137, actual reward 0\n",
      "Game 5 over.\n",
      "---\n",
      "We can start a new game\n",
      "Non-random move 26. Predicted 5.6020002365112305, actual reward 0\n",
      "Non-random move 44. Predicted 5.86299991607666, actual reward 0\n",
      "Non-random move 52. Predicted 5.184999942779541, actual reward 3\n",
      "Non-random move 21. Predicted 5.947999954223633, actual reward 0\n",
      "Non-random move 19. Predicted 5.934000015258789, actual reward 0\n",
      "Non-random move 23. Predicted 5.656000137329102, actual reward 4\n",
      "Non-random move 10. Predicted 5.690999984741211, actual reward 0\n",
      "Non-random move 8. Predicted 4.953999996185303, actual reward 0\n",
      "Non-random move 65. Predicted 8.229000091552734, actual reward 0\n",
      "Non-random move 12. Predicted 7.900000095367432, actual reward 3\n",
      "Non-random move 51. Predicted 5.291999816894531, actual reward 0\n",
      "Non-random move 47. Predicted 5.6529998779296875, actual reward 3\n",
      "Non-random move 15. Predicted 9.725000381469727, actual reward 0\n",
      "Non-random move 14. Predicted 9.109000205993652, actual reward 0\n",
      "Non-random move 16. Predicted 7.109000205993652, actual reward 0\n",
      "Non-random move 29. Predicted 7.409999847412109, actual reward 0\n",
      "Handling last move...\n",
      "Game 6 over.\n",
      "---\n",
      "We can start a new game\n",
      "Non-random move 15. Predicted 7.322000026702881, actual reward 0\n",
      "Non-random move 7. Predicted 7.085000038146973, actual reward 0\n",
      "Non-random move 13. Predicted 5.571000099182129, actual reward 0\n",
      "Non-random move 14. Predicted 4.474999904632568, actual reward 0\n",
      "Non-random move 25. Predicted 4.072000026702881, actual reward 0\n",
      "Non-random move 13. Predicted 5.718999862670898, actual reward 0\n",
      "Non-random move 43. Predicted 4.163000106811523, actual reward 0\n",
      "Non-random move 27. Predicted 3.753999948501587, actual reward 0\n",
      "Non-random move 15. Predicted 3.2699999809265137, actual reward 0\n",
      "Non-random move 51. Predicted 3.1419999599456787, actual reward 0\n",
      "Non-random move 28. Predicted 2.859999895095825, actual reward 0\n",
      "Non-random move 21. Predicted 2.6589999198913574, actual reward 0\n",
      "Non-random move 12. Predicted 2.937000036239624, actual reward 5\n",
      "Non-random move 59. Predicted 7.886000156402588, actual reward 0\n",
      "Non-random move 51. Predicted 6.3520002365112305, actual reward 0\n"
     ]
    },
    {
     "name": "stdout",
     "output_type": "stream",
     "text": [
      "Non-random move 16. Predicted 6.175000190734863, actual reward 3\n",
      "Non-random move 54. Predicted 4.831999778747559, actual reward 0\n",
      "Non-random move 52. Predicted 4.525000095367432, actual reward 6\n",
      "Non-random move 25. Predicted 6.591000080108643, actual reward 0\n",
      "Non-random move 55. Predicted 6.71999979019165, actual reward 0\n",
      ">>> Successful predictions ratio: 0.16\n",
      "Non-random move 12. Predicted 4.451000213623047, actual reward 0\n",
      "Non-random move 36. Predicted 3.865000009536743, actual reward 3\n",
      "Non-random move 37. Predicted 3.4790000915527344, actual reward 0\n",
      "Non-random move 46. Predicted 3.4110000133514404, actual reward 0\n",
      "Handling last move...\n",
      "Game 7 over.\n",
      "---\n",
      "We can start a new game\n",
      "Non-random move 10. Predicted 7.583000183105469, actual reward 6\n",
      "Non-random move 21. Predicted 5.9710001945495605, actual reward 0\n",
      "Non-random move 52. Predicted 6.021999835968018, actual reward 0\n",
      "Non-random move 60. Predicted 5.158999919891357, actual reward 6\n",
      "Non-random move 29. Predicted 5.117000102996826, actual reward 0\n",
      "Non-random move 63. Predicted 4.314000129699707, actual reward 3\n",
      "Non-random move 15. Predicted 4.986000061035156, actual reward 3\n",
      "Non-random move 60. Predicted 4.104000091552734, actual reward 0\n",
      "Non-random move 21. Predicted 3.7320001125335693, actual reward 0\n",
      "Non-random move 9. Predicted 3.7709999084472656, actual reward 0\n",
      "Non-random move 45. Predicted 3.559000015258789, actual reward 0\n",
      "Non-random move 27. Predicted 3.5339999198913574, actual reward 0\n",
      "Non-random move 49. Predicted 3.2960000038146973, actual reward 0\n",
      "Non-random move 44. Predicted 3.316999912261963, actual reward 0\n",
      "Non-random move 47. Predicted 4.014999866485596, actual reward 0\n",
      "Non-random move 21. Predicted 2.9809999465942383, actual reward 0\n",
      "Non-random move 58. Predicted 3.1110000610351562, actual reward 0\n",
      "Non-random move 10. Predicted 3.056999921798706, actual reward 0\n",
      "Non-random move 22. Predicted 3.119999885559082, actual reward 0\n",
      "Non-random move 20. Predicted 2.99399995803833, actual reward 0\n",
      "Non-random move 29. Predicted 2.812000036239624, actual reward 0\n",
      "Non-random move 16. Predicted 2.638000011444092, actual reward 0\n",
      "Non-random move 28. Predicted 2.5380001068115234, actual reward 0\n",
      "Handling last move...\n",
      "Game 8 over.\n",
      "---\n",
      "We can start a new game\n",
      "Non-random move 29. Predicted 5.276000022888184, actual reward 3\n",
      "Non-random move 44. Predicted 5.288000106811523, actual reward 0\n",
      "Non-random move 54. Predicted 5.321000099182129, actual reward 0\n",
      "Non-random move 16. Predicted 5.732999801635742, actual reward 0\n",
      "Non-random move 21. Predicted 5.364999771118164, actual reward 0\n",
      "Non-random move 19. Predicted 4.757999897003174, actual reward 0\n",
      "Non-random move 26. Predicted 5.120999813079834, actual reward 0\n",
      "Non-random move 8. Predicted 4.889999866485596, actual reward 0\n",
      "Non-random move 38. Predicted 4.697999954223633, actual reward 0\n",
      "Non-random move 28. Predicted 3.3610000610351562, actual reward 0\n",
      "Non-random move 23. Predicted 3.2709999084472656, actual reward 0\n",
      "Non-random move 54. Predicted 6.146999835968018, actual reward 0\n",
      "Non-random move 53. Predicted 5.540999889373779, actual reward 0\n",
      "Non-random move 15. Predicted 4.020999908447266, actual reward 0\n",
      "Non-random move 43. Predicted 3.7290000915527344, actual reward 0\n",
      "Non-random move 56. Predicted 3.609999895095825, actual reward 0\n",
      "Non-random move 39. Predicted 3.6110000610351562, actual reward 6\n",
      "Non-random move 15. Predicted 7.254000186920166, actual reward 0\n",
      "Non-random move 21. Predicted 6.920000076293945, actual reward 0\n",
      "Non-random move 9. Predicted 6.198999881744385, actual reward 0\n",
      "Non-random move 22. Predicted 5.843999862670898, actual reward 17\n",
      "Non-random move 28. Predicted 5.591000080108643, actual reward 9\n",
      "Non-random move 16. Predicted 6.488999843597412, actual reward 0\n",
      ">>> Successful predictions ratio: 0.18\n",
      "Non-random move 19. Predicted 6.03000020980835, actual reward 10\n",
      "Non-random move 18. Predicted 5.458000183105469, actual reward 0\n",
      "Non-random move 46. Predicted 4.735000133514404, actual reward 3\n",
      "Non-random move 43. Predicted 5.685999870300293, actual reward 0\n",
      "Non-random move 60. Predicted 5.373000144958496, actual reward 6\n",
      "Non-random move 14. Predicted 4.815999984741211, actual reward 0\n",
      "Handling last move...\n",
      "Non-random move 44. Predicted 4.579999923706055, actual reward 0\n",
      "Game 9 over.\n",
      "---\n"
     ]
    }
   ],
   "source": [
    "# Максимальный размер памяти\n",
    "max_memory_size = 50000\n",
    "\n",
    "# Вероятность выбора случайного хода\n",
    "epsilon = 0.9\n",
    "\n",
    "# Размер минибатча\n",
    "minibatch = 32\n",
    "\n",
    "# Пенальти за будущие ходы\n",
    "gamma = 0.2\n",
    "\n",
    "# Основной цикл, в котором играем 10 игр\n",
    "for game in range(10):\n",
    "    if (check_if_new_game(aeroflot_x, aeroflot_y, parameters)):\n",
    "        # Press the Start New Game button\n",
    "        press_start(aeroflot_x, aeroflot_y)\n",
    "        win32api.Sleep(1000)\n",
    "    else:\n",
    "        print(\"Something is wrong. Exiting...\")\n",
    "        break\n",
    "\n",
    "    # Делаем 50 ходов. Последний ход нужно будет обработать отдельно. С ним есть нюанс\n",
    "    moves_left = 50\n",
    "    game_score = 0\n",
    "    reward = 0\n",
    "\n",
    "    # Взбодрим генератор случайных чисел\n",
    "    rd.seed()\n",
    "\n",
    "    # Делаем 50 ходов\n",
    "    while (moves_left > 0):\n",
    "        # Смотрим картинку перед ходом\n",
    "        s_before = pixelization_v1(aeroflot_x, aeroflot_y, parameters)\n",
    "\n",
    "        # Выбираем ход\n",
    "        prob = rd.uniform(0, 1)\n",
    "\n",
    "        if (prob > epsilon):\n",
    "            # Будем делать неслучайный ход\n",
    "            if (total_num_of_predictions == 50):\n",
    "                print(\">>> Successful predictions ratio:\", num_of_successful_predictions / total_num_of_predictions)\n",
    "                total_num_of_predictions = 0\n",
    "                num_of_successful_predictions = 0\n",
    "            \n",
    "            wise_move_debug_flag = 1\n",
    "            predictions = aero_cnn.predict(np.expand_dims(s_before, axis=0))\n",
    "            move = np.argmax(predictions) + 1\n",
    "            wise_pred = predictions.max()\n",
    "            total_num_of_predictions = total_num_of_predictions + 1\n",
    "        else:\n",
    "            # Случайный ход\n",
    "            wise_move_debug_flag = 0\n",
    "            move = rd.randint(1, number_of_moves)\n",
    "\n",
    "        # Делаем собственно ход\n",
    "        make_move(aeroflot_x, aeroflot_y, number_of_moves, move)\n",
    "\n",
    "        if (moves_left > 1):\n",
    "            picture_1 = pixelization_v1(aeroflot_x, aeroflot_y, parameters)\n",
    "            win32api.Sleep(1000)\n",
    "            picture_2 = pixelization_v1(aeroflot_x, aeroflot_y, parameters)\n",
    "\n",
    "            while (np.array_equal(picture_1, picture_2) == False):\n",
    "                picture_1 = pixelization_v1(aeroflot_x, aeroflot_y, parameters)\n",
    "                win32api.Sleep(500)\n",
    "                picture_2 = pixelization_v1(aeroflot_x, aeroflot_y, parameters)\n",
    "\n",
    "            # Определяем очки за ход - результат хода\n",
    "            current_score = get_current_score(aeroflot_x, aeroflot_y, parameters)\n",
    "\n",
    "            if (current_score != -1):\n",
    "                if ((game_score == 0) and (current_score == 10)):\n",
    "                        current_score = 0\n",
    "\n",
    "                reward = current_score - game_score\n",
    "                game_score = current_score\n",
    "\n",
    "            # Смотрим картинку после хода\n",
    "            s_after = picture_2\n",
    "\n",
    "        else:\n",
    "            # Это последний пятидесятый ход, его обрабатываем особенным образом\n",
    "            # Тут проблема в том, что экран потухнет, и будет надпись об окончании игры\n",
    "            # Нужно успеть вытащить счет и скрин с финальной разблюдовкой до этого момента\n",
    "            #\n",
    "            print(\"Handling last move...\")\n",
    "            last_move = []\n",
    "            counter = 50\n",
    "\n",
    "            picture_1 = pixelization_v1(aeroflot_x, aeroflot_y, parameters)\n",
    "            current_score = get_current_score(aeroflot_x, aeroflot_y, parameters)\n",
    "\n",
    "            while ((current_score != -1) and (counter > 0)):\n",
    "                last_move.append((current_score, picture_1))\n",
    "\n",
    "                picture_1 = pixelization_v1(aeroflot_x, aeroflot_y, parameters)\n",
    "                current_score = get_current_score(aeroflot_x, aeroflot_y, parameters)\n",
    "\n",
    "                counter = counter - 1\n",
    "\n",
    "            # Берем финальный счет и финальную картинку\n",
    "            if (counter < 50):\n",
    "                current_score = last_move[-1][0]\n",
    "                reward = current_score - game_score      \n",
    "                s_after = last_move[-1][1]\n",
    "            else:\n",
    "                reward = 0\n",
    "\n",
    "        # Если ход прошел без ошибок, то добавляем ход в память\n",
    "        if (current_score != -1):\n",
    "            if (len(replay_memory) == max_memory_size):\n",
    "                replay_memory.pop(0)\n",
    "\n",
    "            replay_memory.append((s_before, move, reward, s_after))     \n",
    "            \n",
    "            # DEBUG: отладочная информация по неслучайным ходам\n",
    "            if (wise_move_debug_flag == 1):\n",
    "                if (reward > 0):\n",
    "                    num_of_successful_predictions = num_of_successful_predictions + 1\n",
    "                print(\"Non-random move {}. Predicted {}, actual reward {}\".format(move, round(wise_pred, 3), reward))\n",
    "                \n",
    "            # Конструируем минибатч\n",
    "            if (len(replay_memory) > minibatch):\n",
    "                if (reward == 0):\n",
    "                    # Обязательно включаем ход с нулевым reward в обучение, чтобы избежать зацикливания предсказаний на нём\n",
    "                    samples = rd.sample(replay_memory[:-1], minibatch - 1)\n",
    "                    samples.append(replay_memory[-1])\n",
    "                else:\n",
    "                    samples = rd.sample(replay_memory, minibatch)\n",
    "            else:\n",
    "                samples = replay_memory\n",
    "                \n",
    "            #\n",
    "            # Обучаем сеть\n",
    "            #\n",
    "            # Строим X_train\n",
    "            X_train_now = ()\n",
    "            X_train_future = ()\n",
    "\n",
    "            for s in range(minibatch):\n",
    "                X_train_now = X_train_now + (samples[s][0],)\n",
    "                X_train_future = X_train_future + (samples[s][3],)\n",
    "\n",
    "            X_train_now = np.stack(X_train_now, axis=0)\n",
    "            X_train_future = np.stack(X_train_future, axis=0)\n",
    "\n",
    "            # Строим Y_train. На выходе размерность [minibatch, number_of_moves]\n",
    "            Y_train_now = aero_cnn.predict(X_train_now)\n",
    "            Y_train_future = aero_cnn.predict(X_train_future)\n",
    "\n",
    "            for s in range(minibatch):\n",
    "                actn = samples[s][1]\n",
    "                rwrd = samples[s][2]\n",
    "                if (rwrd > 0):\n",
    "                    Y_train_now[s, actn - 1] = rwrd + gamma * Y_train_future[s, :].max()\n",
    "                else:\n",
    "                    # Если ход нулевой, то предсказывать 0 сразу!\n",
    "                    Y_train_now[s, actn - 1] = 0\n",
    "\n",
    "            # Делаем градиентный спуск, подкручиваем веса сети\n",
    "            aero_cnn.fit(X_train_now, Y_train_now, epochs=15, verbose=0)\n",
    "        else:\n",
    "            print(\"DEBUG: Skipping bad move...\")\n",
    "\n",
    "        epsilon = epsilon - 0.001\n",
    "        moves_left = moves_left - 1\n",
    "\n",
    "    print(\"Game {} over.\".format(game))\n",
    "    print(\"---\")\n",
    "    win32api.Sleep(5000)\n",
    "    \n",
    "    # Запускаем новую игру, т.е. нажимаем на кнопку \"Еще раз\"\n",
    "    press_next_game(aeroflot_x, aeroflot_y)\n",
    "    win32api.Sleep(2000)"
   ]
  },
  {
   "cell_type": "code",
   "execution_count": null,
   "metadata": {
    "collapsed": true
   },
   "outputs": [],
   "source": []
  },
  {
   "cell_type": "code",
   "execution_count": 236,
   "metadata": {
    "collapsed": true
   },
   "outputs": [],
   "source": [
    "#\n",
    "# Very Important!!!\n",
    "#\n",
    "aero_cnn.save(\"AeroCNN_v1.h5\")\n",
    "\n",
    "with open('replay_memory_4D.pickle', 'wb') as f:\n",
    "    pickle.dump(replay_memory, f)"
   ]
  },
  {
   "cell_type": "code",
   "execution_count": 232,
   "metadata": {},
   "outputs": [
    {
     "data": {
      "text/plain": [
       "10"
      ]
     },
     "execution_count": 232,
     "metadata": {},
     "output_type": "execute_result"
    }
   ],
   "source": [
    "get_current_score(aeroflot_x, aeroflot_y, parameters)"
   ]
  },
  {
   "cell_type": "code",
   "execution_count": 235,
   "metadata": {},
   "outputs": [
    {
     "data": {
      "text/plain": [
       "10515"
      ]
     },
     "execution_count": 235,
     "metadata": {},
     "output_type": "execute_result"
    }
   ],
   "source": [
    "len(replay_memory)"
   ]
  },
  {
   "cell_type": "code",
   "execution_count": null,
   "metadata": {
    "collapsed": true
   },
   "outputs": [],
   "source": []
  },
  {
   "cell_type": "code",
   "execution_count": null,
   "metadata": {
    "collapsed": true
   },
   "outputs": [],
   "source": []
  },
  {
   "cell_type": "code",
   "execution_count": 526,
   "metadata": {
    "collapsed": true
   },
   "outputs": [],
   "source": [
    "for layer in aero_cnn.layers:\n",
    "    if (layer.name == \"conv0\"):\n",
    "        lst = layer.get_weights()\n",
    "        break\n"
   ]
  },
  {
   "cell_type": "code",
   "execution_count": 539,
   "metadata": {},
   "outputs": [
    {
     "data": {
      "text/plain": [
       "array([[-0.01659712, -0.11228048, -0.01099141],\n",
       "       [-0.2804085 ,  0.1258426 ,  0.257772  ],\n",
       "       [ 0.1437774 ,  0.01205748, -0.09395663]], dtype=float32)"
      ]
     },
     "execution_count": 539,
     "metadata": {},
     "output_type": "execute_result"
    }
   ],
   "source": [
    "filters = lst[0]\n",
    "filters[:, :, :, 11].reshape(3, 3)\n",
    "#filters[:, :, :, 0].reshape(3, 3, 4)"
   ]
  },
  {
   "cell_type": "code",
   "execution_count": null,
   "metadata": {
    "collapsed": true
   },
   "outputs": [],
   "source": []
  },
  {
   "cell_type": "code",
   "execution_count": null,
   "metadata": {
    "collapsed": true
   },
   "outputs": [],
   "source": []
  },
  {
   "cell_type": "code",
   "execution_count": null,
   "metadata": {
    "collapsed": true
   },
   "outputs": [],
   "source": []
  },
  {
   "cell_type": "code",
   "execution_count": 221,
   "metadata": {},
   "outputs": [
    {
     "data": {
      "text/plain": [
       "0"
      ]
     },
     "execution_count": 221,
     "metadata": {},
     "output_type": "execute_result"
    }
   ],
   "source": [
    "inp = replay_memory[-1][0]"
   ]
  },
  {
   "cell_type": "code",
   "execution_count": 510,
   "metadata": {},
   "outputs": [
    {
     "name": "stdout",
     "output_type": "stream",
     "text": [
      "Wall time: 76 ms\n"
     ]
    }
   ],
   "source": [
    "%%time\n",
    "picture_1 = pixelization_v2(aeroflot_x, aeroflot_y, parameters)"
   ]
  },
  {
   "cell_type": "code",
   "execution_count": 512,
   "metadata": {},
   "outputs": [
    {
     "data": {
      "text/plain": [
       "(7, 6)"
      ]
     },
     "execution_count": 512,
     "metadata": {},
     "output_type": "execute_result"
    }
   ],
   "source": [
    "picture_1.shape"
   ]
  },
  {
   "cell_type": "code",
   "execution_count": 548,
   "metadata": {},
   "outputs": [
    {
     "data": {
      "text/plain": [
       "array([[ 1.],\n",
       "       [ 0.],\n",
       "       [ 0.],\n",
       "       [ 3.],\n",
       "       [ 2.],\n",
       "       [ 2.]])"
      ]
     },
     "execution_count": 548,
     "metadata": {},
     "output_type": "execute_result"
    }
   ],
   "source": [
    "picture_1[5, :]"
   ]
  },
  {
   "cell_type": "code",
   "execution_count": 356,
   "metadata": {
    "collapsed": true
   },
   "outputs": [],
   "source": []
  },
  {
   "cell_type": "code",
   "execution_count": 357,
   "metadata": {
    "collapsed": true
   },
   "outputs": [],
   "source": []
  },
  {
   "cell_type": "code",
   "execution_count": null,
   "metadata": {
    "collapsed": true
   },
   "outputs": [],
   "source": []
  },
  {
   "cell_type": "code",
   "execution_count": null,
   "metadata": {
    "collapsed": true
   },
   "outputs": [],
   "source": []
  },
  {
   "cell_type": "code",
   "execution_count": null,
   "metadata": {
    "collapsed": true
   },
   "outputs": [],
   "source": []
  },
  {
   "cell_type": "code",
   "execution_count": null,
   "metadata": {
    "collapsed": true
   },
   "outputs": [],
   "source": []
  },
  {
   "cell_type": "code",
   "execution_count": null,
   "metadata": {
    "collapsed": true
   },
   "outputs": [],
   "source": []
  },
  {
   "cell_type": "code",
   "execution_count": null,
   "metadata": {
    "collapsed": true
   },
   "outputs": [],
   "source": []
  },
  {
   "cell_type": "code",
   "execution_count": null,
   "metadata": {
    "collapsed": true
   },
   "outputs": [],
   "source": []
  },
  {
   "cell_type": "code",
   "execution_count": null,
   "metadata": {
    "collapsed": true
   },
   "outputs": [],
   "source": []
  },
  {
   "cell_type": "code",
   "execution_count": 405,
   "metadata": {},
   "outputs": [
    {
     "data": {
      "text/plain": [
       "array([[  6.53922844,   0.        ,   0.        ,   7.80634499,\n",
       "          7.30447292,   3.78879094,  11.14229012,  11.93689919,\n",
       "          4.98499155,   5.99331045,   7.56705952,   4.97728157,\n",
       "          7.87488127,   0.        ,  13.27569866,   6.92039585,\n",
       "          0.        ,   4.96320534,   8.07557678,  11.78556919,\n",
       "         13.18387508,   9.10807705,   5.56552172,   7.45903015,\n",
       "         15.27207088,   6.32335901,   4.55224133,   5.45091486,\n",
       "          9.23403835,   5.23410654,   5.97049475,   2.63473272,\n",
       "          0.        ,   7.08221531,   3.95775652,   7.56428432,\n",
       "          6.17845583,   3.91580534,   7.89203548,   3.77617788,\n",
       "          0.        ,   5.40313768,   6.6367588 ,   7.64022684,\n",
       "          9.9065752 ,   8.51534081,   8.67140293,   4.50644112,\n",
       "          9.50450325,   0.        ,   8.16275883,  15.68370533,\n",
       "          6.00693178,   9.38634014,  14.23967934,   7.04720116,\n",
       "          5.5672493 ,   5.11613989,   7.88436174,  10.19739342,\n",
       "          5.74646759,   2.77500272,   7.94182301,   0.        ,\n",
       "          2.9304986 ,   3.66773391,   6.0057025 ,   3.27339363,\n",
       "          5.07459259,   1.80954266,   1.1157403 ]], dtype=float32)"
      ]
     },
     "execution_count": 405,
     "metadata": {},
     "output_type": "execute_result"
    }
   ],
   "source": [
    "predictions"
   ]
  },
  {
   "cell_type": "code",
   "execution_count": null,
   "metadata": {
    "collapsed": true
   },
   "outputs": [],
   "source": []
  },
  {
   "cell_type": "code",
   "execution_count": 110,
   "metadata": {
    "collapsed": true
   },
   "outputs": [],
   "source": [
    "for move, pred in enumerate(predictions.reshape(-1)):\n",
    "    if (pred > 0):\n",
    "        print(move + 1, pred)"
   ]
  },
  {
   "cell_type": "code",
   "execution_count": 132,
   "metadata": {},
   "outputs": [
    {
     "data": {
      "text/plain": [
       "(1, 2, 'right')"
      ]
     },
     "execution_count": 132,
     "metadata": {},
     "output_type": "execute_result"
    }
   ],
   "source": [
    "process_move_71(38)"
   ]
  },
  {
   "cell_type": "code",
   "execution_count": 433,
   "metadata": {
    "collapsed": true
   },
   "outputs": [],
   "source": [
    "\n"
   ]
  },
  {
   "cell_type": "code",
   "execution_count": 471,
   "metadata": {
    "collapsed": true
   },
   "outputs": [],
   "source": [
    "tmp = pixelization_v2(aeroflot_x, aeroflot_y, parameters)"
   ]
  },
  {
   "cell_type": "code",
   "execution_count": 473,
   "metadata": {},
   "outputs": [
    {
     "data": {
      "text/plain": [
       "array([[ 0.25,  0.5 ,  0.75,  0.25,  1.  ,  0.25],\n",
       "       [ 1.  ,  0.5 ,  1.  ,  0.5 ,  1.  ,  1.  ],\n",
       "       [ 0.75,  1.  ,  0.5 ,  0.25,  0.25,  0.5 ],\n",
       "       [ 1.  ,  0.25,  0.5 ,  1.  ,  0.25,  0.5 ],\n",
       "       [ 0.25,  0.75,  0.25,  1.  ,  1.  ,  0.75],\n",
       "       [ 1.  ,  0.5 ,  1.  ,  0.5 ,  0.5 ,  0.75],\n",
       "       [ 1.  ,  0.75,  0.5 ,  0.5 ,  1.  ,  1.  ]])"
      ]
     },
     "execution_count": 473,
     "metadata": {},
     "output_type": "execute_result"
    }
   ],
   "source": [
    "tmp.reshape(7, 6)"
   ]
  },
  {
   "cell_type": "code",
   "execution_count": 489,
   "metadata": {
    "collapsed": true
   },
   "outputs": [],
   "source": [
    "cnt = len(replay_memory)\n",
    "\n",
    "for item in range(1770, cnt):\n",
    "    xxx = (replay_memory[item][0] + 1) / 4.0\n",
    "    yyy = (replay_memory[item][3] + 1) / 4.0\n",
    "    \n",
    "    tmp.append( (xxx, replay_memory[item][1], replay_memory[item][2], yyy) )"
   ]
  },
  {
   "cell_type": "code",
   "execution_count": 492,
   "metadata": {},
   "outputs": [
    {
     "data": {
      "text/plain": [
       "array([[ 1.  ,  0.75,  1.  ,  1.  ,  0.75,  1.  ],\n",
       "       [ 0.5 ,  0.25,  0.75,  0.75,  0.5 ,  0.5 ],\n",
       "       [ 0.5 ,  0.75,  0.75,  0.5 ,  1.  ,  0.75],\n",
       "       [ 0.75,  0.5 ,  0.25,  0.75,  1.  ,  0.75],\n",
       "       [ 0.75,  0.75,  0.25,  0.5 ,  0.75,  1.  ],\n",
       "       [ 0.25,  0.5 ,  0.5 ,  0.75,  0.75,  1.  ],\n",
       "       [ 0.75,  1.  ,  0.25,  0.5 ,  0.5 ,  0.25]])"
      ]
     },
     "execution_count": 492,
     "metadata": {},
     "output_type": "execute_result"
    }
   ],
   "source": [
    "tmp[-1][3].reshape(7, 6)"
   ]
  },
  {
   "cell_type": "code",
   "execution_count": 560,
   "metadata": {},
   "outputs": [
    {
     "name": "stdout",
     "output_type": "stream",
     "text": [
      "3325\n"
     ]
    },
    {
     "data": {
      "text/plain": [
       "-1"
      ]
     },
     "execution_count": 560,
     "metadata": {},
     "output_type": "execute_result"
    }
   ],
   "source": [
    "get_current_score(aeroflot_x, aeroflot_y, parameters)"
   ]
  },
  {
   "cell_type": "code",
   "execution_count": 565,
   "metadata": {
    "collapsed": true
   },
   "outputs": [],
   "source": [
    "ret = check_if_new_game(aeroflot_x, aeroflot_y, parameters)"
   ]
  },
  {
   "cell_type": "code",
   "execution_count": 589,
   "metadata": {},
   "outputs": [
    {
     "data": {
      "text/plain": [
       "array([161, 161, 161, 161, 161, 161, 241, 254, 252, 249, 171, 161, 159,\n",
       "       140, 140, 140, 140, 140, 140, 140, 140, 140, 140, 140, 140, 140, 140], dtype=uint8)"
      ]
     },
     "execution_count": 589,
     "metadata": {},
     "output_type": "execute_result"
    }
   ],
   "source": [
    "ret[7, 5:-5]"
   ]
  },
  {
   "cell_type": "code",
   "execution_count": 590,
   "metadata": {},
   "outputs": [
    {
     "data": {
      "text/plain": [
       "array([161, 161, 161, 161, 162, 161, 175, 251, 252, 216, 163, 161, 161,\n",
       "       145, 140, 140, 140, 140, 140, 140, 140, 140, 140, 140, 140, 140, 140], dtype=uint8)"
      ]
     },
     "execution_count": 590,
     "metadata": {},
     "output_type": "execute_result"
    }
   ],
   "source": [
    "parameters[\"Game_Starter\"][7, 5:-5]"
   ]
  },
  {
   "cell_type": "markdown",
   "metadata": {},
   "source": [
    "### Архитектура сети"
   ]
  },
  {
   "cell_type": "code",
   "execution_count": 127,
   "metadata": {},
   "outputs": [
    {
     "name": "stdout",
     "output_type": "stream",
     "text": [
      "_________________________________________________________________\n",
      "Layer (type)                 Output Shape              Param #   \n",
      "=================================================================\n",
      "input_1 (InputLayer)         (None, 7, 6, 4)           0         \n",
      "_________________________________________________________________\n",
      "zero_padding2d_1 (ZeroPaddin (None, 9, 8, 4)           0         \n",
      "_________________________________________________________________\n",
      "conv0 (Conv2D)               (None, 7, 6, 32)          1184      \n",
      "_________________________________________________________________\n",
      "activation_1 (Activation)    (None, 7, 6, 32)          0         \n",
      "_________________________________________________________________\n",
      "conv1 (Conv2D)               (None, 5, 4, 64)          18496     \n",
      "_________________________________________________________________\n",
      "activation_2 (Activation)    (None, 5, 4, 64)          0         \n",
      "_________________________________________________________________\n",
      "flatten_1 (Flatten)          (None, 1280)              0         \n",
      "_________________________________________________________________\n",
      "fc0 (Dense)                  (None, 256)               327936    \n",
      "_________________________________________________________________\n",
      "activation_3 (Activation)    (None, 256)               0         \n",
      "_________________________________________________________________\n",
      "fc1 (Dense)                  (None, 71)                18247     \n",
      "=================================================================\n",
      "Total params: 365,863\n",
      "Trainable params: 365,863\n",
      "Non-trainable params: 0\n",
      "_________________________________________________________________\n"
     ]
    }
   ],
   "source": [
    "aero_cnn.summary()"
   ]
  },
  {
   "cell_type": "markdown",
   "metadata": {
    "collapsed": true
   },
   "source": [
    "### Обучение сети оффлайн"
   ]
  },
  {
   "cell_type": "code",
   "execution_count": 230,
   "metadata": {
    "scrolled": true
   },
   "outputs": [
    {
     "name": "stdout",
     "output_type": "stream",
     "text": [
      "Wall time: 45min 3s\n"
     ]
    }
   ],
   "source": [
    "%%time\n",
    "\n",
    "seed()\n",
    "\n",
    "# Пенальти за будущие ходы\n",
    "gamma = 0.2\n",
    "\n",
    "for i in range(15000):\n",
    "    samples = rd.sample(replay_memory, 32)\n",
    "    \n",
    "    # Строим X_train\n",
    "    X_train_now = ()\n",
    "    X_train_future = ()\n",
    "\n",
    "    for s in range(32):\n",
    "        X_train_now = X_train_now + (samples[s][0],)\n",
    "        X_train_future = X_train_future + (samples[s][3],)\n",
    "\n",
    "    X_train_now = np.stack(X_train_now, axis=0)\n",
    "    X_train_future = np.stack(X_train_future, axis=0)\n",
    "\n",
    "    # Строим Y_train. На выходе размерность [minibatch, number_of_moves]\n",
    "    Y_train_now = aero_cnn.predict(X_train_now)\n",
    "    Y_train_future = aero_cnn.predict(X_train_future)\n",
    "\n",
    "    for s in range(32):\n",
    "        actn = samples[s][1]\n",
    "        rwrd = samples[s][2]\n",
    "        if (rwrd > 0):\n",
    "            Y_train_now[s, actn - 1] = rwrd + gamma * Y_train_future[s, :].max()\n",
    "        else:\n",
    "            # Если ход нулевой, то предсказывать 0 сразу!\n",
    "            Y_train_now[s, actn - 1] = 0\n",
    "\n",
    "    # Делаем градиентный спуск, подкручиваем веса сети\n",
    "    aero_cnn.fit(X_train_now, Y_train_now, epochs=15, verbose=0)"
   ]
  },
  {
   "cell_type": "markdown",
   "metadata": {},
   "source": [
    "### Вспомогательные процедуры"
   ]
  },
  {
   "cell_type": "code",
   "execution_count": 112,
   "metadata": {},
   "outputs": [
    {
     "name": "stdout",
     "output_type": "stream",
     "text": [
      "Wall time: 480 ms\n"
     ]
    }
   ],
   "source": [
    "%%time\n",
    "#\n",
    "# Конвертация из 1D в 4D\n",
    "#\n",
    "\n",
    "#tmp1 = replay_memory_converter_to_4D(replay_memory)\n",
    "\n",
    "#replay_memory = list(tmp1)"
   ]
  },
  {
   "cell_type": "code",
   "execution_count": 144,
   "metadata": {},
   "outputs": [
    {
     "name": "stdout",
     "output_type": "stream",
     "text": [
      "Number of zero-moves where before and after are not equal: 62\n",
      "Number of non-zero-moves where before and after are  equal: 17\n"
     ]
    }
   ],
   "source": [
    "#\n",
    "# Проверка на некорректные ходы:\n",
    "# - нулевые ходы, но картинка до не равна картинке после\n",
    "# - ненулевые ходы, но картинка до _равна_ картинке после\n",
    "#\n",
    "cnt1 = 0\n",
    "cnt2 = 0\n",
    "\n",
    "for item in replay_memory:\n",
    "    if ((item[2] == 0) and (not np.array_equal(item[0], item[3]))):\n",
    "        cnt1 = cnt1 + 1\n",
    "\n",
    "    if ((item[2] != 0) and (np.array_equal(item[0], item[3]))):\n",
    "        cnt2 = cnt2 + 1\n",
    "\n",
    "print(\"Number of zero-moves where before and after are not equal:\", cnt1)\n",
    "print(\"Number of non-zero-moves where before and after are equal:\", cnt2)"
   ]
  },
  {
   "cell_type": "markdown",
   "metadata": {},
   "source": [
    "### Визуализация картинки и результат применения первого уровня сверточных фильтров"
   ]
  },
  {
   "cell_type": "code",
   "execution_count": 161,
   "metadata": {
    "collapsed": true
   },
   "outputs": [],
   "source": [
    "pic = pixelization_v1(aeroflot_x, aeroflot_y, parameters)"
   ]
  },
  {
   "cell_type": "code",
   "execution_count": 188,
   "metadata": {},
   "outputs": [
    {
     "data": {
      "image/png": "[encoded data removed]",
      "text/plain": [
       "<matplotlib.figure.Figure at 0x1368dbe0>"
      ]
     },
     "metadata": {},
     "output_type": "display_data"
    }
   ],
   "source": [
    "fig, ax = plt.subplots(figsize=(5, 7))\n",
    "\n",
    "ax.set_xlim((0, 10))\n",
    "ax.set_ylim((0, 13))\n",
    "\n",
    "circles = []\n",
    "\n",
    "for ii in range(7):\n",
    "    for jj in range(6):\n",
    "        if (pic[ii, jj, 0] == 1):\n",
    "            clr = \"red\"\n",
    "        elif (pic[ii, jj, 1] == 1):\n",
    "            clr = \"lightgreen\"\n",
    "        elif (pic[ii, jj, 2] == 1):\n",
    "            clr = \"cyan\"\n",
    "        else:\n",
    "            clr = \"purple\"\n",
    "        \n",
    "        circles.append( plt.Circle((jj + 1, 7 - ii), 0.4, color=clr) )\n",
    "\n",
    "for circ in circles:\n",
    "    ax.add_artist(circ)"
   ]
  },
  {
   "cell_type": "code",
   "execution_count": 189,
   "metadata": {
    "collapsed": true
   },
   "outputs": [],
   "source": [
    "padded = np.zeros((9, 8, 4))\n",
    "padded[1:8, 1:7, :] = pic"
   ]
  },
  {
   "cell_type": "code",
   "execution_count": 190,
   "metadata": {
    "collapsed": true
   },
   "outputs": [],
   "source": [
    "for layer in aero_cnn.layers:\n",
    "    if (layer.name == \"conv0\"):\n",
    "        lst = layer.get_weights()\n",
    "        break\n",
    "        \n",
    "filters = lst[0]"
   ]
  },
  {
   "cell_type": "code",
   "execution_count": 199,
   "metadata": {
    "scrolled": true
   },
   "outputs": [
    {
     "data": {
      "text/plain": [
       "array([[-0.0244, -0.8073, -0.539 ,  0.0028, -0.6053, -0.1991],\n",
       "       [-0.6013, -0.1012,  0.1   , -0.3483, -0.4766, -0.2082],\n",
       "       [-0.7524, -0.2067, -0.7808, -0.0785, -0.4087, -0.1699],\n",
       "       [-0.3141, -0.4357, -0.9095, -0.1491, -1.1048,  0.0053],\n",
       "       [-0.1835, -0.4337,  0.1794, -0.482 , -0.2608, -0.2965],\n",
       "       [-0.4604, -0.195 ,  0.0142, -1.6792, -0.7225, -0.0251],\n",
       "       [-0.6835,  0.0386, -0.5734,  0.0364,  0.0818, -0.4982]])"
      ]
     },
     "execution_count": 199,
     "metadata": {},
     "output_type": "execute_result"
    }
   ],
   "source": [
    "filt = filters[:, :, :, 6]\n",
    "\n",
    "result = np.zeros((7, 6))\n",
    "\n",
    "for ii in range(7):\n",
    "    for jj in range(6):\n",
    "        cut = padded[ii:ii+3, jj:jj+3 , :]\n",
    "        result[ii, jj] = np.round(np.sum(np.multiply(cut, filt)), 4)\n",
    "        \n",
    "result.reshape(7, 6)"
   ]
  },
  {
   "cell_type": "markdown",
   "metadata": {},
   "source": [
    "### Визуализация и предсказание"
   ]
  },
  {
   "cell_type": "code",
   "execution_count": 222,
   "metadata": {},
   "outputs": [
    {
     "data": {
      "image/png": "[encoded data removed]",
      "text/plain": [
       "<matplotlib.figure.Figure at 0x13403da0>"
      ]
     },
     "metadata": {},
     "output_type": "display_data"
    }
   ],
   "source": [
    "pic = replay_memory[-1][0]\n",
    "\n",
    "fig, ax = plt.subplots(figsize=(5, 7))\n",
    "\n",
    "ax.set_xlim((0, 10))\n",
    "ax.set_ylim((0, 13))\n",
    "\n",
    "circles = []\n",
    "\n",
    "for ii in range(7):\n",
    "    for jj in range(6):\n",
    "        if (pic[ii, jj, 0] == 1):\n",
    "            clr = \"red\"\n",
    "        elif (pic[ii, jj, 1] == 1):\n",
    "            clr = \"lightgreen\"\n",
    "        elif (pic[ii, jj, 2] == 1):\n",
    "            clr = \"cyan\"\n",
    "        else:\n",
    "            clr = \"purple\"\n",
    "        \n",
    "        circles.append( plt.Circle((jj + 1, 7 - ii), 0.4, color=clr) )\n",
    "\n",
    "for circ in circles:\n",
    "    ax.add_artist(circ)"
   ]
  },
  {
   "cell_type": "code",
   "execution_count": 223,
   "metadata": {
    "collapsed": true
   },
   "outputs": [],
   "source": [
    "predictions = aero_cnn.predict(np.expand_dims(pic, axis=0))"
   ]
  },
  {
   "cell_type": "code",
   "execution_count": 229,
   "metadata": {},
   "outputs": [
    {
     "name": "stdout",
     "output_type": "stream",
     "text": [
      "(2, 1, 'down') :  3.94178\n",
      "(4, 2, 'down') :  3.34667\n",
      "(5, 2, 'down') :  3.55748\n",
      "(6, 2, 'down') :  3.68335\n",
      "(3, 3, 'down') :  3.9456\n",
      "(5, 3, 'down') :  3.03012\n",
      "(6, 3, 'down') :  4.60326\n",
      "(1, 4, 'down') :  4.72527\n",
      "(1, 5, 'down') :  3.51953\n",
      "(4, 5, 'down') :  3.50174\n",
      "(2, 1, 'right') :  4.24674\n",
      "(4, 3, 'right') :  4.91714\n",
      "(5, 3, 'right') :  5.93266\n",
      "(5, 5, 'right') :  4.35883\n",
      "(6, 2, 'right') :  4.23376\n",
      "(6, 4, 'right') :  3.75552\n"
     ]
    }
   ],
   "source": [
    "for mv, pr in enumerate(predictions.reshape(71)):\n",
    "    if (pr > 3):\n",
    "        print(process_move_71(mv), \": \", pr)"
   ]
  },
  {
   "cell_type": "code",
   "execution_count": null,
   "metadata": {
    "collapsed": true
   },
   "outputs": [],
   "source": []
  }
 ],
 "metadata": {
  "kernelspec": {
   "display_name": "Python 3",
   "language": "python",
   "name": "python3"
  },
  "language_info": {
   "codemirror_mode": {
    "name": "ipython",
    "version": 3
   },
   "file_extension": ".py",
   "mimetype": "text/x-python",
   "name": "python",
   "nbconvert_exporter": "python",
   "pygments_lexer": "ipython3",
   "version": "3.6.2"
  }
 },
 "nbformat": 4,
 "nbformat_minor": 2
}
