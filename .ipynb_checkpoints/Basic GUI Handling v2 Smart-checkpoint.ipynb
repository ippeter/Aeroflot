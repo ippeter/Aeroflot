{
 "cells": [
  {
   "cell_type": "code",
   "execution_count": 1,
   "metadata": {},
   "outputs": [
    {
     "name": "stderr",
     "output_type": "stream",
     "text": [
      "Using TensorFlow backend.\n"
     ]
    },
    {
     "name": "stdout",
     "output_type": "stream",
     "text": [
      "Populating the interactive namespace from numpy and matplotlib\n"
     ]
    },
    {
     "name": "stderr",
     "output_type": "stream",
     "text": [
      "C:\\ProgramData\\Anaconda3\\lib\\site-packages\\IPython\\core\\magics\\pylab.py:160: UserWarning: pylab import has clobbered these variables: ['uniform', 'sample', 'seed', 'randint']\n",
      "`%matplotlib` prevents importing * from pylab and numpy\n",
      "  \"\\n`%matplotlib` prevents importing * from pylab and numpy\"\n"
     ]
    }
   ],
   "source": [
    "import win32gui\n",
    "import win32api\n",
    "import win32con\n",
    "import pickle\n",
    "import glob\n",
    "import time\n",
    "\n",
    "import random as rd\n",
    "from random import randint, uniform, sample, seed\n",
    "\n",
    "import tensorflow as tf\n",
    "import numpy as np\n",
    "\n",
    "from PIL import Image, ImageDraw, ImageGrab\n",
    "from skimage import io\n",
    "\n",
    "from keras.layers import Input, Add, Dense, Activation, ZeroPadding2D, BatchNormalization, Flatten, Conv2D, AveragePooling2D, MaxPooling2D \n",
    "from keras.models import Model, load_model\n",
    "\n",
    "import keras.backend as K\n",
    "\n",
    "import matplotlib.pyplot as plt\n",
    "%pylab inline"
   ]
  },
  {
   "cell_type": "code",
   "execution_count": null,
   "metadata": {
    "collapsed": true
   },
   "outputs": [],
   "source": []
  },
  {
   "cell_type": "markdown",
   "metadata": {},
   "source": [
    "### Вспомогательные и тестовые функции"
   ]
  },
  {
   "cell_type": "code",
   "execution_count": 2,
   "metadata": {},
   "outputs": [],
   "source": [
    "def callback(hwnd, extra):\n",
    "    \"\"\"\n",
    "    Detects position and size of the Vysor application window\n",
    "    Example copied from Stackoverflow\n",
    "    Input:\n",
    "    - hwnd: unknown\n",
    "    - extra: nothing\n",
    "    Output: nothing\n",
    "    \"\"\"\n",
    "    rect = win32gui.GetWindowRect(hwnd)\n",
    "    x = rect[0]\n",
    "    y = rect[1]\n",
    "    w = rect[2] - x\n",
    "    h = rect[3] - y\n",
    "    \n",
    "    win_name = win32gui.GetWindowText(hwnd)\n",
    "    \n",
    "    if (win_name == \"FRD L19\"):\n",
    "        print(\"Window %s:\" % win_name)\n",
    "        print(\"\\tLocation: (%d, %d)\" % (x, y))\n",
    "        print(\"\\t    Size: (%d, %d)\" % (w, h))\n",
    "        \n",
    "        if ((x >= 0) and (y >= 0)):\n",
    "            start_box_left_top_x = x + 260\n",
    "            start_box_left_top_y = y + 680\n",
    "\n",
    "            start_box_right_bottom_x = start_box_left_top_x + 45\n",
    "            start_box_right_bottom_y = start_box_left_top_y + 55\n",
    "\n",
    "            #h_x, h_y = win32api.GetCursorPos()\n",
    "            #print(h_x, h_y)\n",
    "\n",
    "            #im = pyscreenshot.grab(bbox=(start_box_left_top_x, start_box_left_top_y, start_box_right_bottom_x, start_box_right_bottom_y))\n",
    "            #im.show()\n",
    "            #im.save(\"GameStarter.png\")\n",
    "\n",
    "win32gui.EnumWindows(callback, None)"
   ]
  },
  {
   "cell_type": "code",
   "execution_count": null,
   "metadata": {
    "collapsed": true
   },
   "outputs": [],
   "source": []
  },
  {
   "cell_type": "markdown",
   "metadata": {},
   "source": [
    "### Основные функции"
   ]
  },
  {
   "cell_type": "code",
   "execution_count": 3,
   "metadata": {
    "collapsed": true
   },
   "outputs": [],
   "source": [
    "# Окно приложения, левый верхний угол: 663 0\n",
    "# Центр блюда в ряду 1, колонке 1: 727 350\n",
    "\n",
    "def fix_window_coordinates_and_size(window_name, use_external_screen=True):\n",
    "    \"\"\"\n",
    "    Returns coordinates of the left top corner of the window\n",
    "    Input:\n",
    "    - window_name: target window name, string\n",
    "    Output:\n",
    "    - x: x coordinate, int\n",
    "    - y: y coordinate, int\n",
    "    - w: window width (over the X axis)\n",
    "    - h: window height (over the Y axis)\n",
    "    \"\"\"\n",
    "    \n",
    "    # Get window handle\n",
    "    win_handle = win32gui.FindWindow(None, window_name)\n",
    "    \n",
    "    assert win_handle, \"Window not found!\"\n",
    "\n",
    "    # Get window coordinates\n",
    "    rect = win32gui.GetWindowRect(win_handle)\n",
    "    x = rect[0]\n",
    "    y = rect[1]\n",
    "    w = rect[2] - x\n",
    "    h = rect[3] - y\n",
    "\n",
    "    if (use_external_screen):\n",
    "        win32gui.MoveWindow(win_handle, 600, 0, 380, 760, True)\n",
    "        result = (600, 0, 380, 760)\n",
    "    else:\n",
    "        win32gui.MoveWindow(win_handle, 900, 0, 380, 760, True)\n",
    "        result = (900, 0, 380, 760)\n",
    "    \n",
    "    return result\n",
    "\n",
    "\n",
    "def check_if_new_game(x, y, parameters):\n",
    "    \"\"\"\n",
    "    Checks if there is a new game screen with the start new game triangle\n",
    "    Input:\n",
    "    - x: left top corner x coordinate of the application, int\n",
    "    - y: left top corner y coordinate of the application, int\n",
    "    - parameters: dict with parameters incl. Game_Starter ethalon box, dict\n",
    "    Output:\n",
    "    - result: boolean. True if there is a new game screen, False otherwise\n",
    "    \"\"\"\n",
    "\n",
    "    # Get part of the window, where the game starter circle/triangle is expected\n",
    "    game_starter = ImageGrab.grab(bbox=(x + 172, y + 481, x + 209, y + 519))\n",
    "    game_starter = game_starter.convert(\"L\")\n",
    "    game_starter = np.array(game_starter)\n",
    "    \n",
    "    # Load ethalon game starter box\n",
    "    ethalon = parameters[\"Game_Starter\"]\n",
    "    \n",
    "    # Check them\n",
    "    tmp2 = np.abs(game_starter.astype(int) - ethalon.astype(int))\n",
    "    difference = tmp2.sum()    \n",
    "    \n",
    "    if (difference < 300.):\n",
    "        print(\"We can start a new game\")\n",
    "        result = True\n",
    "    else:\n",
    "        print(\"Game is progress, difference =\", difference)\n",
    "        result = False\n",
    "    \n",
    "    return result\n",
    "\n",
    "\n",
    "def press_start(x, y):\n",
    "    \"\"\"\n",
    "    Presses the Start New Game triangle\n",
    "    Input:\n",
    "    - x: top left corner x coordinate of the window, int\n",
    "    - y: top left corner y coordinate of the window, int\n",
    "    Output:\n",
    "    - True\n",
    "    \"\"\"\n",
    "\n",
    "    x_res = win32api.GetSystemMetrics(0)\n",
    "    y_res = win32api.GetSystemMetrics(1)\n",
    "    \n",
    "    start_x = x + 172 + 19\n",
    "    start_y = y + 481 + 19\n",
    "    \n",
    "    nx = int(start_x * 65535 / x_res)\n",
    "    ny = int(start_y * 65535 / y_res)\n",
    "    \n",
    "    win32api.mouse_event(win32con.MOUSEEVENTF_ABSOLUTE | win32con.MOUSEEVENTF_MOVE, nx, ny, 0, 0)\n",
    "    win32api.Sleep(200)\n",
    "    win32api.mouse_event(win32con.MOUSEEVENTF_ABSOLUTE | win32con.MOUSEEVENTF_LEFTDOWN, nx, ny, 0, 0)\n",
    "    win32api.Sleep(200)\n",
    "    win32api.mouse_event(win32con.MOUSEEVENTF_ABSOLUTE | win32con.MOUSEEVENTF_LEFTUP, nx, ny, 0, 0)\n",
    "    win32api.Sleep(500)\n",
    "    \n",
    "    return True\n",
    "\n",
    "\n",
    "def press_next_game(x, y):\n",
    "    \"\"\"\n",
    "    Presses the Play Again button\n",
    "    Input:\n",
    "    - x: top left corner x coordinate of the window, int\n",
    "    - y: top left corner y coordinate of the window, int\n",
    "    Output:\n",
    "    - True\n",
    "    \"\"\"\n",
    "\n",
    "    x_res = win32api.GetSystemMetrics(0)\n",
    "    y_res = win32api.GetSystemMetrics(1)\n",
    "    \n",
    "    start_x = x + 180\n",
    "    start_y = y + 480\n",
    "    \n",
    "    nx = int(start_x * 65535 / x_res)\n",
    "    ny = int(start_y * 65535 / y_res)\n",
    "    \n",
    "    win32api.mouse_event(win32con.MOUSEEVENTF_ABSOLUTE | win32con.MOUSEEVENTF_MOVE, nx, ny, 0, 0)\n",
    "    win32api.Sleep(200)\n",
    "    win32api.mouse_event(win32con.MOUSEEVENTF_ABSOLUTE | win32con.MOUSEEVENTF_LEFTDOWN, nx, ny, 0, 0)\n",
    "    win32api.Sleep(200)\n",
    "    win32api.mouse_event(win32con.MOUSEEVENTF_ABSOLUTE | win32con.MOUSEEVENTF_LEFTUP, nx, ny, 0, 0)\n",
    "    win32api.Sleep(500)\n",
    "    \n",
    "    return True\n",
    "\n",
    "\n",
    "def get_1_digit_score(score, parameters):\n",
    "    \"\"\"\n",
    "    Extracts one digit score (3-9)\n",
    "    Input:\n",
    "    - score: PIL Image with the score\n",
    "    - parameters: dict with parameters incl. ethalon digits, dict\n",
    "    Output:\n",
    "    - score, positive if score found, int. -1 otherwise.\n",
    "    \"\"\"\n",
    "    # Load ethalon large digits\n",
    "    ethalon_single = parameters[\"Ethalon_Single\"]\n",
    "    \n",
    "    # Crop the digit\n",
    "    digit = np.array(score.crop((13, 9, 23, 25)))    \n",
    "    \n",
    "    # Find the best possible ethalon digit\n",
    "    tmp2 = np.abs(digit.astype(int) - ethalon_single.astype(int))\n",
    "    result = tmp2.sum(axis=(1, 2))\n",
    "    \n",
    "    if (np.min(result) > 500.):\n",
    "        choice = -1\n",
    "    else:\n",
    "        choice = np.argmin(result)    \n",
    "    \n",
    "    return choice\n",
    "\n",
    "\n",
    "def get_2_digits_score(score, parameters):\n",
    "    \"\"\"\n",
    "    Extracts two digits score (xx)\n",
    "    Input:\n",
    "    - score: PIL Image with the score\n",
    "    - parameters: dict with parameters incl. ethalon digits, dict\n",
    "    Output:\n",
    "    - score, positive if score found, int. -1 otherwise.\n",
    "    \"\"\"\n",
    "    \n",
    "    # Load ethalon large digits\n",
    "    ethalon_large_left = parameters[\"Ethalon_Large_Left\"]\n",
    "    ethalon_large_right = parameters[\"Ethalon_Large_Right\"]\n",
    "\n",
    "    # Crop the digits\n",
    "    left_digit = np.array(score.crop((6, 9, 16, 25) ))\n",
    "    right_digit = np.array(score.crop((19, 9, 29, 25)))\n",
    "    \n",
    "    # Find the best possible left ethalon digit\n",
    "    tmp2 = np.abs(left_digit.astype(int) - ethalon_large_left.astype(int))\n",
    "    result = tmp2.sum(axis=(1, 2))\n",
    "    \n",
    "    if (np.min(result) > 500.):\n",
    "        return -1\n",
    "    \n",
    "    left_choice = np.argmin(result)\n",
    "    \n",
    "    # Find the best possible right ethalon digit\n",
    "    tmp2 = np.abs(right_digit.astype(int) - ethalon_large_right.astype(int))\n",
    "    result = tmp2.sum(axis=(1, 2))\n",
    "    \n",
    "    right_choice = np.argmin(result)\n",
    "    \n",
    "    return left_choice*10 + right_choice\n",
    "\n",
    "\n",
    "def get_3_digits_score(score, parameters):\n",
    "    \"\"\"\n",
    "    Extracts three digits score (xxx)\n",
    "    Input:\n",
    "    - score: PIL Image with the score\n",
    "    - parameters: dict with parameters incl. ethalon digits, dict\n",
    "    Output:\n",
    "    - score, positive if score found, int. -1 otherwise.\n",
    "    \"\"\"\n",
    "    # Load ethalon large digits\n",
    "    ethalon_small_left = parameters[\"Ethalon_Small_Left\"]\n",
    "    ethalon_small_middle = parameters[\"Ethalon_Small_Middle\"]\n",
    "    ethalon_small_right = parameters[\"Ethalon_Small_Right\"]\n",
    "    \n",
    "    # Crop the digits\n",
    "    left_digit = np.array(score.crop((4, 12, 12, 23)))\n",
    "    middle_digit = np.array(score.crop((14, 12, 22, 23)))\n",
    "    right_digit = np.array(score.crop((23, 12, 31, 23)))\n",
    "    \n",
    "    # Find the best possible left ethalon digit\n",
    "    tmp2 = np.abs(left_digit.astype(int) - ethalon_small_left.astype(int))\n",
    "    result = tmp2.sum(axis=(1, 2))\n",
    "    \n",
    "    if (np.min(result) > 500.):\n",
    "        return -1\n",
    "    \n",
    "    left_choice = np.argmin(result)\n",
    "    \n",
    "    # Find the best possible middle ethalon digit\n",
    "    tmp2 = np.abs(middle_digit.astype(int) - ethalon_small_middle.astype(int))\n",
    "    result = tmp2.sum(axis=(1, 2))\n",
    "    middle_choice = np.argmin(result)\n",
    "    \n",
    "    # Find the best possible right ethalon digit\n",
    "    tmp2 = np.abs(right_digit.astype(int) - ethalon_small_right.astype(int))\n",
    "    result = tmp2.sum(axis=(1, 2))\n",
    "    right_choice = np.argmin(result)\n",
    "    \n",
    "    return left_choice*100 + middle_choice*10 + right_choice\n",
    "\n",
    "\n",
    "def get_current_score(x, y, parameters):\n",
    "    \"\"\"\n",
    "    Gets current score. Wrapper for calls to get_1_digit_score, get_2_digits_score, get_3_digits_score\n",
    "    Input:\n",
    "    - x: top left corner x coordinate of the application\n",
    "    - y: top left corner y coordinate of the application\n",
    "    - parameters: dict with parameters incl. ethalon digits, dict\n",
    "    Output:\n",
    "    - score, int\n",
    "    \"\"\"\n",
    "    \n",
    "    # Get the score plate\n",
    "    img_score = ImageGrab.grab(bbox=(x + 269, y + 654, x + 304, y + 689))\n",
    "    img_bw = img_score.convert(\"L\")\n",
    "    \n",
    "    # Get the score based on the number of digits\n",
    "    three_digits_score = get_3_digits_score(img_bw, parameters)\n",
    "    \n",
    "    if (three_digits_score == -1):\n",
    "        two_digits_score = get_2_digits_score(img_bw, parameters)\n",
    "        \n",
    "        if (two_digits_score == -1):\n",
    "            score = get_1_digit_score(img_bw, parameters)\n",
    "        else:\n",
    "            score = two_digits_score\n",
    "    else:\n",
    "        score = three_digits_score\n",
    "    \n",
    "    return score\n",
    "\n",
    "\n",
    "def process_move_142(move):\n",
    "    \"\"\"\n",
    "    There are total 142 possible moves:\n",
    "    - along the vertical axis: 6 + 5*12 + 6 = 6*12 = 72\n",
    "    - along the norizontal axis: 7 + 4*14 + 7 = 5*14 = 70\n",
    "    \n",
    "    The _move_ parameter:\n",
    "    Vertical moves:\n",
    "    move in 1-6: row 1, column _move_, down\n",
    "    move in 7-66: row (move - 7 // 12) + 2, column (((move - 7) % 12) // 2) + 1, direction _move_ % 2 == 0 - up, otherwise - down\n",
    "    move in 67-72: row 7, column (move - 66), up\n",
    "    \n",
    "    Horizontal moves:\n",
    "    move in 73-79: row (move - 72), column 1, right\n",
    "    move in 80-135: row ((move - 80) % 14) // 2 + 1, column ((move - 80) // 14) + 2, direction _move_ % 2 == 0 - left, otherwise - right\n",
    "    move in 136-142: row (move - 135), column 6, left    \n",
    "    \n",
    "    Input:\n",
    "    - move: move code, 1-142, int\n",
    "    Output:\n",
    "    - row: row where the moved object located, 1-7, int\n",
    "    - column: row where the moved object located, 1-6, int\n",
    "    - direction: \"up\"/\"down\"/\"left\"/\"right\", string\n",
    "    \"\"\"\n",
    "    # Process move\n",
    "    if (move in range(1, 7)):\n",
    "        row = 1\n",
    "        column = move\n",
    "        direction = \"down\"\n",
    "    elif (move in range(7, 67)):\n",
    "        row = ((move - 7) // 12) + 2\n",
    "        column = (((move - 7) % 12) // 2) + 1\n",
    "        direction = \"up\" if (move % 2 == 0) else \"down\"\n",
    "    elif (move in range(67, 73)):\n",
    "        row = 7\n",
    "        column = move - 66\n",
    "        direction = \"up\"\n",
    "    elif (move in range(73, 80)):\n",
    "        row = move - 72\n",
    "        column = 1\n",
    "        direction = \"right\"\n",
    "    elif (move in range(80, 136)):\n",
    "        row = (((move - 80) % 14) // 2) + 1\n",
    "        column = ((move - 80) // 14) + 2\n",
    "        direction = \"left\" if (move % 2 == 0) else \"right\"\n",
    "    else:\n",
    "        row = move - 135\n",
    "        column = 6\n",
    "        direction = \"left\"\n",
    "    \n",
    "    return row, column, direction\n",
    "\n",
    "\n",
    "def process_move_71(move):\n",
    "    \"\"\"\n",
    "    There are total 71 possible moves:\n",
    "    - along the vertical axis: 6*6 = 36\n",
    "    - along the horizontal axis: 7*5 = 35\n",
    "    - Total 35 + 36 = 71\n",
    "    \n",
    "    The _move_ parameter:\n",
    "    Vertical moves:\n",
    "    move in 1-36: row (move - 1) % 6 + 1, column (move - 1) // 6 + 1, \"down\"\n",
    "    \n",
    "    Horizontal moves:\n",
    "    move in 37-71: row (move - 37) // 5 + 1, column (move - 37) % 5 + 1, \"right\"\n",
    "    \n",
    "    Input:\n",
    "    - move: move code, 1-66, int\n",
    "    Output:\n",
    "    - row: row where the moved object located, 1-7, int\n",
    "    - column: row where the moved object located, 1-6, int\n",
    "    - direction: \"down\"/\"right\", string\n",
    "    \"\"\"\n",
    "    # Process move\n",
    "    if (move in range(1, 37)):\n",
    "        row = (move - 1) % 6 + 1\n",
    "        column = (move - 1) // 6 + 1\n",
    "        direction = \"down\"\n",
    "    else:\n",
    "        # move in 37-71\n",
    "        column = (move - 37) % 5 + 1\n",
    "        row = (move - 37) // 5 + 1\n",
    "        direction = \"right\"\n",
    "    \n",
    "    return row, column, direction\n",
    "\n",
    "\n",
    "def make_move(x, y, number_of_moves, move):\n",
    "    \"\"\"\n",
    "    Physically moves plates: clicks on one plate and drags it in a certain direction\n",
    "    Input:\n",
    "    - x, y: application window coordinates, int\n",
    "    - number_of_moves: either 71 or 142\n",
    "    - move: particular move to make. Either 1<=move<=71, or 1<=move<=142\n",
    "    \"\"\"\n",
    "    if (number_of_moves == 142):\n",
    "        row, column, direction = process_move_142(move)\n",
    "    else:\n",
    "        row, column, direction = process_move_71(move)\n",
    "    \n",
    "    plate_size = 58\n",
    "    first_plate_center_x = x + 18 + 29\n",
    "    first_plate_center_y = y + 229 + 29\n",
    "    \n",
    "    horizontal_margin = 0\n",
    "    vertical_margin = 4\n",
    "\n",
    "    start_x = first_plate_center_x + (column - 1)*(plate_size + horizontal_margin)\n",
    "    start_y = first_plate_center_y + (row - 1)*(plate_size + vertical_margin)\n",
    "    \n",
    "    if (direction == \"down\"):\n",
    "        end_x = start_x\n",
    "        end_y = start_y + plate_size + vertical_margin\n",
    "    elif (direction == \"up\"):\n",
    "        end_x = start_x\n",
    "        end_y = start_y - plate_size - vertical_margin\n",
    "    elif (direction == \"left\"):\n",
    "        end_x = start_x - plate_size - horizontal_margin\n",
    "        end_y = start_y \n",
    "    else:\n",
    "        end_x = start_x + plate_size + horizontal_margin\n",
    "        end_y = start_y \n",
    "\n",
    "    # Now handle the mouse (drag with the left button pressed)\n",
    "    x_res = win32api.GetSystemMetrics(0)\n",
    "    y_res = win32api.GetSystemMetrics(1)\n",
    "    \n",
    "    nx = int(start_x * 65535 / x_res)\n",
    "    ny = int(start_y * 65535 / y_res)\n",
    "    \n",
    "    n_x_dist = int((end_x - start_x) * 65535 / x_res)\n",
    "    n_y_dist = int((end_y - start_y) * 65535 / y_res)\n",
    "    \n",
    "    win32api.mouse_event(win32con.MOUSEEVENTF_ABSOLUTE | win32con.MOUSEEVENTF_MOVE, nx, ny, 0, 0)\n",
    "    win32api.Sleep(300)\n",
    "    win32api.mouse_event(win32con.MOUSEEVENTF_ABSOLUTE | win32con.MOUSEEVENTF_LEFTDOWN, nx, ny, 0, 0)\n",
    "    win32api.Sleep(150)\n",
    "    win32api.mouse_event(win32con.MOUSEEVENTF_ABSOLUTE | win32con.MOUSEEVENTF_MOVE, nx + n_x_dist, ny + n_y_dist, 0, 0)\n",
    "    win32api.Sleep(150)\n",
    "    win32api.mouse_event(win32con.MOUSEEVENTF_ABSOLUTE | win32con.MOUSEEVENTF_LEFTUP, nx + n_x_dist, ny + n_y_dist, 0, 0)\n",
    "    win32api.Sleep(300)\n",
    "        \n",
    "    return\n",
    "\n",
    "\n",
    "#\n",
    "# Pixelization v3.0 Full Scale (including bonus plates detection)\n",
    "# Готовим четырехмерный массив размера 7x6x4, состоящий из 12 классов [red 0-2, green 3-5, blue 6-8, purple 9-11]\n",
    "# Первый класс - обычное людо, второй класс - премиальное из 4 блюд, третий класс - премиальное из 5ти.\n",
    "# Массив цветов в таком порядке: [red, green, blue, purple]\n",
    "# по принципу RGB+Purple\n",
    "#\n",
    "def pixelization_v3(x, y, recon=None):\n",
    "    \"\"\"\n",
    "    Converts picture with plates into 4D matrix [7, 6, 4]\n",
    "    Input:\n",
    "    - x: top left corner x coordinate of the application\n",
    "    - y: top left corner y coordinate of the application\n",
    "    - recon: CNN which will detect color and type\n",
    "    Output:\n",
    "    - np.array, shape = [7, 6, 4]\n",
    "    \"\"\"\n",
    "    \n",
    "    plate_size = 58\n",
    "    horizontal_margin = 0\n",
    "    vertical_margin = 4\n",
    "    \n",
    "    result = np.zeros((7, 6, 4))\n",
    "    tmp = []\n",
    "    \n",
    "    # Get part of the image with plates in a form of 3D matrix\n",
    "    all_plates = np.array( ImageGrab.grab(bbox=(x + 18, y + 229, x + 361, y + 658)) )\n",
    "    \n",
    "    for ii in range(7):\n",
    "        for jj in range(6):\n",
    "            start_x = jj*(plate_size - 1)\n",
    "            start_y = ii*(plate_size + vertical_margin) - 1*int(bool(ii))\n",
    "            end_x = plate_size + jj*(plate_size - 1)\n",
    "            end_y = plate_size + ii*(plate_size + vertical_margin) - 1*int(bool(ii))\n",
    "            \n",
    "            plate = all_plates[start_y:end_y, start_x:end_x, :]\n",
    "            \n",
    "            tmp.append(plate)\n",
    "            \n",
    "    cls = recon.predict(np.stack(tmp, axis=0))\n",
    "    \n",
    "    for ii in range(7):\n",
    "        for jj in range(6):\n",
    "            predicted_class = np.argmax( cls[ii*6 + jj, :] )\n",
    "            result[ii, jj, predicted_class // 3] = (predicted_class % 3) + 1\n",
    "    \n",
    "    return result\n",
    "\n",
    "\n",
    "def Aero_CNN_v5(input_shape = (7, 6, 4)):\n",
    "    \"\"\"\n",
    "    Keras CNN\n",
    "    INPUT -> CONV -> RELU -> CONV -> RELU -> FC -> RELU -> OUTPUT\n",
    "    \"\"\"\n",
    "    # Define the input placeholder as a tensor with shape input_shape. Think of this as your input image!\n",
    "    X_input = Input(input_shape)\n",
    "\n",
    "    # Zero-Padding: pads the border of X_input with zeroes\n",
    "    #X = ZeroPadding2D((2, 2))(X_input)\n",
    "\n",
    "    # CONV -> BN -> RELU Block applied to X\n",
    "    X = Conv2D(128, (3, 3), strides = (1, 1), padding='same', name = 'conv0')(X_input)\n",
    "    X = Activation('relu')(X)\n",
    "\n",
    "    # CONV -> BN -> RELU Block applied to X\n",
    "    X = Conv2D(64, (3, 3), strides = (1, 1), padding='same', name = 'conv1')(X)\n",
    "    X = Activation('relu')(X)\n",
    "    \n",
    "    # FLATTEN X (means convert it to a vector) + FC + RELU\n",
    "    X = Flatten()(X)\n",
    "    X = Dense(64, name='fc0')(X)\n",
    "    X = Activation('relu')(X)\n",
    "    \n",
    "    # FULLYCONNECTED\n",
    "    X = Dense(16, name='fc1')(X)\n",
    "    X = Activation('relu')(X)\n",
    "    \n",
    "    # FULLYCONNECTED\n",
    "    X = Dense(1, name='fc2')(X)\n",
    "    \n",
    "    # Create model. This creates your Keras model instance, you'll use this instance to train/test the model.\n",
    "    model = Model(inputs = X_input, outputs = X, name='Aero_CNN')\n",
    "\n",
    "    return model\n",
    "\n",
    "\n",
    "def swap_two_plates(field, move):\n",
    "    \"\"\"\n",
    "    Virtually moves two plates according to the move\n",
    "    Input:\n",
    "    - field: main matrix of the plates, numpy array, [7, 6, 4]\n",
    "    - move: particular move to make, int, 1<=move<=142\n",
    "    Output:\n",
    "    - new field, numpy array, [7, 6, 4]\n",
    "    \"\"\"\n",
    "    # Process the move from number to coordinates/direction\n",
    "    row, column, direction = process_move_142(move)    \n",
    "    \n",
    "    # Update row/column to start from 0, as they come as 1..7, 1..6\n",
    "    row = row - 1\n",
    "    column = column - 1\n",
    "    \n",
    "    # Swap two neighbor plates\n",
    "    tmp = np.array(field[row, column, :])\n",
    "    \n",
    "    if (direction == \"down\"):\n",
    "        field[row, column, :] = field[row + 1, column, :]\n",
    "        field[row + 1, column, :] = tmp\n",
    "    elif (direction == \"up\"):\n",
    "        field[row, column, :] = field[row - 1, column, :]\n",
    "        field[row - 1, column, :] = tmp\n",
    "    elif (direction == \"left\"):\n",
    "        field[row, column, :] = field[row, column - 1, :]\n",
    "        field[row, column - 1, :] = tmp \n",
    "    else:\n",
    "        field[row, column, :] = field[row, column + 1, :]\n",
    "        field[row, column + 1, :] = tmp \n",
    "\n",
    "    return field\n",
    "\n",
    "\n",
    "def predict_max_score(field, aero_cnn, number_of_moves):\n",
    "    \"\"\"\n",
    "    TODO\n",
    "    \"\"\"\n",
    "    X_data = ()\n",
    "    \n",
    "    for move in range(number_of_moves):\n",
    "        plates = np.array(field)\n",
    "        X_data = X_data + ( swap_two_plates(plates, move + 1), )\n",
    "        \n",
    "    X_data = np.stack(X_data, axis=0)\n",
    "    \n",
    "    prediction = aero_cnn.predict(X_data)\n",
    "    \n",
    "    return prediction.max(), prediction.argmax() + 1"
   ]
  },
  {
   "cell_type": "code",
   "execution_count": null,
   "metadata": {
    "collapsed": true
   },
   "outputs": [],
   "source": []
  },
  {
   "cell_type": "markdown",
   "metadata": {
    "collapsed": true
   },
   "source": [
    "### Main program body"
   ]
  },
  {
   "cell_type": "markdown",
   "metadata": {},
   "source": [
    "#### Эталонные параметры\n",
    "Размер окна, чтобы работало на ноутбуке:  \n",
    "  width = 380  \n",
    "  height = 760  \n",
    "  \n",
    "Положение треугольника Game Starter:  \n",
    "x + 172, y + 481, x + 209, y + 519  \n",
    "  \n",
    "Положение счёта:  \n",
    "x + 269, y + 654, x + 304, y + 689\n",
    "\n",
    "Двухзначный счет:  \n",
    "- левая цифра: (6, 9, 16, 25)  \n",
    "- правая цифра: (19, 9, 29, 25)  \n",
    "\n",
    "Однозначный счет:\n",
    "- цифра: (13, 9, 23, 25)  \n",
    "\n",
    "Трехзначный счет:\n",
    "- левая цифра: (4, 12, 12, 23)  \n",
    "- средняя цифра: (14, 12, 22, 23)  \n",
    "- правая цифра: (23, 12, 31, 23)  \n",
    "\n",
    "Тарелки:  \n",
    "- размер: 58x58  \n",
    "- x центра первой тарелки: x + 18 + 29\n",
    "- y центра второй тарелки: y + 229 + 29\n",
    "- горизонтальная маржа: 0\n",
    "- вертикальная маржа: 4\n"
   ]
  },
  {
   "cell_type": "code",
   "execution_count": 4,
   "metadata": {
    "collapsed": true
   },
   "outputs": [],
   "source": [
    "# Initialize parameters\n",
    "parameters = {}\n",
    "\n",
    "# Game Starter\n",
    "parameters[\"Game_Starter\"] = np.array(Image.open(\"Game_Starter.png\"))\n",
    "\n",
    "# Ethalon Single Digit\n",
    "tmp = []\n",
    "\n",
    "for f in glob.glob(\"Ethalon_Single\\\\S*.png\"):\n",
    "    img = io.imread(f)\n",
    "    tmp.append(img)\n",
    "    parameters[\"Ethalon_Single\"] = np.array(tmp)\n",
    "    \n",
    "# Ethalon Large Digits\n",
    "tmp = []\n",
    "\n",
    "for f in glob.glob(\"Ethalon_Large\\\\L*.png\"):\n",
    "    img = io.imread(f)\n",
    "    tmp.append(img)\n",
    "\n",
    "parameters[\"Ethalon_Large_Left\"] = np.array(tmp)\n",
    "\n",
    "tmp = []\n",
    "    \n",
    "for f in glob.glob(\"Ethalon_Large\\\\R*.png\"):\n",
    "    img = io.imread(f)\n",
    "    tmp.append(img)\n",
    "\n",
    "parameters[\"Ethalon_Large_Right\"] = np.array(tmp)\n",
    "\n",
    "# Ethalon Small Digits\n",
    "tmp = []\n",
    "\n",
    "for f in glob.glob(\"Ethalon_Small\\\\L*.png\"):\n",
    "    img = io.imread(f)\n",
    "    tmp.append(img)\n",
    "\n",
    "parameters[\"Ethalon_Small_Left\"] = np.array(tmp)\n",
    "\n",
    "tmp = []\n",
    "\n",
    "for f in glob.glob(\"Ethalon_Small\\\\M*.png\"):\n",
    "    img = io.imread(f)\n",
    "    tmp.append(img)\n",
    "\n",
    "parameters[\"Ethalon_Small_Middle\"] = np.array(tmp)\n",
    "\n",
    "tmp = []\n",
    "\n",
    "for f in glob.glob(\"Ethalon_Small\\\\R*.png\"):\n",
    "    img = io.imread(f)\n",
    "    tmp.append(img)\n",
    "\n",
    "parameters[\"Ethalon_Small_Right\"] = np.array(tmp)\n",
    "\n",
    "# Load ethalon colors: RGB+Purple\n",
    "with open('colors.pickle', 'rb') as f:\n",
    "    colors = pickle.load(f)\n",
    "    \n",
    "parameters[\"Ethalon_Colors\"] = colors\n",
    "\n",
    "# Load ethalon CNN color+plate_type recognizer\n",
    "recon = load_model('Recognizer_v1.h5')"
   ]
  },
  {
   "cell_type": "code",
   "execution_count": null,
   "metadata": {
    "collapsed": true
   },
   "outputs": [],
   "source": []
  },
  {
   "cell_type": "code",
   "execution_count": 5,
   "metadata": {
    "collapsed": true
   },
   "outputs": [],
   "source": [
    "#\n",
    "# Выравниваем приложение на экране\n",
    "#\n",
    "aeroflot_x, aeroflot_y, aeroflot_width, aeroflot_height = fix_window_coordinates_and_size(\"FRD L19\", use_external_screen=True)\n",
    "\n",
    "assert ((aeroflot_width == 380) and (aeroflot_height == 760)), print(\"Incorrect window size!\")\n"
   ]
  },
  {
   "cell_type": "code",
   "execution_count": null,
   "metadata": {},
   "outputs": [],
   "source": []
  },
  {
   "cell_type": "code",
   "execution_count": null,
   "metadata": {
    "collapsed": true
   },
   "outputs": [],
   "source": []
  },
  {
   "cell_type": "code",
   "execution_count": null,
   "metadata": {
    "collapsed": true
   },
   "outputs": [],
   "source": []
  },
  {
   "cell_type": "code",
   "execution_count": null,
   "metadata": {
    "collapsed": true
   },
   "outputs": [],
   "source": []
  },
  {
   "cell_type": "code",
   "execution_count": null,
   "metadata": {
    "collapsed": true
   },
   "outputs": [],
   "source": []
  },
  {
   "cell_type": "code",
   "execution_count": null,
   "metadata": {
    "collapsed": true
   },
   "outputs": [],
   "source": []
  },
  {
   "cell_type": "code",
   "execution_count": null,
   "metadata": {
    "collapsed": true
   },
   "outputs": [],
   "source": []
  },
  {
   "cell_type": "code",
   "execution_count": null,
   "metadata": {
    "collapsed": true
   },
   "outputs": [],
   "source": []
  },
  {
   "cell_type": "code",
   "execution_count": null,
   "metadata": {
    "collapsed": true
   },
   "outputs": [],
   "source": []
  },
  {
   "cell_type": "code",
   "execution_count": 5,
   "metadata": {
    "collapsed": true
   },
   "outputs": [],
   "source": [
    "# Тут будем хранить историю\n",
    "#replay_memory = []\n",
    "with open('replay_memory_4D.pickle', 'rb') as f:\n",
    "    replay_memory = pickle.load(f)\n",
    "\n",
    "# Число возможных ходов\n",
    "number_of_moves = 142"
   ]
  },
  {
   "cell_type": "code",
   "execution_count": 6,
   "metadata": {
    "collapsed": true
   },
   "outputs": [],
   "source": [
    "# Загрузим ранее созданную модель\n",
    "aero_cnn = load_model('AeroCNN_v5.h5')"
   ]
  },
  {
   "cell_type": "code",
   "execution_count": 7,
   "metadata": {
    "collapsed": true
   },
   "outputs": [],
   "source": [
    "# Количество предсказаний\n",
    "total_num_of_predictions = 0\n",
    "num_of_successful_predictions = 0"
   ]
  },
  {
   "cell_type": "code",
   "execution_count": 216,
   "metadata": {
    "collapsed": true
   },
   "outputs": [],
   "source": [
    "# Готовим модель\n",
    "#aero_cnn = Aero_CNN_v5(input_shape=(7, 6, 4))\n",
    "#aero_cnn.compile(optimizer='adam', loss='mean_absolute_error')"
   ]
  },
  {
   "cell_type": "code",
   "execution_count": 10,
   "metadata": {},
   "outputs": [
    {
     "name": "stdout",
     "output_type": "stream",
     "text": [
      "We can start a new game\n",
      "Non-random move 39. Predicted 8.897000312805176, actual reward 0\n",
      "Non-random move 39. Predicted 8.925999641418457, actual reward 0\n",
      "Non-random move 15. Predicted 7.78000020980835, actual reward 0\n",
      "Non-random move 39. Predicted 6.425000190734863, actual reward 0\n",
      "Non-random move 115. Predicted 6.599999904632568, actual reward 0\n",
      "Non-random move 107. Predicted 6.807000160217285, actual reward 0\n",
      "Handling last move...\n",
      "Game 0 over.\n",
      "---\n"
     ]
    },
    {
     "name": "stderr",
     "output_type": "stream",
     "text": [
      "ERROR:root:Internal Python error in the inspect module.\n",
      "Below is the traceback from this internal error.\n",
      "\n"
     ]
    },
    {
     "name": "stdout",
     "output_type": "stream",
     "text": [
      "Traceback (most recent call last):\n",
      "  File \"C:\\ProgramData\\Anaconda3\\lib\\site-packages\\IPython\\core\\interactiveshell.py\", line 2862, in run_code\n",
      "    exec(code_obj, self.user_global_ns, self.user_ns)\n",
      "  File \"<ipython-input-10-44da60fa24d2>\", line 162, in <module>\n",
      "    win32api.Sleep(5000)\n",
      "KeyboardInterrupt\n",
      "\n",
      "During handling of the above exception, another exception occurred:\n",
      "\n",
      "Traceback (most recent call last):\n",
      "  File \"C:\\ProgramData\\Anaconda3\\lib\\site-packages\\IPython\\core\\interactiveshell.py\", line 1806, in showtraceback\n",
      "    stb = value._render_traceback_()\n",
      "AttributeError: 'KeyboardInterrupt' object has no attribute '_render_traceback_'\n",
      "\n",
      "During handling of the above exception, another exception occurred:\n",
      "\n",
      "Traceback (most recent call last):\n",
      "  File \"C:\\ProgramData\\Anaconda3\\lib\\site-packages\\IPython\\core\\ultratb.py\", line 1090, in get_records\n",
      "    return _fixed_getinnerframes(etb, number_of_lines_of_context, tb_offset)\n",
      "  File \"C:\\ProgramData\\Anaconda3\\lib\\site-packages\\IPython\\core\\ultratb.py\", line 311, in wrapped\n",
      "    return f(*args, **kwargs)\n",
      "  File \"C:\\ProgramData\\Anaconda3\\lib\\site-packages\\IPython\\core\\ultratb.py\", line 345, in _fixed_getinnerframes\n",
      "    records = fix_frame_records_filenames(inspect.getinnerframes(etb, context))\n",
      "  File \"C:\\ProgramData\\Anaconda3\\lib\\inspect.py\", line 1480, in getinnerframes\n",
      "    frameinfo = (tb.tb_frame,) + getframeinfo(tb, context)\n",
      "  File \"C:\\ProgramData\\Anaconda3\\lib\\inspect.py\", line 1438, in getframeinfo\n",
      "    filename = getsourcefile(frame) or getfile(frame)\n",
      "  File \"C:\\ProgramData\\Anaconda3\\lib\\inspect.py\", line 693, in getsourcefile\n",
      "    if getattr(getmodule(object, filename), '__loader__', None) is not None:\n",
      "  File \"C:\\ProgramData\\Anaconda3\\lib\\inspect.py\", line 736, in getmodule\n",
      "    f = getabsfile(module)\n",
      "  File \"C:\\ProgramData\\Anaconda3\\lib\\inspect.py\", line 705, in getabsfile\n",
      "    _filename = getsourcefile(object) or getfile(object)\n",
      "  File \"C:\\ProgramData\\Anaconda3\\lib\\inspect.py\", line 690, in getsourcefile\n",
      "    if os.path.exists(filename):\n",
      "  File \"C:\\ProgramData\\Anaconda3\\lib\\genericpath.py\", line 19, in exists\n",
      "    os.stat(path)\n",
      "KeyboardInterrupt\n"
     ]
    },
    {
     "ename": "KeyboardInterrupt",
     "evalue": "",
     "output_type": "error",
     "traceback": [
      "\u001b[1;31m---------------------------------------------------------------------------\u001b[0m"
     ]
    }
   ],
   "source": [
    "# Максимальный размер памяти\n",
    "max_memory_size = 50000\n",
    "\n",
    "# Вероятность выбора случайного хода\n",
    "epsilon = 0.85\n",
    "\n",
    "# Размер минибатча\n",
    "minibatch = 32\n",
    "\n",
    "# Пенальти за будущие ходы\n",
    "gamma = 0.1\n",
    "\n",
    "# Основной цикл, в котором играем 10 игр\n",
    "for game in range(10):\n",
    "    if (check_if_new_game(aeroflot_x, aeroflot_y, parameters)):\n",
    "        # Press the Start New Game button\n",
    "        press_start(aeroflot_x, aeroflot_y)\n",
    "        win32api.Sleep(1000)\n",
    "    else:\n",
    "        print(\"Something is wrong. Exiting...\")\n",
    "        break\n",
    "\n",
    "    # Делаем 50 ходов. Последний ход нужно будет обработать отдельно. С ним есть нюанс\n",
    "    moves_left = 50\n",
    "    game_score = 0\n",
    "    reward = 0\n",
    "\n",
    "    # Взбодрим генератор случайных чисел\n",
    "    rd.seed()\n",
    "\n",
    "    # Делаем 50 ходов\n",
    "    while (moves_left > 0):\n",
    "        # Смотрим картинку перед ходом\n",
    "        s_before = pixelization_v3(aeroflot_x, aeroflot_y, recon)\n",
    "\n",
    "        # Выбираем ход\n",
    "        prob = rd.uniform(0, 1)\n",
    "\n",
    "        if (prob > epsilon):\n",
    "            # Будем делать неслучайный ход\n",
    "            if (total_num_of_predictions == 50):\n",
    "                print(\">>> Successful predictions ratio:\", num_of_successful_predictions / total_num_of_predictions)\n",
    "                total_num_of_predictions = 0\n",
    "                num_of_successful_predictions = 0\n",
    "            \n",
    "            wise_move_debug_flag = 1\n",
    "            plates = np.array(s_before)\n",
    "            wise_pred, move = predict_max_score(plates, aero_cnn, number_of_moves)\n",
    "            total_num_of_predictions = total_num_of_predictions + 1\n",
    "        else:\n",
    "            # Случайный ход\n",
    "            wise_move_debug_flag = 0\n",
    "            move = rd.randint(1, number_of_moves)\n",
    "\n",
    "        # Делаем собственно ход\n",
    "        make_move(aeroflot_x, aeroflot_y, number_of_moves, move)\n",
    "\n",
    "        if (moves_left > 1):\n",
    "            picture_1 = pixelization_v3(aeroflot_x, aeroflot_y, recon)\n",
    "            win32api.Sleep(1000)\n",
    "            picture_2 = pixelization_v3(aeroflot_x, aeroflot_y, recon)\n",
    "\n",
    "            while (np.array_equal(picture_1, picture_2) == False):\n",
    "                picture_1 = pixelization_v3(aeroflot_x, aeroflot_y, recon)\n",
    "                win32api.Sleep(500)\n",
    "                picture_2 = pixelization_v3(aeroflot_x, aeroflot_y, recon)\n",
    "\n",
    "            # Определяем очки за ход - результат хода\n",
    "            current_score = get_current_score(aeroflot_x, aeroflot_y, parameters)\n",
    "\n",
    "            if (current_score != -1):\n",
    "                if ((game_score == 0) and (current_score == 10)):\n",
    "                        current_score = 0\n",
    "\n",
    "                reward = current_score - game_score\n",
    "                game_score = current_score\n",
    "\n",
    "            # Смотрим картинку после хода\n",
    "            s_after = picture_2\n",
    "\n",
    "        else:\n",
    "            # Это последний пятидесятый ход, его обрабатываем особенным образом\n",
    "            # Тут проблема в том, что экран потухнет, и будет надпись об окончании игры\n",
    "            # Нужно успеть вытащить счет и скрин с финальной разблюдовкой до этого момента\n",
    "            #\n",
    "            print(\"Handling last move...\")\n",
    "            last_move = []\n",
    "            counter = 50\n",
    "\n",
    "            picture_1 = pixelization_v3(aeroflot_x, aeroflot_y, recon)\n",
    "            current_score = get_current_score(aeroflot_x, aeroflot_y, parameters)\n",
    "\n",
    "            while ((current_score != -1) and (counter > 0)):\n",
    "                last_move.append((current_score, picture_1))\n",
    "\n",
    "                picture_1 = pixelization_v3(aeroflot_x, aeroflot_y, recon)\n",
    "                current_score = get_current_score(aeroflot_x, aeroflot_y, parameters)\n",
    "\n",
    "                counter = counter - 1\n",
    "\n",
    "            # Берем финальный счет и финальную картинку\n",
    "            if (counter < 50):\n",
    "                current_score = last_move[-1][0]\n",
    "                reward = current_score - game_score      \n",
    "                s_after = last_move[-1][1]\n",
    "            else:\n",
    "                reward = 0\n",
    "\n",
    "        # Если ход прошел без ошибок и ход успешный, то добавляем ход в память\n",
    "        if ((current_score != -1) and (reward > 0)):\n",
    "            if (len(replay_memory) == max_memory_size):\n",
    "                replay_memory.pop(0)\n",
    "\n",
    "            replay_memory.append((s_before, move, reward, s_after))     \n",
    "            \n",
    "        # DEBUG: отладочная информация по неслучайным ходам\n",
    "        if (wise_move_debug_flag == 1):\n",
    "            if (reward > 0):\n",
    "                num_of_successful_predictions = num_of_successful_predictions + 1\n",
    "            print(\"Non-random move {}. Predicted {}, actual reward {}\".format(move, round(wise_pred, 3), reward))\n",
    "\n",
    "        # Конструируем минибатч\n",
    "        if (len(replay_memory) > minibatch):\n",
    "            if (reward == 0):\n",
    "                # Обязательно включаем ход с нулевым reward в обучение, чтобы избежать зацикливания предсказаний на нём\n",
    "                samples = rd.sample(replay_memory[:-1], minibatch - 1)\n",
    "                samples.append(replay_memory[-1])\n",
    "            else:\n",
    "                samples = rd.sample(replay_memory, minibatch)\n",
    "\n",
    "            #\n",
    "            # Обучаем сеть\n",
    "            #\n",
    "            # Строим X_train и Y_train\n",
    "            X_train = ()\n",
    "            Y_train = np.zeros((minibatch, 1))\n",
    "\n",
    "            for s in range(minibatch):\n",
    "                actn = samples[s][1]\n",
    "                rwrd = samples[s][2]\n",
    "\n",
    "                plates = np.array(samples[s][0])\n",
    "                X_train = X_train + ( swap_two_plates(plates, actn), )\n",
    "                \n",
    "                if (rwrd > 0):\n",
    "                    plates = np.array(samples[s][3])\n",
    "                    Y_train[s, 0] = rwrd + gamma * predict_max_score(plates, aero_cnn, number_of_moves)[0]\n",
    "                else:\n",
    "                    # Если ход нулевой, то предсказывать 0 сразу!\n",
    "                    Y_train[s, 0] = 0\n",
    "                \n",
    "            X_train = np.stack(X_train, axis=0)\n",
    "\n",
    "            # Делаем градиентный спуск, подкручиваем веса сети\n",
    "            aero_cnn.fit(X_train, Y_train, epochs=10, verbose=0)\n",
    "            \n",
    "        #epsilon = epsilon - 0.001\n",
    "        moves_left = moves_left - 1\n",
    "\n",
    "    print(\"Game {} over.\".format(game))\n",
    "    print(\"---\")\n",
    "    win32api.Sleep(5000)\n",
    "    \n",
    "    # Запускаем новую игру, т.е. нажимаем на кнопку \"Еще раз\"\n",
    "    press_next_game(aeroflot_x, aeroflot_y)\n",
    "    win32api.Sleep(2000)"
   ]
  },
  {
   "cell_type": "code",
   "execution_count": null,
   "metadata": {
    "collapsed": true
   },
   "outputs": [],
   "source": []
  },
  {
   "cell_type": "code",
   "execution_count": 12,
   "metadata": {
    "collapsed": true
   },
   "outputs": [],
   "source": [
    "#\n",
    "# Very Important!!!\n",
    "#\n",
    "aero_cnn.save(\"AeroCNN_v5.h5\")\n",
    "\n",
    "#with open('replay_memory_4D.pickle', 'wb') as f:\n",
    "#    pickle.dump(replay_memory, f)"
   ]
  },
  {
   "cell_type": "code",
   "execution_count": 232,
   "metadata": {},
   "outputs": [
    {
     "data": {
      "text/plain": [
       "10"
      ]
     },
     "execution_count": 232,
     "metadata": {},
     "output_type": "execute_result"
    }
   ],
   "source": [
    "get_current_score(aeroflot_x, aeroflot_y, parameters)"
   ]
  },
  {
   "cell_type": "code",
   "execution_count": 6,
   "metadata": {},
   "outputs": [
    {
     "data": {
      "text/plain": [
       "129"
      ]
     },
     "execution_count": 6,
     "metadata": {},
     "output_type": "execute_result"
    }
   ],
   "source": [
    "len(replay_memory)"
   ]
  },
  {
   "cell_type": "code",
   "execution_count": null,
   "metadata": {
    "collapsed": true
   },
   "outputs": [],
   "source": []
  },
  {
   "cell_type": "code",
   "execution_count": null,
   "metadata": {
    "collapsed": true
   },
   "outputs": [],
   "source": []
  },
  {
   "cell_type": "code",
   "execution_count": null,
   "metadata": {
    "collapsed": true
   },
   "outputs": [],
   "source": []
  },
  {
   "cell_type": "code",
   "execution_count": null,
   "metadata": {
    "collapsed": true
   },
   "outputs": [],
   "source": []
  },
  {
   "cell_type": "code",
   "execution_count": null,
   "metadata": {
    "collapsed": true
   },
   "outputs": [],
   "source": []
  },
  {
   "cell_type": "code",
   "execution_count": null,
   "metadata": {
    "collapsed": true
   },
   "outputs": [],
   "source": []
  },
  {
   "cell_type": "code",
   "execution_count": null,
   "metadata": {
    "collapsed": true
   },
   "outputs": [],
   "source": []
  },
  {
   "cell_type": "code",
   "execution_count": null,
   "metadata": {
    "collapsed": true
   },
   "outputs": [],
   "source": []
  },
  {
   "cell_type": "code",
   "execution_count": null,
   "metadata": {
    "collapsed": true
   },
   "outputs": [],
   "source": []
  },
  {
   "cell_type": "code",
   "execution_count": null,
   "metadata": {
    "collapsed": true
   },
   "outputs": [],
   "source": []
  },
  {
   "cell_type": "code",
   "execution_count": 356,
   "metadata": {
    "collapsed": true
   },
   "outputs": [],
   "source": []
  },
  {
   "cell_type": "code",
   "execution_count": 357,
   "metadata": {
    "collapsed": true
   },
   "outputs": [],
   "source": []
  },
  {
   "cell_type": "code",
   "execution_count": null,
   "metadata": {
    "collapsed": true
   },
   "outputs": [],
   "source": []
  },
  {
   "cell_type": "code",
   "execution_count": null,
   "metadata": {
    "collapsed": true
   },
   "outputs": [],
   "source": []
  },
  {
   "cell_type": "code",
   "execution_count": null,
   "metadata": {
    "collapsed": true
   },
   "outputs": [],
   "source": []
  },
  {
   "cell_type": "code",
   "execution_count": null,
   "metadata": {
    "collapsed": true
   },
   "outputs": [],
   "source": []
  },
  {
   "cell_type": "code",
   "execution_count": null,
   "metadata": {
    "collapsed": true
   },
   "outputs": [],
   "source": []
  },
  {
   "cell_type": "code",
   "execution_count": null,
   "metadata": {
    "collapsed": true
   },
   "outputs": [],
   "source": []
  },
  {
   "cell_type": "code",
   "execution_count": null,
   "metadata": {
    "collapsed": true
   },
   "outputs": [],
   "source": []
  },
  {
   "cell_type": "code",
   "execution_count": null,
   "metadata": {
    "collapsed": true
   },
   "outputs": [],
   "source": []
  },
  {
   "cell_type": "code",
   "execution_count": null,
   "metadata": {
    "collapsed": true
   },
   "outputs": [],
   "source": []
  },
  {
   "cell_type": "code",
   "execution_count": null,
   "metadata": {
    "collapsed": true
   },
   "outputs": [],
   "source": []
  },
  {
   "cell_type": "code",
   "execution_count": null,
   "metadata": {
    "collapsed": true
   },
   "outputs": [],
   "source": []
  },
  {
   "cell_type": "code",
   "execution_count": null,
   "metadata": {
    "collapsed": true
   },
   "outputs": [],
   "source": []
  },
  {
   "cell_type": "code",
   "execution_count": 433,
   "metadata": {
    "collapsed": true
   },
   "outputs": [],
   "source": [
    "\n"
   ]
  },
  {
   "cell_type": "code",
   "execution_count": 471,
   "metadata": {
    "collapsed": true
   },
   "outputs": [],
   "source": [
    "tmp = pixelization_v2(aeroflot_x, aeroflot_y, parameters)"
   ]
  },
  {
   "cell_type": "code",
   "execution_count": 473,
   "metadata": {},
   "outputs": [
    {
     "data": {
      "text/plain": [
       "array([[ 0.25,  0.5 ,  0.75,  0.25,  1.  ,  0.25],\n",
       "       [ 1.  ,  0.5 ,  1.  ,  0.5 ,  1.  ,  1.  ],\n",
       "       [ 0.75,  1.  ,  0.5 ,  0.25,  0.25,  0.5 ],\n",
       "       [ 1.  ,  0.25,  0.5 ,  1.  ,  0.25,  0.5 ],\n",
       "       [ 0.25,  0.75,  0.25,  1.  ,  1.  ,  0.75],\n",
       "       [ 1.  ,  0.5 ,  1.  ,  0.5 ,  0.5 ,  0.75],\n",
       "       [ 1.  ,  0.75,  0.5 ,  0.5 ,  1.  ,  1.  ]])"
      ]
     },
     "execution_count": 473,
     "metadata": {},
     "output_type": "execute_result"
    }
   ],
   "source": [
    "tmp.reshape(7, 6)"
   ]
  },
  {
   "cell_type": "code",
   "execution_count": 489,
   "metadata": {
    "collapsed": true
   },
   "outputs": [],
   "source": [
    "cnt = len(replay_memory)\n",
    "\n",
    "for item in range(1770, cnt):\n",
    "    xxx = (replay_memory[item][0] + 1) / 4.0\n",
    "    yyy = (replay_memory[item][3] + 1) / 4.0\n",
    "    \n",
    "    tmp.append( (xxx, replay_memory[item][1], replay_memory[item][2], yyy) )"
   ]
  },
  {
   "cell_type": "code",
   "execution_count": 492,
   "metadata": {},
   "outputs": [
    {
     "data": {
      "text/plain": [
       "array([[ 1.  ,  0.75,  1.  ,  1.  ,  0.75,  1.  ],\n",
       "       [ 0.5 ,  0.25,  0.75,  0.75,  0.5 ,  0.5 ],\n",
       "       [ 0.5 ,  0.75,  0.75,  0.5 ,  1.  ,  0.75],\n",
       "       [ 0.75,  0.5 ,  0.25,  0.75,  1.  ,  0.75],\n",
       "       [ 0.75,  0.75,  0.25,  0.5 ,  0.75,  1.  ],\n",
       "       [ 0.25,  0.5 ,  0.5 ,  0.75,  0.75,  1.  ],\n",
       "       [ 0.75,  1.  ,  0.25,  0.5 ,  0.5 ,  0.25]])"
      ]
     },
     "execution_count": 492,
     "metadata": {},
     "output_type": "execute_result"
    }
   ],
   "source": [
    "tmp[-1][3].reshape(7, 6)"
   ]
  },
  {
   "cell_type": "code",
   "execution_count": 560,
   "metadata": {},
   "outputs": [
    {
     "name": "stdout",
     "output_type": "stream",
     "text": [
      "3325\n"
     ]
    },
    {
     "data": {
      "text/plain": [
       "-1"
      ]
     },
     "execution_count": 560,
     "metadata": {},
     "output_type": "execute_result"
    }
   ],
   "source": [
    "get_current_score(aeroflot_x, aeroflot_y, parameters)"
   ]
  },
  {
   "cell_type": "code",
   "execution_count": 565,
   "metadata": {
    "collapsed": true
   },
   "outputs": [],
   "source": [
    "ret = check_if_new_game(aeroflot_x, aeroflot_y, parameters)"
   ]
  },
  {
   "cell_type": "code",
   "execution_count": 589,
   "metadata": {},
   "outputs": [
    {
     "data": {
      "text/plain": [
       "array([161, 161, 161, 161, 161, 161, 241, 254, 252, 249, 171, 161, 159,\n",
       "       140, 140, 140, 140, 140, 140, 140, 140, 140, 140, 140, 140, 140, 140], dtype=uint8)"
      ]
     },
     "execution_count": 589,
     "metadata": {},
     "output_type": "execute_result"
    }
   ],
   "source": [
    "ret[7, 5:-5]"
   ]
  },
  {
   "cell_type": "code",
   "execution_count": 590,
   "metadata": {},
   "outputs": [
    {
     "data": {
      "text/plain": [
       "array([161, 161, 161, 161, 162, 161, 175, 251, 252, 216, 163, 161, 161,\n",
       "       145, 140, 140, 140, 140, 140, 140, 140, 140, 140, 140, 140, 140, 140], dtype=uint8)"
      ]
     },
     "execution_count": 590,
     "metadata": {},
     "output_type": "execute_result"
    }
   ],
   "source": [
    "parameters[\"Game_Starter\"][7, 5:-5]"
   ]
  },
  {
   "cell_type": "markdown",
   "metadata": {},
   "source": [
    "### Архитектура сети"
   ]
  },
  {
   "cell_type": "code",
   "execution_count": 7,
   "metadata": {},
   "outputs": [
    {
     "name": "stdout",
     "output_type": "stream",
     "text": [
      "_________________________________________________________________\n",
      "Layer (type)                 Output Shape              Param #   \n",
      "=================================================================\n",
      "input_9 (InputLayer)         (None, 7, 6, 4)           0         \n",
      "_________________________________________________________________\n",
      "conv0 (Conv2D)               (None, 7, 6, 128)         4736      \n",
      "_________________________________________________________________\n",
      "activation_30 (Activation)   (None, 7, 6, 128)         0         \n",
      "_________________________________________________________________\n",
      "conv1 (Conv2D)               (None, 7, 6, 64)          73792     \n",
      "_________________________________________________________________\n",
      "activation_31 (Activation)   (None, 7, 6, 64)          0         \n",
      "_________________________________________________________________\n",
      "flatten_8 (Flatten)          (None, 2688)              0         \n",
      "_________________________________________________________________\n",
      "fc0 (Dense)                  (None, 64)                172096    \n",
      "_________________________________________________________________\n",
      "activation_32 (Activation)   (None, 64)                0         \n",
      "_________________________________________________________________\n",
      "fc1 (Dense)                  (None, 16)                1040      \n",
      "_________________________________________________________________\n",
      "activation_33 (Activation)   (None, 16)                0         \n",
      "_________________________________________________________________\n",
      "fc2 (Dense)                  (None, 1)                 17        \n",
      "=================================================================\n",
      "Total params: 251,681\n",
      "Trainable params: 251,681\n",
      "Non-trainable params: 0\n",
      "_________________________________________________________________\n"
     ]
    }
   ],
   "source": [
    "aero_cnn.summary()"
   ]
  },
  {
   "cell_type": "markdown",
   "metadata": {
    "collapsed": true
   },
   "source": [
    "### Обучение сети оффлайн"
   ]
  },
  {
   "cell_type": "code",
   "execution_count": 9,
   "metadata": {
    "scrolled": true
   },
   "outputs": [
    {
     "name": "stdout",
     "output_type": "stream",
     "text": [
      "Wall time: 3h 45min 24s\n"
     ]
    }
   ],
   "source": [
    "%%time\n",
    "\n",
    "seed()\n",
    "\n",
    "# Пенальти за будущие ходы\n",
    "gamma = 0.1\n",
    "minibatch = 32\n",
    "\n",
    "for i in range(15000):\n",
    "    samples = rd.sample(replay_memory, minibatch)\n",
    "\n",
    "    # Строим X_train и Y_train\n",
    "    X_train = ()\n",
    "    Y_train = np.zeros((minibatch, 1))\n",
    "\n",
    "    for s in range(minibatch):\n",
    "        actn = samples[s][1]\n",
    "        rwrd = samples[s][2]\n",
    "\n",
    "        plates = np.array(samples[s][0])\n",
    "        X_train = X_train + ( swap_two_plates(plates, actn), )\n",
    "        \n",
    "        if (rwrd > 0):\n",
    "            plates = np.array(samples[s][3])\n",
    "            Y_train[s, 0] = rwrd + gamma * predict_max_score(plates, aero_cnn, number_of_moves)[0]\n",
    "        else:\n",
    "            # Если ход нулевой, то предсказывать 0 сразу!\n",
    "            Y_train[s, 0] = 0\n",
    "\n",
    "    X_train = np.stack(X_train, axis=0)\n",
    "\n",
    "    # Делаем градиентный спуск, подкручиваем веса сети\n",
    "    aero_cnn.fit(X_train, Y_train, epochs=25, verbose=0)"
   ]
  },
  {
   "cell_type": "code",
   "execution_count": 11,
   "metadata": {},
   "outputs": [
    {
     "name": "stdout",
     "output_type": "stream",
     "text": [
      "Epoch 1/5\n",
      " - 0s - loss: 0.0063\n",
      "Epoch 2/5\n",
      " - 0s - loss: 0.0066\n",
      "Epoch 3/5\n",
      " - 0s - loss: 0.0039\n",
      "Epoch 4/5\n",
      " - 0s - loss: 0.0052\n",
      "Epoch 5/5\n",
      " - 0s - loss: 0.0080\n",
      "Wall time: 80.1 ms\n"
     ]
    },
    {
     "data": {
      "text/plain": [
       "<keras.callbacks.History at 0x15d8a6768d0>"
      ]
     },
     "execution_count": 11,
     "metadata": {},
     "output_type": "execute_result"
    }
   ],
   "source": [
    "%%time\n",
    "aero_cnn.fit(X_train, Y_train, epochs=5, verbose=2)"
   ]
  },
  {
   "cell_type": "markdown",
   "metadata": {},
   "source": [
    "### Вспомогательные процедуры"
   ]
  },
  {
   "cell_type": "code",
   "execution_count": 112,
   "metadata": {},
   "outputs": [
    {
     "name": "stdout",
     "output_type": "stream",
     "text": [
      "Wall time: 480 ms\n"
     ]
    }
   ],
   "source": [
    "%%time\n",
    "#\n",
    "# Конвертация из 1D в 4D\n",
    "#\n",
    "\n",
    "#tmp1 = replay_memory_converter_to_4D(replay_memory)\n",
    "\n",
    "#replay_memory = list(tmp1)"
   ]
  },
  {
   "cell_type": "code",
   "execution_count": 144,
   "metadata": {},
   "outputs": [
    {
     "name": "stdout",
     "output_type": "stream",
     "text": [
      "Number of zero-moves where before and after are not equal: 62\n",
      "Number of non-zero-moves where before and after are  equal: 17\n"
     ]
    }
   ],
   "source": [
    "#\n",
    "# Проверка на некорректные ходы:\n",
    "# - нулевые ходы, но картинка до не равна картинке после\n",
    "# - ненулевые ходы, но картинка до _равна_ картинке после\n",
    "#\n",
    "cnt1 = 0\n",
    "cnt2 = 0\n",
    "\n",
    "for item in replay_memory:\n",
    "    if ((item[2] == 0) and (not np.array_equal(item[0], item[3]))):\n",
    "        cnt1 = cnt1 + 1\n",
    "\n",
    "    if ((item[2] != 0) and (np.array_equal(item[0], item[3]))):\n",
    "        cnt2 = cnt2 + 1\n",
    "\n",
    "print(\"Number of zero-moves where before and after are not equal:\", cnt1)\n",
    "print(\"Number of non-zero-moves where before and after are equal:\", cnt2)"
   ]
  },
  {
   "cell_type": "markdown",
   "metadata": {},
   "source": [
    "### Визуализация картинки и результат применения первого уровня сверточных фильтров"
   ]
  },
  {
   "cell_type": "code",
   "execution_count": 161,
   "metadata": {
    "collapsed": true
   },
   "outputs": [],
   "source": [
    "pic = pixelization_v1(aeroflot_x, aeroflot_y, parameters)"
   ]
  },
  {
   "cell_type": "code",
   "execution_count": 188,
   "metadata": {},
   "outputs": [
    {
     "data": {
      "image/png": "[encoded data removed]",
      "text/plain": [
       "<matplotlib.figure.Figure at 0x1368dbe0>"
      ]
     },
     "metadata": {},
     "output_type": "display_data"
    }
   ],
   "source": [
    "fig, ax = plt.subplots(figsize=(5, 7))\n",
    "\n",
    "ax.set_xlim((0, 10))\n",
    "ax.set_ylim((0, 13))\n",
    "\n",
    "circles = []\n",
    "\n",
    "for ii in range(7):\n",
    "    for jj in range(6):\n",
    "        if (pic[ii, jj, 0] == 1):\n",
    "            clr = \"red\"\n",
    "        elif (pic[ii, jj, 1] == 1):\n",
    "            clr = \"lightgreen\"\n",
    "        elif (pic[ii, jj, 2] == 1):\n",
    "            clr = \"cyan\"\n",
    "        else:\n",
    "            clr = \"purple\"\n",
    "        \n",
    "        circles.append( plt.Circle((jj + 1, 7 - ii), 0.4, color=clr) )\n",
    "\n",
    "for circ in circles:\n",
    "    ax.add_artist(circ)"
   ]
  },
  {
   "cell_type": "code",
   "execution_count": 189,
   "metadata": {
    "collapsed": true
   },
   "outputs": [],
   "source": [
    "padded = np.zeros((9, 8, 4))\n",
    "padded[1:8, 1:7, :] = pic"
   ]
  },
  {
   "cell_type": "code",
   "execution_count": 190,
   "metadata": {
    "collapsed": true
   },
   "outputs": [],
   "source": [
    "for layer in aero_cnn.layers:\n",
    "    if (layer.name == \"conv0\"):\n",
    "        lst = layer.get_weights()\n",
    "        break\n",
    "        \n",
    "filters = lst[0]"
   ]
  },
  {
   "cell_type": "code",
   "execution_count": 199,
   "metadata": {
    "scrolled": true
   },
   "outputs": [
    {
     "data": {
      "text/plain": [
       "array([[-0.0244, -0.8073, -0.539 ,  0.0028, -0.6053, -0.1991],\n",
       "       [-0.6013, -0.1012,  0.1   , -0.3483, -0.4766, -0.2082],\n",
       "       [-0.7524, -0.2067, -0.7808, -0.0785, -0.4087, -0.1699],\n",
       "       [-0.3141, -0.4357, -0.9095, -0.1491, -1.1048,  0.0053],\n",
       "       [-0.1835, -0.4337,  0.1794, -0.482 , -0.2608, -0.2965],\n",
       "       [-0.4604, -0.195 ,  0.0142, -1.6792, -0.7225, -0.0251],\n",
       "       [-0.6835,  0.0386, -0.5734,  0.0364,  0.0818, -0.4982]])"
      ]
     },
     "execution_count": 199,
     "metadata": {},
     "output_type": "execute_result"
    }
   ],
   "source": [
    "filt = filters[:, :, :, 6]\n",
    "\n",
    "result = np.zeros((7, 6))\n",
    "\n",
    "for ii in range(7):\n",
    "    for jj in range(6):\n",
    "        cut = padded[ii:ii+3, jj:jj+3 , :]\n",
    "        result[ii, jj] = np.round(np.sum(np.multiply(cut, filt)), 4)\n",
    "        \n",
    "result.reshape(7, 6)"
   ]
  },
  {
   "cell_type": "markdown",
   "metadata": {},
   "source": [
    "### Визуализация и предсказание"
   ]
  },
  {
   "cell_type": "code",
   "execution_count": 71,
   "metadata": {
    "scrolled": true
   },
   "outputs": [
    {
     "data": {
      "image/png": "[encoded data removed]",
      "text/plain": [
       "<matplotlib.figure.Figure at 0x169fc080>"
      ]
     },
     "metadata": {},
     "output_type": "display_data"
    }
   ],
   "source": [
    "pic = change_two_plates(replay_memory[-2][0], 1)\n",
    "#pic = replay_memory[-2][0]\n",
    "\n",
    "fig, ax = plt.subplots(figsize=(5, 7))\n",
    "\n",
    "ax.set_xlim((0, 10))\n",
    "ax.set_ylim((0, 13))\n",
    "\n",
    "circles = []\n",
    "\n",
    "for ii in range(7):\n",
    "    for jj in range(6):\n",
    "        if (pic[ii, jj, 0] > 0):\n",
    "            clr = \"red\"\n",
    "        elif (pic[ii, jj, 1] > 0):\n",
    "            clr = \"lightgreen\"\n",
    "        elif (pic[ii, jj, 2] > 0):\n",
    "            clr = \"cyan\"\n",
    "        else:\n",
    "            clr = \"purple\"\n",
    "        \n",
    "        circles.append( plt.Circle((jj + 1, 7 - ii), 0.4, color=clr) )\n",
    "\n",
    "for circ in circles:\n",
    "    ax.add_artist(circ)"
   ]
  },
  {
   "cell_type": "code",
   "execution_count": null,
   "metadata": {
    "collapsed": true
   },
   "outputs": [],
   "source": []
  },
  {
   "cell_type": "markdown",
   "metadata": {
    "collapsed": true
   },
   "source": [
    "### Что предсказывает сеть, которую хорошо обучили на малом наборе данных"
   ]
  },
  {
   "cell_type": "code",
   "execution_count": 8,
   "metadata": {
    "scrolled": true
   },
   "outputs": [
    {
     "data": {
      "image/png": "[encoded data removed]",
      "text/plain": [
       "<matplotlib.figure.Figure at 0x10df2f28>"
      ]
     },
     "metadata": {},
     "output_type": "display_data"
    }
   ],
   "source": [
    "pic = replay_memory[-1][0]\n",
    "\n",
    "fig, ax = plt.subplots(figsize=(5, 7))\n",
    "\n",
    "ax.set_xlim((0, 10))\n",
    "ax.set_ylim((0, 13))\n",
    "\n",
    "circles = []\n",
    "\n",
    "for ii in range(7):\n",
    "    for jj in range(6):\n",
    "        if (pic[ii, jj, 0] > 0):\n",
    "            clr = \"red\"\n",
    "        elif (pic[ii, jj, 1] > 0):\n",
    "            clr = \"lightgreen\"\n",
    "        elif (pic[ii, jj, 2] > 0):\n",
    "            clr = \"cyan\"\n",
    "        else:\n",
    "            clr = \"purple\"\n",
    "        \n",
    "        circles.append( plt.Circle((jj + 1, 7 - ii), 0.4, color=clr) )\n",
    "\n",
    "for circ in circles:\n",
    "    ax.add_artist(circ)"
   ]
  },
  {
   "cell_type": "code",
   "execution_count": 17,
   "metadata": {},
   "outputs": [
    {
     "data": {
      "text/plain": [
       "(3, 1, 'right')"
      ]
     },
     "execution_count": 17,
     "metadata": {},
     "output_type": "execute_result"
    }
   ],
   "source": [
    "process_move_142(75)"
   ]
  },
  {
   "cell_type": "code",
   "execution_count": 19,
   "metadata": {},
   "outputs": [
    {
     "name": "stdout",
     "output_type": "stream",
     "text": [
      "[[ 7.22472191]] (2, 2, 'down')\n",
      "[[ 7.22472191]] (3, 2, 'up')\n",
      "[[ 6.83188534]] (1, 3, 'right')\n",
      "[[ 6.83188534]] (1, 4, 'left')\n",
      "[[ 6.77806902]] (3, 1, 'right')\n",
      "[[ 6.77806902]] (3, 2, 'left')\n",
      "[[ 6.70308304]] (3, 2, 'right')\n",
      "[[ 6.70308304]] (3, 3, 'left')\n",
      "[[ 6.66363668]] (3, 2, 'down')\n",
      "[[ 6.66363668]] (4, 2, 'up')\n",
      "[[ 6.53948545]] (1, 2, 'down')\n",
      "[[ 6.53948545]] (2, 2, 'up')\n",
      "[[ 6.37867308]] (2, 2, 'right')\n",
      "[[ 6.37867308]] (2, 3, 'left')\n",
      "[[ 6.35099888]] (2, 4, 'down')\n",
      "[[ 6.35099888]] (3, 4, 'up')\n",
      "[[ 6.07423162]] (1, 3, 'down')\n",
      "[[ 6.07423162]] (2, 3, 'up')\n",
      "[[ 6.04082537]] (3, 4, 'down')\n",
      "[[ 6.04082537]] (4, 4, 'up')\n",
      "[[ 5.84908867]] (3, 3, 'right')\n",
      "[[ 5.84908867]] (3, 4, 'left')\n",
      "[[ 5.62413788]] (3, 3, 'down')\n",
      "[[ 5.62413788]] (4, 3, 'up')\n",
      "[[ 5.5045476]] (2, 1, 'right')\n",
      "[[ 5.5045476]] (2, 2, 'left')\n",
      "[[ 5.16240025]] (3, 5, 'right')\n",
      "[[ 5.16240025]] (3, 6, 'left')\n",
      "[[ 4.78361845]] (7, 5, 'right')\n",
      "[[ 4.78361845]] (7, 6, 'left')\n",
      "[[ 4.65144253]] (2, 5, 'right')\n",
      "[[ 4.65144253]] (2, 6, 'left')\n",
      "[[ 4.6345005]] (2, 6, 'down')\n",
      "[[ 4.6345005]] (3, 6, 'up')\n",
      "[[ 4.5900712]] (4, 1, 'down')\n",
      "[[ 4.5900712]] (5, 1, 'up')\n",
      "[[ 4.4388032]] (6, 3, 'right')\n",
      "[[ 4.4388032]] (6, 4, 'left')\n",
      "[[ 4.15126848]] (5, 1, 'down')\n",
      "[[ 4.15126848]] (6, 1, 'up')\n",
      "[[ 4.13976192]] (6, 2, 'down')\n",
      "[[ 4.13976192]] (7, 2, 'up')\n",
      "[[ 4.13018131]] (7, 2, 'right')\n",
      "[[ 4.13018131]] (7, 3, 'left')\n",
      "[[ 4.12203026]] (3, 6, 'down')\n",
      "[[ 4.12203026]] (4, 6, 'up')\n",
      "[[ 4.12104654]] (5, 3, 'down')\n",
      "[[ 4.12104654]] (6, 3, 'up')\n",
      "[[ 4.11973763]] (1, 4, 'right')\n",
      "[[ 4.11973763]] (1, 5, 'left')\n",
      "[[ 4.10529709]] (3, 5, 'down')\n",
      "[[ 4.10529709]] (4, 5, 'up')\n",
      "[[ 4.0860672]] (6, 4, 'right')\n",
      "[[ 4.0860672]] (6, 5, 'left')\n",
      "[[ 4.07639694]] (1, 4, 'down')\n",
      "[[ 4.07639694]] (2, 4, 'up')\n",
      "[[ 4.06162834]] (7, 1, 'right')\n",
      "[[ 4.06162834]] (7, 2, 'left')\n",
      "[[ 4.05868769]] (4, 1, 'right')\n",
      "[[ 4.05868769]] (4, 2, 'left')\n",
      "[[ 4.05399323]] (6, 2, 'right')\n",
      "[[ 4.05399323]] (6, 3, 'left')\n",
      "[[ 4.05072832]] (4, 3, 'right')\n",
      "[[ 4.05072832]] (4, 4, 'left')\n",
      "[[ 4.03855848]] (5, 2, 'right')\n",
      "[[ 4.03855848]] (5, 3, 'left')\n",
      "[[ 4.02307701]] (4, 2, 'down')\n",
      "[[ 4.02307701]] (5, 2, 'up')\n",
      "[[ 4.02276802]] (7, 4, 'right')\n",
      "[[ 4.02276802]] (7, 5, 'left')\n",
      "[[ 4.01525497]] (1, 6, 'down')\n",
      "[[ 4.01525497]] (2, 6, 'up')\n",
      "[[ 4.01163006]] (6, 6, 'down')\n",
      "[[ 4.01163006]] (7, 6, 'up')\n",
      "[[ 4.00907803]] (5, 1, 'right')\n",
      "[[ 4.00907803]] (5, 2, 'left')\n",
      "[[ 4.00300407]] (1, 5, 'right')\n",
      "[[ 4.00300407]] (1, 6, 'left')\n",
      "[[ 3.99886203]] (6, 1, 'right')\n",
      "[[ 3.99886203]] (6, 2, 'left')\n",
      "[[ 3.99524403]] (6, 1, 'down')\n",
      "[[ 3.99524403]] (7, 1, 'up')\n",
      "[[ 3.99351692]] (4, 5, 'right')\n",
      "[[ 3.99351692]] (4, 6, 'left')\n",
      "[[ 3.98910737]] (2, 4, 'right')\n",
      "[[ 3.98910737]] (2, 5, 'left')\n",
      "[[ 3.9768784]] (1, 5, 'down')\n",
      "[[ 3.9768784]] (2, 5, 'up')\n",
      "[[ 3.9735992]] (5, 3, 'right')\n",
      "[[ 3.9735992]] (5, 4, 'left')\n",
      "[[ 3.97150087]] (3, 1, 'down')\n",
      "[[ 3.97150087]] (4, 1, 'up')\n",
      "[[ 3.97071528]] (3, 4, 'right')\n",
      "[[ 3.97071528]] (3, 5, 'left')\n",
      "[[ 3.96879601]] (6, 5, 'right')\n",
      "[[ 3.96879601]] (6, 6, 'left')\n",
      "[[ 3.96549606]] (2, 3, 'down')\n",
      "[[ 3.96549606]] (2, 5, 'down')\n",
      "[[ 3.96549606]] (3, 3, 'up')\n",
      "[[ 3.96549606]] (3, 5, 'up')\n",
      "[[ 3.96549606]] (4, 2, 'right')\n",
      "[[ 3.96549606]] (2, 3, 'right')\n",
      "[[ 3.96549606]] (4, 3, 'left')\n",
      "[[ 3.96549606]] (2, 4, 'left')\n",
      "[[ 3.96394825]] (1, 2, 'right')\n",
      "[[ 3.96394825]] (1, 3, 'left')\n",
      "[[ 3.94399881]] (6, 4, 'down')\n",
      "[[ 3.94399881]] (7, 4, 'up')\n",
      "[[ 3.94190383]] (6, 3, 'down')\n",
      "[[ 3.94190383]] (7, 3, 'up')\n",
      "[[ 3.940485]] (1, 1, 'right')\n",
      "[[ 3.940485]] (1, 2, 'left')\n",
      "[[ 3.9318521]] (4, 6, 'down')\n",
      "[[ 3.9318521]] (5, 6, 'up')\n",
      "[[ 3.93070793]] (7, 3, 'right')\n",
      "[[ 3.93070793]] (7, 4, 'left')\n",
      "[[ 3.92476153]] (5, 2, 'down')\n",
      "[[ 3.92476153]] (6, 2, 'up')\n",
      "[[ 3.9243269]] (4, 4, 'right')\n",
      "[[ 3.9243269]] (4, 5, 'left')\n",
      "[[ 3.92392921]] (5, 5, 'down')\n",
      "[[ 3.92392921]] (6, 5, 'up')\n",
      "[[ 3.9225502]] (2, 1, 'down')\n",
      "[[ 3.9225502]] (3, 1, 'up')\n",
      "[[ 3.90380692]] (5, 4, 'right')\n",
      "[[ 3.90380692]] (5, 5, 'left')\n",
      "[[ 3.89389753]] (4, 4, 'down')\n",
      "[[ 3.89389753]] (5, 4, 'up')\n",
      "[[ 3.89129186]] (5, 4, 'down')\n",
      "[[ 3.89129186]] (6, 4, 'up')\n",
      "[[ 3.88922119]] (5, 6, 'down')\n",
      "[[ 3.88922119]] (6, 6, 'up')\n",
      "[[ 3.88162327]] (4, 3, 'down')\n",
      "[[ 3.88162327]] (5, 3, 'up')\n",
      "[[ 3.87624168]] (1, 1, 'down')\n",
      "[[ 3.87624168]] (2, 1, 'up')\n",
      "[[ 3.85491419]] (6, 5, 'down')\n",
      "[[ 3.85491419]] (7, 5, 'up')\n",
      "[[ 3.85023522]] (4, 5, 'down')\n",
      "[[ 3.85023522]] (5, 5, 'up')\n",
      "[[ 3.81634092]] (5, 5, 'right')\n",
      "[[ 3.81634092]] (5, 6, 'left')\n"
     ]
    }
   ],
   "source": [
    "scores = {}\n",
    "\n",
    "for ii in range(number_of_moves):\n",
    "    move = ii + 1\n",
    "    plates = np.array(pic)\n",
    "    swapped = swap_two_plates(plates, move)\n",
    "    predicted_score = aero_cnn.predict( np.expand_dims(plates, axis=0) )\n",
    "    scores[move] = predicted_score\n",
    "    \n",
    "sorted_scores = sorted(scores.items(), key=lambda x: x[1], reverse=True)\n",
    "\n",
    "i = 1\n",
    "for x in sorted_scores:\n",
    "    move = x[0]\n",
    "    print(x[1], process_move_142(x[0]))\n"
   ]
  },
  {
   "cell_type": "code",
   "execution_count": null,
   "metadata": {
    "collapsed": true
   },
   "outputs": [],
   "source": []
  },
  {
   "cell_type": "code",
   "execution_count": null,
   "metadata": {
    "collapsed": true
   },
   "outputs": [],
   "source": []
  },
  {
   "cell_type": "code",
   "execution_count": null,
   "metadata": {
    "collapsed": true
   },
   "outputs": [],
   "source": []
  },
  {
   "cell_type": "code",
   "execution_count": null,
   "metadata": {
    "collapsed": true
   },
   "outputs": [],
   "source": []
  },
  {
   "cell_type": "code",
   "execution_count": null,
   "metadata": {
    "collapsed": true
   },
   "outputs": [],
   "source": []
  },
  {
   "cell_type": "code",
   "execution_count": null,
   "metadata": {
    "collapsed": true
   },
   "outputs": [],
   "source": []
  },
  {
   "cell_type": "code",
   "execution_count": null,
   "metadata": {
    "collapsed": true
   },
   "outputs": [],
   "source": []
  },
  {
   "cell_type": "code",
   "execution_count": null,
   "metadata": {
    "collapsed": true
   },
   "outputs": [],
   "source": []
  }
 ],
 "metadata": {
  "kernelspec": {
   "display_name": "Python 3",
   "language": "python",
   "name": "python3"
  },
  "language_info": {
   "codemirror_mode": {
    "name": "ipython",
    "version": 3
   },
   "file_extension": ".py",
   "mimetype": "text/x-python",
   "name": "python",
   "nbconvert_exporter": "python",
   "pygments_lexer": "ipython3",
   "version": "3.6.2"
  }
 },
 "nbformat": 4,
 "nbformat_minor": 2
}
