{
 "cells": [
  {
   "cell_type": "code",
   "execution_count": 1,
   "metadata": {},
   "outputs": [
    {
     "name": "stderr",
     "output_type": "stream",
     "text": [
      "Using TensorFlow backend.\n"
     ]
    }
   ],
   "source": [
    "import win32gui\n",
    "import win32api\n",
    "import win32con\n",
    "import pickle\n",
    "import glob\n",
    "import time\n",
    "\n",
    "import tensorflow as tf\n",
    "import numpy as np\n",
    "\n",
    "from PIL import Image, ImageDraw, ImageGrab\n",
    "from skimage import io\n",
    "\n",
    "from random import randint, uniform, sample, seed\n",
    "\n",
    "\n",
    "from keras.layers import Input, Add, Dense, Activation, ZeroPadding2D, BatchNormalization, Flatten, Conv2D, AveragePooling2D, MaxPooling2D \n",
    "from keras.models import Model, load_model\n",
    "\n",
    "import keras.backend as K"
   ]
  },
  {
   "cell_type": "code",
   "execution_count": null,
   "metadata": {
    "collapsed": true
   },
   "outputs": [],
   "source": []
  },
  {
   "cell_type": "markdown",
   "metadata": {},
   "source": [
    "### Вспомогательные и тестовые функции"
   ]
  },
  {
   "cell_type": "code",
   "execution_count": 2,
   "metadata": {
    "collapsed": true
   },
   "outputs": [],
   "source": [
    "def callback(hwnd, extra):\n",
    "    \"\"\"\n",
    "    Detects position and size of the Vysor application window\n",
    "    Example copied from Stackoverflow\n",
    "    Input:\n",
    "    - hwnd: unknown\n",
    "    - extra: nothing\n",
    "    Output: nothing\n",
    "    \"\"\"\n",
    "    rect = win32gui.GetWindowRect(hwnd)\n",
    "    x = rect[0]\n",
    "    y = rect[1]\n",
    "    w = rect[2] - x\n",
    "    h = rect[3] - y\n",
    "    \n",
    "    win_name = win32gui.GetWindowText(hwnd)\n",
    "    \n",
    "    if (win_name == \"FRD L19\"):\n",
    "        print(\"Window %s:\" % win_name)\n",
    "        print(\"\\tLocation: (%d, %d)\" % (x, y))\n",
    "        print(\"\\t    Size: (%d, %d)\" % (w, h))\n",
    "        \n",
    "        if ((x >= 0) and (y >= 0)):\n",
    "            start_box_left_top_x = x + 260\n",
    "            start_box_left_top_y = y + 680\n",
    "\n",
    "            start_box_right_bottom_x = start_box_left_top_x + 45\n",
    "            start_box_right_bottom_y = start_box_left_top_y + 55\n",
    "\n",
    "            #h_x, h_y = win32api.GetCursorPos()\n",
    "            #print(h_x, h_y)\n",
    "\n",
    "            #im = pyscreenshot.grab(bbox=(start_box_left_top_x, start_box_left_top_y, start_box_right_bottom_x, start_box_right_bottom_y))\n",
    "            #im.show()\n",
    "            #im.save(\"GameStarter.png\")\n",
    "\n",
    "win32gui.EnumWindows(callback, None)"
   ]
  },
  {
   "cell_type": "code",
   "execution_count": null,
   "metadata": {
    "collapsed": true
   },
   "outputs": [],
   "source": []
  },
  {
   "cell_type": "markdown",
   "metadata": {},
   "source": [
    "### Основные функции"
   ]
  },
  {
   "cell_type": "code",
   "execution_count": 17,
   "metadata": {
    "collapsed": true
   },
   "outputs": [],
   "source": [
    "# Окно приложения, левый верхний угол: 663 0\n",
    "# Центр блюда в ряду 1, колонке 1: 727 350\n",
    "\n",
    "def fix_window_coordinates_and_size(window_name, use_external_screen=True):\n",
    "    \"\"\"\n",
    "    Returns coordinates of the left top corner of the window\n",
    "    Input:\n",
    "    - window_name: target window name, string\n",
    "    Output:\n",
    "    - x: x coordinate, int\n",
    "    - y: y coordinate, int\n",
    "    - w: window width (over the X axis)\n",
    "    - h: window height (over the Y axis)\n",
    "    \"\"\"\n",
    "    \n",
    "    # Get window handle\n",
    "    win_handle = win32gui.FindWindow(None, window_name)\n",
    "    \n",
    "    assert win_handle, \"Window not found!\"\n",
    "\n",
    "    # Get window coordinates\n",
    "    rect = win32gui.GetWindowRect(win_handle)\n",
    "    x = rect[0]\n",
    "    y = rect[1]\n",
    "    w = rect[2] - x\n",
    "    h = rect[3] - y\n",
    "\n",
    "    if (use_external_screen):\n",
    "        win32gui.MoveWindow(win_handle, 600, 0, 380, 760, True)\n",
    "        result = (600, 0, 380, 760)\n",
    "    else:\n",
    "        win32gui.MoveWindow(win_handle, 900, 0, 380, 760, True)\n",
    "        result = (900, 0, 380, 760)\n",
    "    \n",
    "    return result\n",
    "\n",
    "\n",
    "def check_if_new_game(x, y, parameters):\n",
    "    \"\"\"\n",
    "    Checks if there is a new game screen with the start new game triangle\n",
    "    Input:\n",
    "    - x: left top corner x coordinate of the application, int\n",
    "    - y: left top corner y coordinate of the application, int\n",
    "    - parameters: dict with parameters incl. Game_Starter ethalon box, dict\n",
    "    Output:\n",
    "    - result: boolean. True if there is a new game screen, False otherwise\n",
    "    \"\"\"\n",
    "\n",
    "    # Get part of the window, where the game starter circle/triangle is expected\n",
    "    game_starter = ImageGrab.grab(bbox=(x + 172, y + 481, x + 209, y + 519))\n",
    "    game_starter = game_starter.convert(\"L\")\n",
    "    game_starter = np.array(game_starter)\n",
    "    \n",
    "    # Load ethalon game starter box\n",
    "    ethalon = parameters[\"Game_Starter\"]\n",
    "    \n",
    "    # Check them\n",
    "    tmp2 = np.abs(game_starter.astype(int) - ethalon.astype(int))\n",
    "    difference = tmp2.sum()    \n",
    "    \n",
    "    if (difference < 300.):\n",
    "        print(\"We can start a new game\")\n",
    "        result = True\n",
    "    else:\n",
    "        print(\"Game is progress, difference =\", difference)\n",
    "        result = False\n",
    "    \n",
    "    return result\n",
    "\n",
    "\n",
    "def press_start(x, y):\n",
    "    \"\"\"\n",
    "    Presses the Start New Game triangle\n",
    "    Input:\n",
    "    - x: top left corner x coordinate of the window, int\n",
    "    - y: top left corner y coordinate of the window, int\n",
    "    Output:\n",
    "    - True\n",
    "    \"\"\"\n",
    "\n",
    "    x_res = win32api.GetSystemMetrics(0)\n",
    "    y_res = win32api.GetSystemMetrics(1)\n",
    "    \n",
    "    start_x = x + 172 + 19\n",
    "    start_y = y + 481 + 19\n",
    "    \n",
    "    nx = int(start_x * 65535 / x_res)\n",
    "    ny = int(start_y * 65535 / y_res)\n",
    "    \n",
    "    win32api.mouse_event(win32con.MOUSEEVENTF_ABSOLUTE | win32con.MOUSEEVENTF_MOVE, nx, ny, 0, 0)\n",
    "    win32api.Sleep(200)\n",
    "    win32api.mouse_event(win32con.MOUSEEVENTF_ABSOLUTE | win32con.MOUSEEVENTF_LEFTDOWN, nx, ny, 0, 0)\n",
    "    win32api.Sleep(200)\n",
    "    win32api.mouse_event(win32con.MOUSEEVENTF_ABSOLUTE | win32con.MOUSEEVENTF_LEFTUP, nx, ny, 0, 0)\n",
    "    win32api.Sleep(500)\n",
    "    \n",
    "    return True\n",
    "\n",
    "\n",
    "def press_next_game(x, y):\n",
    "    \"\"\"\n",
    "    Presses the Play Again button\n",
    "    Input:\n",
    "    - x: top left corner x coordinate of the window, int\n",
    "    - y: top left corner y coordinate of the window, int\n",
    "    Output:\n",
    "    - True\n",
    "    \"\"\"\n",
    "\n",
    "    x_res = win32api.GetSystemMetrics(0)\n",
    "    y_res = win32api.GetSystemMetrics(1)\n",
    "    \n",
    "    start_x = x + 180\n",
    "    start_y = y + 480\n",
    "    \n",
    "    nx = int(start_x * 65535 / x_res)\n",
    "    ny = int(start_y * 65535 / y_res)\n",
    "    \n",
    "    win32api.mouse_event(win32con.MOUSEEVENTF_ABSOLUTE | win32con.MOUSEEVENTF_MOVE, nx, ny, 0, 0)\n",
    "    win32api.Sleep(200)\n",
    "    win32api.mouse_event(win32con.MOUSEEVENTF_ABSOLUTE | win32con.MOUSEEVENTF_LEFTDOWN, nx, ny, 0, 0)\n",
    "    win32api.Sleep(200)\n",
    "    win32api.mouse_event(win32con.MOUSEEVENTF_ABSOLUTE | win32con.MOUSEEVENTF_LEFTUP, nx, ny, 0, 0)\n",
    "    win32api.Sleep(500)\n",
    "    \n",
    "    return True\n",
    "\n",
    "\n",
    "def get_1_digit_score(score, parameters):\n",
    "    \"\"\"\n",
    "    Extracts one digit score (3-9)\n",
    "    Input:\n",
    "    - score: PIL Image with the score\n",
    "    - parameters: dict with parameters incl. ethalon digits, dict\n",
    "    Output:\n",
    "    - score, positive if score found, int. -1 otherwise.\n",
    "    \"\"\"\n",
    "    # Load ethalon large digits\n",
    "    ethalon_single = parameters[\"Ethalon_Single\"]\n",
    "    \n",
    "    # Crop the digit\n",
    "    digit = np.array(score.crop((13, 9, 23, 25)))    \n",
    "    \n",
    "    # Find the best possible ethalon digit\n",
    "    tmp2 = np.abs(digit.astype(int) - ethalon_single.astype(int))\n",
    "    result = tmp2.sum(axis=(1, 2))\n",
    "    \n",
    "    if (np.min(result) > 500.):\n",
    "        choice = -1\n",
    "    else:\n",
    "        choice = np.argmin(result)    \n",
    "    \n",
    "    return choice\n",
    "\n",
    "\n",
    "def get_2_digits_score(score, parameters):\n",
    "    \"\"\"\n",
    "    Extracts two digits score (xx)\n",
    "    Input:\n",
    "    - score: PIL Image with the score\n",
    "    - parameters: dict with parameters incl. ethalon digits, dict\n",
    "    Output:\n",
    "    - score, positive if score found, int. -1 otherwise.\n",
    "    \"\"\"\n",
    "    \n",
    "    # Load ethalon large digits\n",
    "    ethalon_large_left = parameters[\"Ethalon_Large_Left\"]\n",
    "    ethalon_large_right = parameters[\"Ethalon_Large_Right\"]\n",
    "\n",
    "    # Crop the digits\n",
    "    left_digit = np.array(score.crop((6, 9, 16, 25) ))\n",
    "    right_digit = np.array(score.crop((19, 9, 29, 25)))\n",
    "    \n",
    "    # Find the best possible left ethalon digit\n",
    "    tmp2 = np.abs(left_digit.astype(int) - ethalon_large_left.astype(int))\n",
    "    result = tmp2.sum(axis=(1, 2))\n",
    "    \n",
    "    if (np.min(result) > 500.):\n",
    "        return -1\n",
    "    \n",
    "    left_choice = np.argmin(result)\n",
    "    \n",
    "    # Find the best possible right ethalon digit\n",
    "    tmp2 = np.abs(right_digit.astype(int) - ethalon_large_right.astype(int))\n",
    "    result = tmp2.sum(axis=(1, 2))\n",
    "    \n",
    "    right_choice = np.argmin(result)\n",
    "    \n",
    "    return left_choice*10 + right_choice\n",
    "\n",
    "\n",
    "def get_3_digits_score(score, parameters):\n",
    "    \"\"\"\n",
    "    Extracts three digits score (xxx)\n",
    "    Input:\n",
    "    - score: PIL Image with the score\n",
    "    - parameters: dict with parameters incl. ethalon digits, dict\n",
    "    Output:\n",
    "    - score, positive if score found, int. -1 otherwise.\n",
    "    \"\"\"\n",
    "    # Load ethalon large digits\n",
    "    ethalon_small_left = parameters[\"Ethalon_Small_Left\"]\n",
    "    ethalon_small_middle = parameters[\"Ethalon_Small_Middle\"]\n",
    "    ethalon_small_right = parameters[\"Ethalon_Small_Right\"]\n",
    "    \n",
    "    # Crop the digits\n",
    "    left_digit = np.array(score.crop((4, 12, 12, 23)))\n",
    "    middle_digit = np.array(score.crop((14, 12, 22, 23)))\n",
    "    right_digit = np.array(score.crop((23, 12, 31, 23)))\n",
    "    \n",
    "    # Find the best possible left ethalon digit\n",
    "    tmp2 = np.abs(left_digit.astype(int) - ethalon_small_left.astype(int))\n",
    "    result = tmp2.sum(axis=(1, 2))\n",
    "    \n",
    "    if (np.min(result) > 500.):\n",
    "        return -1\n",
    "    \n",
    "    left_choice = np.argmin(result)\n",
    "    \n",
    "    # Find the best possible middle ethalon digit\n",
    "    tmp2 = np.abs(middle_digit.astype(int) - ethalon_small_middle.astype(int))\n",
    "    result = tmp2.sum(axis=(1, 2))\n",
    "    middle_choice = np.argmin(result)\n",
    "    \n",
    "    # Find the best possible right ethalon digit\n",
    "    tmp2 = np.abs(right_digit.astype(int) - ethalon_small_right.astype(int))\n",
    "    result = tmp2.sum(axis=(1, 2))\n",
    "    right_choice = np.argmin(result)\n",
    "    \n",
    "    return left_choice*100 + middle_choice*10 + right_choice\n",
    "\n",
    "\n",
    "def get_current_score(x, y, parameters):\n",
    "    \"\"\"\n",
    "    Gets current score. Wrapper for calls to get_1_digit_score, get_2_digits_score, get_3_digits_score\n",
    "    Input:\n",
    "    - x: top left corner x coordinate of the application\n",
    "    - y: top left corner y coordinate of the application\n",
    "    - parameters: dict with parameters incl. ethalon digits, dict\n",
    "    Output:\n",
    "    - score, int\n",
    "    \"\"\"\n",
    "    \n",
    "    # Get the score plate\n",
    "    img_score = ImageGrab.grab(bbox=(x + 269, y + 654, x + 304, y + 689))\n",
    "    img_bw = img_score.convert(\"L\")\n",
    "    \n",
    "    # Get the score based on the number of digits\n",
    "    three_digits_score = get_3_digits_score(img_bw, parameters)\n",
    "    \n",
    "    if (three_digits_score == -1):\n",
    "        two_digits_score = get_2_digits_score(img_bw, parameters)\n",
    "        \n",
    "        if (two_digits_score == -1):\n",
    "            score = get_1_digit_score(img_bw, parameters)\n",
    "        else:\n",
    "            score = two_digits_score\n",
    "    else:\n",
    "        score = three_digits_score\n",
    "    \n",
    "    return score\n",
    "\n",
    "\n",
    "def process_move_142(move):\n",
    "    \"\"\"\n",
    "    There are total 142 possible moves:\n",
    "    - along the vertical axis: 6 + 5*12 + 6 = 6*12 = 72\n",
    "    - along the norizontal axis: 7 + 4*14 + 7 = 5*14 = 70\n",
    "    \n",
    "    The _move_ parameter:\n",
    "    Vertical moves:\n",
    "    move in 1-6: row 1, column _move_, down\n",
    "    move in 7-66: row (move - 7 // 12) + 2, column (((move - 7) % 12) // 2) + 1, direction _move_ % 2 == 0 - up, otherwise - down\n",
    "    move in 67-72: row 7, column (move - 66), up\n",
    "    \n",
    "    Horizontal moves:\n",
    "    move in 73-79: row (move - 72), column 1, right\n",
    "    move in 80-135: row ((move - 80) % 14) // 2 + 1, column ((move - 80) // 14) + 2, direction _move_ % 2 == 0 - left, otherwise - right\n",
    "    move in 136-142: row (move - 135), column 6, left    \n",
    "    \n",
    "    Input:\n",
    "    - move: move code, 1-142, int\n",
    "    Output:\n",
    "    - row: row where the moved object located, 1-7, int\n",
    "    - column: row where the moved object located, 1-6, int\n",
    "    - direction: \"up\"/\"down\"/\"left\"/\"right\", string\n",
    "    \"\"\"\n",
    "    # Process move\n",
    "    if (move in range(1, 7)):\n",
    "        row = 1\n",
    "        column = move\n",
    "        direction = \"down\"\n",
    "    elif (move in range(7, 67)):\n",
    "        row = ((move - 7) // 12) + 2\n",
    "        column = (((move - 7) % 12) // 2) + 1\n",
    "        direction = \"up\" if (move % 2 == 0) else \"down\"\n",
    "    elif (move in range(67, 73)):\n",
    "        row = 7\n",
    "        column = move - 66\n",
    "        direction = \"up\"\n",
    "    elif (move in range(73, 80)):\n",
    "        row = move - 72\n",
    "        column = 1\n",
    "        direction = \"right\"\n",
    "    elif (move in range(80, 136)):\n",
    "        row = (((move - 80) % 14) // 2) + 1\n",
    "        column = ((move - 80) // 14) + 2\n",
    "        direction = \"left\" if (move % 2 == 0) else \"right\"\n",
    "    else:\n",
    "        row = move - 135\n",
    "        column = 6\n",
    "        direction = \"left\"\n",
    "    \n",
    "    return row, column, direction\n",
    "\n",
    "\n",
    "def process_move_71(move):\n",
    "    \"\"\"\n",
    "    There are total 71 possible moves:\n",
    "    - along the vertical axis: 6*6 = 36\n",
    "    - along the horizontal axis: 7*5 = 35\n",
    "    - Total 35 + 36 = 71\n",
    "    \n",
    "    The _move_ parameter:\n",
    "    Vertical moves:\n",
    "    move in 1-36: row (move - 1) % 6 + 1, column (move - 1) // 6 + 1, \"down\"\n",
    "    \n",
    "    Horizontal moves:\n",
    "    move in 37-71: row (move - 37) // 5 + 1, column (move - 37) % 5 + 1, \"right\"\n",
    "    \n",
    "    Input:\n",
    "    - move: move code, 1-66, int\n",
    "    Output:\n",
    "    - row: row where the moved object located, 1-7, int\n",
    "    - column: row where the moved object located, 1-6, int\n",
    "    - direction: \"down\"/\"right\", string\n",
    "    \"\"\"\n",
    "    # Process move\n",
    "    if (move in range(1, 37)):\n",
    "        row = (move - 1) % 6 + 1\n",
    "        column = (move - 1) // 6 + 1\n",
    "        direction = \"down\"\n",
    "    else:\n",
    "        # move in 37-71\n",
    "        column = (move - 37) % 5 + 1\n",
    "        row = (move - 37) // 5 + 1\n",
    "        direction = \"right\"\n",
    "    \n",
    "    return row, column, direction\n",
    "\n",
    "\n",
    "def make_move(x, y, number_of_moves, move):\n",
    "    \"\"\"\n",
    "    TODO\n",
    "    \"\"\"\n",
    "    if (number_of_moves == 142):\n",
    "        row, column, direction = process_move_142(move)\n",
    "    else:\n",
    "        row, column, direction = process_move_71(move)\n",
    "    \n",
    "    plate_size = 58\n",
    "    first_plate_center_x = x + 18 + 29\n",
    "    first_plate_center_y = y + 229 + 29\n",
    "    \n",
    "    horizontal_margin = 0\n",
    "    vertical_margin = 4\n",
    "\n",
    "    start_x = first_plate_center_x + (column - 1)*(plate_size + horizontal_margin)\n",
    "    start_y = first_plate_center_y + (row - 1)*(plate_size + vertical_margin)\n",
    "    \n",
    "    if (direction == \"down\"):\n",
    "        end_x = start_x\n",
    "        end_y = start_y + plate_size + vertical_margin\n",
    "    elif (direction == \"up\"):\n",
    "        end_x = start_x\n",
    "        end_y = start_y - plate_size - vertical_margin\n",
    "    elif (direction == \"left\"):\n",
    "        end_x = start_x - plate_size - horizontal_margin\n",
    "        end_y = start_y \n",
    "    else:\n",
    "        end_x = start_x + plate_size + horizontal_margin\n",
    "        end_y = start_y \n",
    "\n",
    "    # Now handle the mouse (drag with the left button pressed)\n",
    "    x_res = win32api.GetSystemMetrics(0)\n",
    "    y_res = win32api.GetSystemMetrics(1)\n",
    "    \n",
    "    nx = int(start_x * 65535 / x_res)\n",
    "    ny = int(start_y * 65535 / y_res)\n",
    "    \n",
    "    n_x_dist = int((end_x - start_x) * 65535 / x_res)\n",
    "    n_y_dist = int((end_y - start_y) * 65535 / y_res)\n",
    "    \n",
    "    win32api.mouse_event(win32con.MOUSEEVENTF_ABSOLUTE | win32con.MOUSEEVENTF_MOVE, nx, ny, 0, 0)\n",
    "    win32api.Sleep(300)\n",
    "    win32api.mouse_event(win32con.MOUSEEVENTF_ABSOLUTE | win32con.MOUSEEVENTF_LEFTDOWN, nx, ny, 0, 0)\n",
    "    win32api.Sleep(150)\n",
    "    win32api.mouse_event(win32con.MOUSEEVENTF_ABSOLUTE | win32con.MOUSEEVENTF_MOVE, nx + n_x_dist, ny + n_y_dist, 0, 0)\n",
    "    win32api.Sleep(150)\n",
    "    win32api.mouse_event(win32con.MOUSEEVENTF_ABSOLUTE | win32con.MOUSEEVENTF_LEFTUP, nx + n_x_dist, ny + n_y_dist, 0, 0)\n",
    "    win32api.Sleep(300)\n",
    "        \n",
    "    return\n",
    "\n",
    "\n",
    "#\n",
    "# Pixelization v1.0 Simple (no bonus plates detection)\n",
    "# Готовим трехмерный массив из 0 и 1 размера 7x6x4\n",
    "# Каждый из последних четырех слоёв отвечает за свой цвет\n",
    "# Массив цветов в таком порядке: [red, green, blue, purple]\n",
    "# по принципу RGB+Purple\n",
    "#\n",
    "def pixelization_v1(x, y, parameters):\n",
    "    \"\"\"\n",
    "    Converts picture with plates into 3D matrix [7, 6, 4]\n",
    "    Input:\n",
    "    - x: top left corner x coordinate of the application\n",
    "    - y: top left corner y coordinate of the application\n",
    "    - parameters: dict with parameters incl. ethalon colors, dict\n",
    "    Output:\n",
    "    - np.array, shape = [7, 6, 4]\n",
    "    \"\"\"\n",
    "    # Initialize all required parameters\n",
    "    ethalon_colors = parameters[\"Ethalon_Colors\"]\n",
    "    \n",
    "    plate_size = 58\n",
    "    horizontal_margin = 0\n",
    "    vertical_margin = 4\n",
    "    \n",
    "    result = np.zeros((7, 6, 4))\n",
    "    \n",
    "    # Get part of the image with plates\n",
    "    plates = ImageGrab.grab(bbox=(x + 18, y + 229, x + 361, y + 658))\n",
    "\n",
    "    for ii in range(7):\n",
    "        target_y = ii*(plate_size + vertical_margin) + 3\n",
    "        \n",
    "        for jj in range(6):\n",
    "            target_x = jj*(plate_size + horizontal_margin - 1) + 29\n",
    "            current_color = np.array(plates.crop((target_x, target_y, target_x + 1, target_y + 1)))\n",
    "            \n",
    "            tmp = np.abs((ethalon_colors - current_color.astype(int))).sum(axis=(1, 2, 3))\n",
    "            result[ii, jj, np.argmin(tmp)] = 1\n",
    "\n",
    "    return result\n",
    "\n",
    "\n",
    "#\n",
    "# Pixelization v2.0 Simple (no bonus plates detection)\n",
    "# Готовим двумерный массив размера 7x6x1, состоящий из 0.25, 0.5, 0.75, 1.0 [red, green, blue, purple]\n",
    "# Массив цветов в таком порядке: [red, green, blue, purple]\n",
    "# по принципу RGB+Purple\n",
    "#\n",
    "def pixelization_v2(x, y, parameters):\n",
    "    \"\"\"\n",
    "    Converts picture with plates into 2D matrix [7, 6]\n",
    "    Input:\n",
    "    - x: top left corner x coordinate of the application\n",
    "    - y: top left corner y coordinate of the application\n",
    "    - parameters: dict with parameters incl. ethalon colors, dict\n",
    "    Output:\n",
    "    - np.array, shape = [7, 6]\n",
    "    \"\"\"\n",
    "    # Initialize all required parameters\n",
    "    ethalon_colors = parameters[\"Ethalon_Colors\"]\n",
    "    \n",
    "    plate_size = 58\n",
    "    horizontal_margin = 0\n",
    "    vertical_margin = 4\n",
    "    \n",
    "    result = np.zeros((7, 6, 1))\n",
    "    \n",
    "    # Get part of the image with plates\n",
    "    plates = ImageGrab.grab(bbox=(x + 18, y + 229, x + 361, y + 658))\n",
    "\n",
    "    for ii in range(7):\n",
    "        target_y = ii*(plate_size + vertical_margin) + 3\n",
    "        \n",
    "        for jj in range(6):\n",
    "            target_x = jj*(plate_size + horizontal_margin - 1) + 29\n",
    "            current_color = np.array(plates.crop((target_x, target_y, target_x + 1, target_y + 1)))\n",
    "            \n",
    "            tmp = np.abs((ethalon_colors - current_color.astype(int))).sum(axis=(1, 2, 3))\n",
    "            result[ii, jj, 0] = (np.argmin(tmp) + 1) / 4.0\n",
    "\n",
    "    return result\n",
    "\n",
    "\n",
    "def Aero_CNN_v1(input_shape = (7, 6, 4), classes = 71):\n",
    "    \"\"\"\n",
    "    Keras CNN\n",
    "    INPUT -> CONV -> RELU -> CONV -> RELU -> FC -> RELU -> OUTPUT\n",
    "    \"\"\"\n",
    "    # Define the input placeholder as a tensor with shape input_shape. Think of this as your input image!\n",
    "    X_input = Input(input_shape)\n",
    "\n",
    "    # Zero-Padding: pads the border of X_input with zeroes\n",
    "    X = ZeroPadding2D((1, 1))(X_input)\n",
    "\n",
    "    # CONV -> BN -> RELU Block applied to X\n",
    "    X = Conv2D(32, (3, 3), strides = (1, 1), name = 'conv0')(X)\n",
    "    X = Activation('relu')(X)\n",
    "\n",
    "    # CONV -> BN -> RELU Block applied to X\n",
    "    X = Conv2D(64, (3, 3), strides = (1, 1), name = 'conv1')(X)\n",
    "    X = Activation('relu')(X)\n",
    "    \n",
    "    # FLATTEN X (means convert it to a vector) + FULLYCONNECTED\n",
    "    X = Flatten()(X)\n",
    "    X = Dense(classes, activation='relu', name='fc0')(X)\n",
    "\n",
    "    # Create model. This creates your Keras model instance, you'll use this instance to train/test the model.\n",
    "    model = Model(inputs = X_input, outputs = X, name='Aero_CNN')\n",
    "\n",
    "    return model\n",
    "\n",
    "\n",
    "def Aero_CNN_v2(input_shape = (7, 6, 1), classes = 142):\n",
    "    \"\"\"\n",
    "    Keras CNN\n",
    "    INPUT -> CONV -> RELU -> CONV -> RELU -> FC -> RELU -> OUTPUT\n",
    "    \"\"\"\n",
    "    # Define the input placeholder as a tensor with shape input_shape. Think of this as your input image!\n",
    "    X_input = Input(input_shape)\n",
    "\n",
    "    # Zero-Padding: pads the border of X_input with zeroes\n",
    "    X = ZeroPadding2D((2, 2))(X_input)\n",
    "\n",
    "    # CONV -> BN -> RELU Block applied to X\n",
    "    X = Conv2D(16, (5, 5), strides = (1, 1), name = 'conv0')(X)\n",
    "    X = Activation('relu')(X)\n",
    "\n",
    "    # CONV -> BN -> RELU Block applied to X\n",
    "    X = Conv2D(32, (3, 3), strides = (1, 1), name = 'conv1')(X)\n",
    "    X = Activation('relu')(X)\n",
    "    \n",
    "    # FLATTEN X (means convert it to a vector) + FULLYCONNECTED\n",
    "    X = Flatten()(X)\n",
    "    X = Dense(classes, activation='relu', name='fc0')(X)\n",
    "\n",
    "    # Create model. This creates your Keras model instance, you'll use this instance to train/test the model.\n",
    "    model = Model(inputs = X_input, outputs = X, name='Aero_CNN')\n",
    "\n",
    "    return model\n",
    "\n",
    "\n",
    "def Aero_CNN_v3(input_shape = (7, 6, 1), classes = 71):\n",
    "    \"\"\"\n",
    "    Keras CNN\n",
    "    INPUT -> CONV -> RELU -> CONV -> RELU -> FC -> RELU -> OUTPUT\n",
    "    \"\"\"\n",
    "    # Define the input placeholder as a tensor with shape input_shape. Think of this as your input image!\n",
    "    X_input = Input(input_shape)\n",
    "\n",
    "    # Zero-Padding: pads the border of X_input with zeroes\n",
    "    X = ZeroPadding2D((1, 1))(X_input)\n",
    "\n",
    "    # CONV -> BN -> RELU Block applied to X\n",
    "    X = Conv2D(32, (3, 3), strides = (1, 1), name = 'conv0')(X)\n",
    "    X = Activation('relu')(X)\n",
    "    \n",
    "    # CONV -> BN -> RELU Block applied to X\n",
    "    X = Conv2D(64, (3, 3), strides = (1, 1), name = 'conv1')(X)\n",
    "    X = Activation('relu')(X)\n",
    "    \n",
    "    # FLATTEN X (means convert it to a vector) + FULLYCONNECTED\n",
    "    X = Flatten()(X)\n",
    "    X = Dense(classes, activation='relu', name='fc0')(X)\n",
    "\n",
    "    # Create model. This creates your Keras model instance, you'll use this instance to train/test the model.\n",
    "    model = Model(inputs = X_input, outputs = X, name='Aero_CNN')\n",
    "\n",
    "    return model\n",
    "\n",
    "\n",
    "def Aero_CNN_v4(input_shape = (7, 6, 1), classes = 71):\n",
    "    \"\"\"\n",
    "    Keras CNN\n",
    "    INPUT -> CONV -> RELU -> CONV -> RELU -> FC -> RELU -> OUTPUT\n",
    "    \"\"\"\n",
    "    # Define the input placeholder as a tensor with shape input_shape. Think of this as your input image!\n",
    "    X_input = Input(input_shape)\n",
    "\n",
    "    # Zero-Padding: pads the border of X_input with zeroes\n",
    "    X = ZeroPadding2D((1, 1))(X_input)\n",
    "\n",
    "    # CONV -> BN -> RELU Block applied to X\n",
    "    X = Conv2D(32, (3, 3), strides = (1, 1), name = 'conv0')(X)\n",
    "    X = Activation('relu')(X)\n",
    "    \n",
    "    # CONV -> BN -> RELU Block applied to X\n",
    "    X = Conv2D(64, (3, 3), strides = (1, 1), name = 'conv1')(X)\n",
    "    X = Activation('relu')(X)\n",
    "    \n",
    "    # FLATTEN X (means convert it to a vector) + FC + RELU\n",
    "    X = Flatten()(X)\n",
    "    X = Dense(256, name='fc0')(X)\n",
    "    X = Activation('relu')(X)\n",
    "    \n",
    "    # FULLYCONNECTED\n",
    "    X = Dense(classes, name='fc1')(X)\n",
    "\n",
    "    # Create model. This creates your Keras model instance, you'll use this instance to train/test the model.\n",
    "    model = Model(inputs = X_input, outputs = X, name='Aero_CNN')\n",
    "\n",
    "    return model\n",
    "\n",
    "\n",
    "def replay_memory_converter(replay_memory):\n",
    "    \"\"\"\n",
    "    Replay memory converter from 4D to 1D\n",
    "    TODO\n",
    "    \"\"\"\n",
    "    result = []\n",
    "    \n",
    "    for item in replay_memory:\n",
    "        s_before = item[0]\n",
    "\n",
    "        s_before[:, :, 0] = s_before[:, :, 0] * 0.25\n",
    "        s_before[:, :, 1] = s_before[:, :, 1] * 0.5\n",
    "        s_before[:, :, 2] = s_before[:, :, 2] * 0.75\n",
    "        s_before[:, :, 3] = s_before[:, :, 3] * 1.0\n",
    "\n",
    "        s_before = s_before.sum(axis=2)\n",
    "\n",
    "        s_before = np.expand_dims(s_before, axis=2)\n",
    "        \n",
    "        s_after = item[3]\n",
    "\n",
    "        s_after[:, :, 0] = s_after[:, :, 0] * 0.25\n",
    "        s_after[:, :, 1] = s_after[:, :, 1] * 0.5\n",
    "        s_after[:, :, 2] = s_after[:, :, 2] * 0.75\n",
    "        s_after[:, :, 3] = s_after[:, :, 3] * 1.0\n",
    "\n",
    "        s_after = s_after.sum(axis=2)\n",
    "\n",
    "        s_after = np.expand_dims(s_after, axis=2)      \n",
    "        \n",
    "        result.append( (s_before, item[1], item[2], s_after) )\n",
    "        \n",
    "    return result"
   ]
  },
  {
   "cell_type": "code",
   "execution_count": null,
   "metadata": {
    "collapsed": true
   },
   "outputs": [],
   "source": []
  },
  {
   "cell_type": "markdown",
   "metadata": {
    "collapsed": true
   },
   "source": [
    "### Main program body"
   ]
  },
  {
   "cell_type": "markdown",
   "metadata": {},
   "source": [
    "#### Эталонные параметры\n",
    "Размер окна, чтобы работало на ноутбуке:  \n",
    "  width = 380  \n",
    "  height = 760  \n",
    "  \n",
    "Положение треугольника Game Starter:  \n",
    "x + 172, y + 481, x + 209, y + 519  \n",
    "  \n",
    "Положение счёта:  \n",
    "x + 269, y + 654, x + 304, y + 689\n",
    "\n",
    "Двухзначный счет:  \n",
    "- левая цифра: (6, 9, 16, 25)  \n",
    "- правая цифра: (19, 9, 29, 25)  \n",
    "\n",
    "Однозначный счет:\n",
    "- цифра: (13, 9, 23, 25)  \n",
    "\n",
    "Трехзначный счет:\n",
    "- левая цифра: (4, 12, 12, 23)  \n",
    "- средняя цифра: (14, 12, 22, 23)  \n",
    "- правая цифра: (23, 12, 31, 23)  \n",
    "\n",
    "Тарелки:  \n",
    "- размер: 58x58  \n",
    "- x центра первой тарелки: x + 18 + 29\n",
    "- y центра второй тарелки: y + 229 + 29\n",
    "- горизонтальная маржа: 0\n",
    "- вертикальная маржа: 4\n"
   ]
  },
  {
   "cell_type": "code",
   "execution_count": 4,
   "metadata": {
    "collapsed": true
   },
   "outputs": [],
   "source": [
    "# Initialize parameters\n",
    "parameters = {}\n",
    "\n",
    "# Game Starter\n",
    "parameters[\"Game_Starter\"] = np.array(Image.open(\"Game_Starter.png\"))\n",
    "\n",
    "# Ethalon Single Digit\n",
    "tmp = []\n",
    "\n",
    "for f in glob.glob(\"Ethalon_Single\\\\S*.png\"):\n",
    "    img = io.imread(f)\n",
    "    tmp.append(img)\n",
    "    parameters[\"Ethalon_Single\"] = np.array(tmp)\n",
    "    \n",
    "# Ethalon Large Digits\n",
    "tmp = []\n",
    "\n",
    "for f in glob.glob(\"Ethalon_Large\\\\L*.png\"):\n",
    "    img = io.imread(f)\n",
    "    tmp.append(img)\n",
    "\n",
    "parameters[\"Ethalon_Large_Left\"] = np.array(tmp)\n",
    "\n",
    "tmp = []\n",
    "    \n",
    "for f in glob.glob(\"Ethalon_Large\\\\R*.png\"):\n",
    "    img = io.imread(f)\n",
    "    tmp.append(img)\n",
    "\n",
    "parameters[\"Ethalon_Large_Right\"] = np.array(tmp)\n",
    "\n",
    "# Ethalon Small Digits\n",
    "tmp = []\n",
    "\n",
    "for f in glob.glob(\"Ethalon_Small\\\\L*.png\"):\n",
    "    img = io.imread(f)\n",
    "    tmp.append(img)\n",
    "\n",
    "parameters[\"Ethalon_Small_Left\"] = np.array(tmp)\n",
    "\n",
    "tmp = []\n",
    "\n",
    "for f in glob.glob(\"Ethalon_Small\\\\M*.png\"):\n",
    "    img = io.imread(f)\n",
    "    tmp.append(img)\n",
    "\n",
    "parameters[\"Ethalon_Small_Middle\"] = np.array(tmp)\n",
    "\n",
    "tmp = []\n",
    "\n",
    "for f in glob.glob(\"Ethalon_Small\\\\R*.png\"):\n",
    "    img = io.imread(f)\n",
    "    tmp.append(img)\n",
    "\n",
    "parameters[\"Ethalon_Small_Right\"] = np.array(tmp)\n",
    "\n",
    "# Load ethalon colors: RGB+Purple\n",
    "with open('colors.pickle', 'rb') as f:\n",
    "    colors = pickle.load(f)\n",
    "    \n",
    "parameters[\"Ethalon_Colors\"] = colors"
   ]
  },
  {
   "cell_type": "code",
   "execution_count": null,
   "metadata": {
    "collapsed": true
   },
   "outputs": [],
   "source": []
  },
  {
   "cell_type": "code",
   "execution_count": 26,
   "metadata": {
    "collapsed": true
   },
   "outputs": [],
   "source": [
    "#\n",
    "# Выравниваем приложение на экране\n",
    "#\n",
    "aeroflot_x, aeroflot_y, aeroflot_width, aeroflot_height = fix_window_coordinates_and_size(\"FRD L19\", use_external_screen=True)\n",
    "\n",
    "assert ((aeroflot_width == 380) and (aeroflot_height == 760)), print(\"Incorrect window size!\")\n"
   ]
  },
  {
   "cell_type": "code",
   "execution_count": null,
   "metadata": {
    "collapsed": true
   },
   "outputs": [],
   "source": []
  },
  {
   "cell_type": "code",
   "execution_count": 5,
   "metadata": {
    "collapsed": true
   },
   "outputs": [],
   "source": [
    "# Тут будем хранить историю\n",
    "#replay_memory = []\n",
    "#with open('replay_memory_1D.pickle', 'rb') as f:\n",
    "#   replay_memory = pickle.load(f)\n",
    "\n",
    "# Число возможных ходов\n",
    "number_of_moves = 71"
   ]
  },
  {
   "cell_type": "code",
   "execution_count": 6,
   "metadata": {
    "collapsed": true
   },
   "outputs": [],
   "source": [
    "# Загрузим ранее созданную модель\n",
    "aero_cnn = load_model('AeroCNN_v4.h5')"
   ]
  },
  {
   "cell_type": "code",
   "execution_count": 7,
   "metadata": {
    "collapsed": true
   },
   "outputs": [],
   "source": [
    "# Количество предсказаний\n",
    "total_num_of_predictions = 0\n",
    "num_of_successful_predictions = 0"
   ]
  },
  {
   "cell_type": "code",
   "execution_count": 519,
   "metadata": {
    "collapsed": true
   },
   "outputs": [],
   "source": [
    "# Готовим модель\n",
    "aero_cnn = Aero_CNN_v4(input_shape=(7, 6, 1), classes=number_of_moves)\n",
    "aero_cnn.compile(optimizer='adam', loss='mean_squared_error', metrics=['accuracy'])"
   ]
  },
  {
   "cell_type": "code",
   "execution_count": 29,
   "metadata": {},
   "outputs": [
    {
     "name": "stdout",
     "output_type": "stream",
     "text": [
      "We can start a new game\n",
      "Non-random move 59. Predicted 8.38599967956543, actual reward 0\n",
      "Non-random move 49. Predicted 11.286999702453613, actual reward 0\n",
      "Non-random move 19. Predicted 9.340999603271484, actual reward 4\n",
      "Non-random move 8. Predicted 9.081000328063965, actual reward 0\n",
      "Non-random move 31. Predicted 11.041999816894531, actual reward 16\n",
      "Non-random move 48. Predicted 8.015000343322754, actual reward 0\n",
      "Non-random move 14. Predicted 7.913000106811523, actual reward 0\n",
      "Non-random move 10. Predicted 6.385000228881836, actual reward 0\n",
      "Non-random move 15. Predicted 8.597000122070312, actual reward 4\n",
      "Handling last move...\n",
      "Game 0 over.\n",
      "---\n",
      "We can start a new game\n",
      "Non-random move 49. Predicted 7.71999979019165, actual reward 0\n",
      "Non-random move 44. Predicted 6.965000152587891, actual reward 0\n",
      "Non-random move 61. Predicted 8.045999526977539, actual reward 0\n",
      "Non-random move 49. Predicted 7.690999984741211, actual reward 0\n",
      "Non-random move 10. Predicted 7.377999782562256, actual reward 3\n",
      "Handling last move...\n",
      "Game 1 over.\n",
      "---\n",
      "We can start a new game\n",
      "Non-random move 38. Predicted 8.5649995803833, actual reward 0\n",
      "Non-random move 48. Predicted 8.9399995803833, actual reward 0\n",
      "Non-random move 45. Predicted 7.085999965667725, actual reward 9\n",
      "Non-random move 14. Predicted 11.050999641418457, actual reward 3\n",
      "Non-random move 53. Predicted 7.864999771118164, actual reward 0\n",
      "Non-random move 19. Predicted 7.811999797821045, actual reward 6\n",
      "Non-random move 43. Predicted 8.92199993133545, actual reward 0\n",
      "Non-random move 54. Predicted 8.307999610900879, actual reward 0\n",
      "Non-random move 49. Predicted 8.267000198364258, actual reward 0\n",
      "Non-random move 3. Predicted 6.802999973297119, actual reward 0\n",
      "Non-random move 53. Predicted 6.145999908447266, actual reward 0\n",
      "Non-random move 55. Predicted 5.5879998207092285, actual reward 0\n",
      "Handling last move...\n",
      "Game 2 over.\n",
      "---\n",
      "We can start a new game\n",
      "Non-random move 19. Predicted 10.60099983215332, actual reward 7\n",
      "Non-random move 55. Predicted 6.540999889373779, actual reward 3\n",
      "Non-random move 17. Predicted 5.369999885559082, actual reward 0\n",
      "Non-random move 54. Predicted 5.377999782562256, actual reward 0\n",
      "Non-random move 21. Predicted 12.906999588012695, actual reward 9\n",
      "Non-random move 22. Predicted 7.705999851226807, actual reward 6\n",
      "Non-random move 55. Predicted 9.206000328063965, actual reward 0\n",
      "Non-random move 43. Predicted 8.309000015258789, actual reward 0\n",
      "Non-random move 16. Predicted 7.848999977111816, actual reward 9\n",
      "Non-random move 26. Predicted 7.4720001220703125, actual reward 0\n",
      "Non-random move 27. Predicted 6.839000225067139, actual reward 0\n",
      "Non-random move 20. Predicted 7.74399995803833, actual reward 0\n",
      "Non-random move 9. Predicted 4.76800012588501, actual reward 0\n",
      "Non-random move 8. Predicted 6.9710001945495605, actual reward 6\n",
      "Non-random move 25. Predicted 7.814000129699707, actual reward 0\n",
      "Handling last move...\n",
      "Game 3 over.\n",
      "---\n",
      "We can start a new game\n",
      "Non-random move 49. Predicted 12.255999565124512, actual reward 0\n",
      "Non-random move 3. Predicted 10.038000106811523, actual reward 0\n",
      "Non-random move 58. Predicted 9.710000038146973, actual reward 0\n",
      "Non-random move 15. Predicted 11.401000022888184, actual reward 7\n",
      "Non-random move 15. Predicted 8.350000381469727, actual reward 15\n",
      "Non-random move 59. Predicted 9.362000465393066, actual reward 0\n",
      "Non-random move 15. Predicted 7.96999979019165, actual reward 0\n",
      ">>> Successful predictions ratio: 0.3\n",
      "Non-random move 55. Predicted 7.428999900817871, actual reward 13\n",
      "Non-random move 60. Predicted 7.341000080108643, actual reward 0\n",
      "Non-random move 7. Predicted 6.236000061035156, actual reward 0\n",
      "Non-random move 50. Predicted 6.35699987411499, actual reward 0\n",
      "Non-random move 58. Predicted 6.635000228881836, actual reward 0\n",
      "Non-random move 49. Predicted 6.413000106811523, actual reward 0\n",
      "Non-random move 25. Predicted 6.072999954223633, actual reward 0\n",
      "Non-random move 50. Predicted 5.76800012588501, actual reward 0\n",
      "Handling last move...\n",
      "Game 4 over.\n",
      "---\n",
      "We can start a new game\n",
      "Non-random move 38. Predicted 7.8979997634887695, actual reward 0\n",
      "Non-random move 57. Predicted 6.947999954223633, actual reward 0\n",
      "Non-random move 60. Predicted 6.6529998779296875, actual reward 0\n",
      "Non-random move 7. Predicted 6.5279998779296875, actual reward 0\n",
      "Non-random move 22. Predicted 5.690000057220459, actual reward 3\n",
      "Non-random move 21. Predicted 9.916000366210938, actual reward 3\n",
      "Non-random move 53. Predicted 9.020000457763672, actual reward 0\n",
      "Non-random move 19. Predicted 8.23900032043457, actual reward 0\n",
      "Non-random move 55. Predicted 8.357999801635742, actual reward 0\n",
      "Non-random move 60. Predicted 8.116000175476074, actual reward 0\n",
      "Non-random move 20. Predicted 8.01099967956543, actual reward 29\n",
      "Non-random move 56. Predicted 8.055000305175781, actual reward 0\n",
      "Non-random move 49. Predicted 7.857999801635742, actual reward 14\n",
      "Non-random move 19. Predicted 8.045999526977539, actual reward 0\n",
      "Non-random move 50. Predicted 6.011000156402588, actual reward 0\n",
      "Non-random move 44. Predicted 5.249000072479248, actual reward 0\n",
      "Non-random move 10. Predicted 5.175000190734863, actual reward 0\n",
      "Non-random move 23. Predicted 5.136000156402588, actual reward 0\n",
      "Non-random move 27. Predicted 4.638999938964844, actual reward 0\n",
      "Non-random move 21. Predicted 4.579999923706055, actual reward 6\n",
      "Non-random move 49. Predicted 7.390999794006348, actual reward 0\n",
      "Handling last move...\n",
      "Non-random move 9. Predicted 6.841000080108643, actual reward 0\n",
      "Game 5 over.\n",
      "---\n",
      "We can start a new game\n",
      "Non-random move 7. Predicted 7.435999870300293, actual reward 0\n",
      "Non-random move 22. Predicted 6.211999893188477, actual reward 0\n",
      "Non-random move 19. Predicted 8.192999839782715, actual reward 0\n",
      "Non-random move 58. Predicted 4.785999774932861, actual reward 0\n",
      "Non-random move 15. Predicted 11.682000160217285, actual reward 0\n",
      "Non-random move 27. Predicted 5.7789998054504395, actual reward 0\n",
      "Non-random move 41. Predicted 5.500999927520752, actual reward 0\n",
      "Non-random move 55. Predicted 5.420000076293945, actual reward 0\n",
      "Non-random move 59. Predicted 5.610000133514404, actual reward 0\n",
      "Non-random move 40. Predicted 5.7230000495910645, actual reward 0\n",
      "Non-random move 45. Predicted 4.4019999504089355, actual reward 22\n",
      "Non-random move 15. Predicted 7.572999954223633, actual reward 0\n",
      "Non-random move 3. Predicted 6.64300012588501, actual reward 0\n",
      "Non-random move 64. Predicted 6.077000141143799, actual reward 0\n",
      "Non-random move 53. Predicted 5.630000114440918, actual reward 18\n",
      "Non-random move 13. Predicted 10.371999740600586, actual reward 0\n",
      "Non-random move 9. Predicted 6.8470001220703125, actual reward 0\n",
      "Non-random move 60. Predicted 7.172999858856201, actual reward 0\n",
      "Non-random move 3. Predicted 5.702000141143799, actual reward 0\n",
      "Non-random move 52. Predicted 5.709000110626221, actual reward 0\n",
      ">>> Successful predictions ratio: 0.16\n",
      "Non-random move 64. Predicted 5.25600004196167, actual reward 0\n",
      "Non-random move 29. Predicted 5.0229997634887695, actual reward 0\n",
      "Non-random move 55. Predicted 4.922999858856201, actual reward 0\n",
      "Non-random move 46. Predicted 4.743000030517578, actual reward 0\n",
      "Handling last move...\n",
      "Non-random move 16. Predicted 4.4670000076293945, actual reward 0\n",
      "Game 6 over.\n",
      "---\n",
      "We can start a new game\n",
      "Non-random move 54. Predicted 10.581000328063965, actual reward 5\n",
      "Non-random move 55. Predicted 6.635000228881836, actual reward 16\n",
      "Non-random move 54. Predicted 7.544000148773193, actual reward 0\n",
      "Non-random move 16. Predicted 7.236000061035156, actual reward 3\n",
      "Non-random move 42. Predicted 9.545000076293945, actual reward 3\n",
      "Non-random move 42. Predicted 9.46399974822998, actual reward 0\n",
      "Non-random move 51. Predicted 6.263000011444092, actual reward 0\n",
      "Non-random move 16. Predicted 6.144000053405762, actual reward 0\n",
      "Non-random move 60. Predicted 6.059999942779541, actual reward 3\n",
      "Non-random move 44. Predicted 8.90999984741211, actual reward 6\n",
      "Non-random move 10. Predicted 9.043999671936035, actual reward 3\n",
      "Non-random move 51. Predicted 7.454999923706055, actual reward 0\n",
      "Non-random move 10. Predicted 5.360000133514404, actual reward 0\n",
      "Non-random move 38. Predicted 5.086999893188477, actual reward 0\n",
      "Non-random move 53. Predicted 4.986000061035156, actual reward 0\n"
     ]
    },
    {
     "name": "stdout",
     "output_type": "stream",
     "text": [
      "Non-random move 9. Predicted 4.243000030517578, actual reward 0\n",
      "Non-random move 54. Predicted 3.9049999713897705, actual reward 0\n",
      "Non-random move 23. Predicted 5.203000068664551, actual reward 3\n",
      "Non-random move 13. Predicted 8.46500015258789, actual reward 3\n",
      "Non-random move 41. Predicted 10.781000137329102, actual reward 0\n",
      "Non-random move 43. Predicted 8.692999839782715, actual reward 0\n",
      "Non-random move 40. Predicted 7.164000034332275, actual reward 0\n",
      "Non-random move 42. Predicted 6.958000183105469, actual reward 0\n",
      "Handling last move...\n",
      "Non-random move 54. Predicted 6.89900016784668, actual reward 0\n",
      "Game 7 over.\n",
      "---\n",
      "We can start a new game\n",
      "Non-random move 48. Predicted 9.904999732971191, actual reward 0\n",
      "Non-random move 22. Predicted 9.569999694824219, actual reward 5\n",
      "Non-random move 22. Predicted 9.916999816894531, actual reward 3\n",
      "Non-random move 16. Predicted 10.630999565124512, actual reward 0\n",
      "Non-random move 22. Predicted 8.531999588012695, actual reward 3\n",
      "Non-random move 50. Predicted 7.730999946594238, actual reward 3\n",
      "Non-random move 28. Predicted 10.663999557495117, actual reward 0\n",
      "Non-random move 19. Predicted 7.956999778747559, actual reward 0\n",
      "Non-random move 50. Predicted 6.625999927520752, actual reward 0\n",
      "Non-random move 52. Predicted 6.203000068664551, actual reward 3\n",
      "Non-random move 55. Predicted 9.062999725341797, actual reward 0\n",
      "Non-random move 26. Predicted 7.214000225067139, actual reward 0\n",
      "Non-random move 64. Predicted 5.752999782562256, actual reward 0\n",
      "Non-random move 54. Predicted 5.676000118255615, actual reward 0\n",
      "Non-random move 38. Predicted 5.054999828338623, actual reward 0\n",
      "Non-random move 48. Predicted 4.690999984741211, actual reward 0\n",
      "Non-random move 3. Predicted 4.6479997634887695, actual reward 0\n",
      "Non-random move 2. Predicted 4.304999828338623, actual reward 0\n",
      "Non-random move 22. Predicted 5.790999889373779, actual reward 0\n",
      "Non-random move 8. Predicted 5.302000045776367, actual reward 0\n",
      "Non-random move 49. Predicted 4.6020002365112305, actual reward 0\n",
      ">>> Successful predictions ratio: 0.28\n",
      "Non-random move 69. Predicted 3.9679999351501465, actual reward 3\n",
      "Non-random move 36. Predicted 5.888000011444092, actual reward 0\n",
      "Non-random move 69. Predicted 5.051000118255615, actual reward 0\n",
      "Non-random move 33. Predicted 4.992000102996826, actual reward 0\n",
      "Non-random move 26. Predicted 4.876999855041504, actual reward 0\n",
      "Non-random move 54. Predicted 4.861000061035156, actual reward 0\n",
      "Handling last move...\n",
      "Non-random move 55. Predicted 4.515999794006348, actual reward 0\n",
      "Game 8 over.\n",
      "---\n",
      "We can start a new game\n",
      "Non-random move 59. Predicted 7.513000011444092, actual reward 0\n",
      "Non-random move 57. Predicted 7.126999855041504, actual reward 0\n",
      "Non-random move 32. Predicted 6.868000030517578, actual reward 3\n",
      "Non-random move 60. Predicted 8.258999824523926, actual reward 0\n",
      "Non-random move 15. Predicted 7.650000095367432, actual reward 9\n",
      "Non-random move 45. Predicted 10.244000434875488, actual reward 0\n",
      "Non-random move 24. Predicted 6.572999954223633, actual reward 0\n",
      "Non-random move 22. Predicted 6.557000160217285, actual reward 4\n",
      "Non-random move 15. Predicted 10.791000366210938, actual reward 0\n",
      "Non-random move 62. Predicted 9.284000396728516, actual reward 0\n",
      "Non-random move 40. Predicted 8.60200023651123, actual reward 6\n",
      "Non-random move 51. Predicted 8.89799976348877, actual reward 3\n",
      "Non-random move 58. Predicted 8.824999809265137, actual reward 3\n",
      "Non-random move 58. Predicted 7.715000152587891, actual reward 3\n",
      "Non-random move 61. Predicted 5.624000072479248, actual reward 0\n",
      "Non-random move 16. Predicted 4.677999973297119, actual reward 3\n",
      "Non-random move 8. Predicted 5.948999881744385, actual reward 0\n",
      "Non-random move 45. Predicted 5.815999984741211, actual reward 7\n",
      "Non-random move 50. Predicted 7.9079999923706055, actual reward 0\n",
      "Non-random move 8. Predicted 8.274999618530273, actual reward 0\n",
      "Non-random move 49. Predicted 7.426000118255615, actual reward 3\n",
      "Non-random move 49. Predicted 8.373000144958496, actual reward 0\n",
      "Non-random move 3. Predicted 6.702000141143799, actual reward 16\n",
      "Non-random move 60. Predicted 8.454000473022461, actual reward 0\n",
      "Non-random move 48. Predicted 7.3420000076293945, actual reward 0\n",
      "Non-random move 8. Predicted 6.611000061035156, actual reward 22\n",
      "Non-random move 55. Predicted 8.718000411987305, actual reward 3\n",
      "Non-random move 55. Predicted 8.753000259399414, actual reward 0\n",
      "Non-random move 25. Predicted 6.357999801635742, actual reward 0\n",
      "Non-random move 20. Predicted 5.5279998779296875, actual reward 12\n",
      "Handling last move...\n",
      "Non-random move 61. Predicted 9.057000160217285, actual reward 0\n",
      "Game 9 over.\n",
      "---\n"
     ]
    }
   ],
   "source": [
    "# Максимальный размер памяти\n",
    "max_memory_size = 50000\n",
    "\n",
    "# Вероятность выбора случайного хода\n",
    "epsilon = 0.9\n",
    "\n",
    "# Размер минибатча\n",
    "minibatch = 32\n",
    "\n",
    "# Пенальти за будущие ходы\n",
    "gamma = 0.2\n",
    "\n",
    "# Основной цикл, в котором играем 10 игр\n",
    "for game in range(10):\n",
    "    if (check_if_new_game(aeroflot_x, aeroflot_y, parameters)):\n",
    "        # Press the Start New Game button\n",
    "        press_start(aeroflot_x, aeroflot_y)\n",
    "        win32api.Sleep(1000)\n",
    "    else:\n",
    "        print(\"Something is wrong. Exiting...\")\n",
    "        break\n",
    "\n",
    "    # Делаем 50 ходов. Последний ход нужно будет обработать отдельно. С ним есть нюанс\n",
    "    moves_left = 50\n",
    "    game_score = 0\n",
    "    reward = 0\n",
    "\n",
    "    # Взбодрим генератор случайных чисел\n",
    "    seed()\n",
    "\n",
    "    # Делаем 50 ходов\n",
    "    while (moves_left > 0):\n",
    "        # Смотрим картинку перед ходом\n",
    "        s_before = pixelization_v2(aeroflot_x, aeroflot_y, parameters)\n",
    "\n",
    "        # Выбираем ход\n",
    "        prob = uniform(0, 1)\n",
    "\n",
    "        if (prob > epsilon):\n",
    "            # Будем делать неслучайный ход\n",
    "            if (total_num_of_predictions == 50):\n",
    "                print(\">>> Successful predictions ratio:\", num_of_successful_predictions / total_num_of_predictions)\n",
    "                total_num_of_predictions = 0\n",
    "                num_of_successful_predictions = 0\n",
    "            \n",
    "            wise_move_debug_flag = 1\n",
    "            predictions = aero_cnn.predict(np.expand_dims(s_before, axis=0))\n",
    "            move = np.argmax(predictions) + 1\n",
    "            wise_pred = predictions.max()\n",
    "            total_num_of_predictions = total_num_of_predictions + 1\n",
    "        else:\n",
    "            # Случайный ход\n",
    "            wise_move_debug_flag = 0\n",
    "            move = randint(1, number_of_moves)\n",
    "\n",
    "        # Делаем собственно ход\n",
    "        make_move(aeroflot_x, aeroflot_y, number_of_moves, move)\n",
    "\n",
    "        if (moves_left > 1):\n",
    "            picture_1 = pixelization_v2(aeroflot_x, aeroflot_y, parameters)\n",
    "            win32api.Sleep(1000)\n",
    "            picture_2 = pixelization_v2(aeroflot_x, aeroflot_y, parameters)\n",
    "\n",
    "            while (np.array_equal(picture_1, picture_2) == False):\n",
    "                picture_1 = pixelization_v2(aeroflot_x, aeroflot_y, parameters)\n",
    "                win32api.Sleep(500)\n",
    "                picture_2 = pixelization_v2(aeroflot_x, aeroflot_y, parameters)\n",
    "\n",
    "            # Определяем очки за ход - результат хода\n",
    "            current_score = get_current_score(aeroflot_x, aeroflot_y, parameters)\n",
    "\n",
    "            if (current_score != -1):\n",
    "                if ((game_score == 0) and (current_score == 10)):\n",
    "                        current_score = 0\n",
    "\n",
    "                reward = current_score - game_score\n",
    "                game_score = current_score\n",
    "\n",
    "            # Смотрим картинку после хода\n",
    "            s_after = picture_2\n",
    "\n",
    "        else:\n",
    "            # Это последний пятидесятый ход, его обрабатываем особенным образом\n",
    "            # Тут проблема в том, что экран потухнет, и будет надпись об окончании игры\n",
    "            # Нужно успеть вытащить счет и скрин с финальной разблюдовкой до этого момента\n",
    "            #\n",
    "            print(\"Handling last move...\")\n",
    "            last_move = []\n",
    "            counter = 50\n",
    "\n",
    "            picture_1 = pixelization_v2(aeroflot_x, aeroflot_y, parameters)\n",
    "            current_score = get_current_score(aeroflot_x, aeroflot_y, parameters)\n",
    "\n",
    "            while ((current_score != -1) and (counter > 0)):\n",
    "                last_move.append((current_score, picture_1))\n",
    "\n",
    "                picture_1 = pixelization_v2(aeroflot_x, aeroflot_y, parameters)\n",
    "                current_score = get_current_score(aeroflot_x, aeroflot_y, parameters)\n",
    "\n",
    "                counter = counter - 1\n",
    "\n",
    "            # Берем финальный счет и финальную картинку\n",
    "            if (counter < 50):\n",
    "                current_score = last_move[-1][0]\n",
    "                reward = current_score - game_score      \n",
    "                s_after = last_move[-1][1]\n",
    "            else:\n",
    "                reward = 0\n",
    "\n",
    "        # Если ход прошел без ошибок, то добавляем ход в память\n",
    "        if (current_score != -1):\n",
    "            if (len(replay_memory) == max_memory_size):\n",
    "                replay_memory.pop(0)\n",
    "\n",
    "            replay_memory.append((s_before, move, reward, s_after))     \n",
    "            \n",
    "            # DEBUG: отладочная информация по неслучайным ходам\n",
    "            if (wise_move_debug_flag == 1):\n",
    "                if (reward > 0):\n",
    "                    num_of_successful_predictions = num_of_successful_predictions + 1\n",
    "                print(\"Non-random move {}. Predicted {}, actual reward {}\".format(move, round(wise_pred, 3), reward))\n",
    "                \n",
    "            # Конструируем минибатч\n",
    "            if (len(replay_memory) > minibatch):\n",
    "                if (reward == 0):\n",
    "                    # Обязательно включаем ход с нулевым reward в обучение, чтобы избежать зацикливания предсказаний на нём\n",
    "                    samples = sample(replay_memory[:-1], minibatch - 1)\n",
    "                    samples.append(replay_memory[-1])\n",
    "                else:\n",
    "                    samples = sample(replay_memory, minibatch)\n",
    "            else:\n",
    "                samples = replay_memory\n",
    "                \n",
    "            #\n",
    "            # Обучаем сеть\n",
    "            #\n",
    "            # Строим X_train\n",
    "            X_train_now = ()\n",
    "            X_train_future = ()\n",
    "\n",
    "            for s in range(minibatch):\n",
    "                X_train_now = X_train_now + (samples[s][0],)\n",
    "                X_train_future = X_train_future + (samples[s][3],)\n",
    "\n",
    "            X_train_now = np.stack(X_train_now, axis=0)\n",
    "            X_train_future = np.stack(X_train_future, axis=0)\n",
    "\n",
    "            # Строим Y_train. На выходе размерность [minibatch, number_of_moves]\n",
    "            Y_train_now = aero_cnn.predict(X_train_now)\n",
    "            Y_train_future = aero_cnn.predict(X_train_future)\n",
    "\n",
    "            for s in range(minibatch):\n",
    "                actn = samples[s][1]\n",
    "                rwrd = samples[s][2]\n",
    "                if (rwrd > 0):\n",
    "                    Y_train_now[s, actn - 1] = rwrd + gamma * Y_train_future[s, :].max()\n",
    "                else:\n",
    "                    # Если ход нулевой, то предсказывать 0 сразу!\n",
    "                    Y_train_now[s, actn - 1] = 0\n",
    "\n",
    "            # Делаем градиентный спуск, подкручиваем веса сети\n",
    "            aero_cnn.fit(X_train_now, Y_train_now, epochs=15, verbose=0)\n",
    "        else:\n",
    "            print(\"DEBUG: Skipping bad move...\")\n",
    "\n",
    "\n",
    "\n",
    "\n",
    "\n",
    "        epsilon = epsilon - 0.001\n",
    "        moves_left = moves_left - 1\n",
    "\n",
    "    print(\"Game {} over.\".format(game))\n",
    "    print(\"---\")\n",
    "    win32api.Sleep(5000)\n",
    "    \n",
    "    # Запускаем новую игру, т.е. нажимаем на кнопку \"Еще раз\"\n",
    "    press_next_game(aeroflot_x, aeroflot_y)\n",
    "    win32api.Sleep(2000)"
   ]
  },
  {
   "cell_type": "code",
   "execution_count": null,
   "metadata": {
    "collapsed": true
   },
   "outputs": [],
   "source": []
  },
  {
   "cell_type": "code",
   "execution_count": 11,
   "metadata": {
    "collapsed": true
   },
   "outputs": [],
   "source": [
    "#\n",
    "# Very Important!!!\n",
    "#\n",
    "aero_cnn.save(\"AeroCNN_v4.h5\")\n",
    "\n",
    "with open('replay_memory_1D.pickle', 'wb') as f:\n",
    "    pickle.dump(replay_memory, f)"
   ]
  },
  {
   "cell_type": "code",
   "execution_count": 205,
   "metadata": {
    "collapsed": true
   },
   "outputs": [],
   "source": []
  },
  {
   "cell_type": "code",
   "execution_count": 30,
   "metadata": {},
   "outputs": [
    {
     "data": {
      "text/plain": [
       "5264"
      ]
     },
     "execution_count": 30,
     "metadata": {},
     "output_type": "execute_result"
    }
   ],
   "source": [
    "len(replay_memory)"
   ]
  },
  {
   "cell_type": "code",
   "execution_count": 464,
   "metadata": {},
   "outputs": [
    {
     "data": {
      "text/plain": [
       "11"
      ]
     },
     "execution_count": 464,
     "metadata": {},
     "output_type": "execute_result"
    }
   ],
   "source": [
    "total_num_of_predictions"
   ]
  },
  {
   "cell_type": "code",
   "execution_count": null,
   "metadata": {
    "collapsed": true
   },
   "outputs": [],
   "source": []
  },
  {
   "cell_type": "code",
   "execution_count": 526,
   "metadata": {
    "collapsed": true
   },
   "outputs": [],
   "source": [
    "for layer in aero_cnn.layers:\n",
    "    if (layer.name == \"conv0\"):\n",
    "        lst = layer.get_weights()\n",
    "        break\n"
   ]
  },
  {
   "cell_type": "code",
   "execution_count": 539,
   "metadata": {},
   "outputs": [
    {
     "data": {
      "text/plain": [
       "array([[-0.01659712, -0.11228048, -0.01099141],\n",
       "       [-0.2804085 ,  0.1258426 ,  0.257772  ],\n",
       "       [ 0.1437774 ,  0.01205748, -0.09395663]], dtype=float32)"
      ]
     },
     "execution_count": 539,
     "metadata": {},
     "output_type": "execute_result"
    }
   ],
   "source": [
    "filters = lst[0]\n",
    "filters[:, :, :, 11].reshape(3, 3)\n",
    "#filters[:, :, :, 0].reshape(3, 3, 4)"
   ]
  },
  {
   "cell_type": "code",
   "execution_count": null,
   "metadata": {
    "collapsed": true
   },
   "outputs": [],
   "source": []
  },
  {
   "cell_type": "code",
   "execution_count": null,
   "metadata": {
    "collapsed": true
   },
   "outputs": [],
   "source": []
  },
  {
   "cell_type": "code",
   "execution_count": 506,
   "metadata": {},
   "outputs": [
    {
     "name": "stdout",
     "output_type": "stream",
     "text": [
      "_________________________________________________________________\n",
      "Layer (type)                 Output Shape              Param #   \n",
      "=================================================================\n",
      "input_17 (InputLayer)        (None, 7, 6, 1)           0         \n",
      "_________________________________________________________________\n",
      "zero_padding2d_19 (ZeroPaddi (None, 9, 8, 1)           0         \n",
      "_________________________________________________________________\n",
      "conv0 (Conv2D)               (None, 7, 6, 32)          320       \n",
      "_________________________________________________________________\n",
      "activation_33 (Activation)   (None, 7, 6, 32)          0         \n",
      "_________________________________________________________________\n",
      "conv1 (Conv2D)               (None, 5, 4, 64)          18496     \n",
      "_________________________________________________________________\n",
      "activation_34 (Activation)   (None, 5, 4, 64)          0         \n",
      "_________________________________________________________________\n",
      "flatten_17 (Flatten)         (None, 1280)              0         \n",
      "_________________________________________________________________\n",
      "fc0 (Dense)                  (None, 71)                90951     \n",
      "=================================================================\n",
      "Total params: 109,767\n",
      "Trainable params: 109,767\n",
      "Non-trainable params: 0\n",
      "_________________________________________________________________\n"
     ]
    }
   ],
   "source": [
    "aero_cnn.summary()"
   ]
  },
  {
   "cell_type": "code",
   "execution_count": 27,
   "metadata": {},
   "outputs": [
    {
     "name": "stdout",
     "output_type": "stream",
     "text": [
      "Wall time: 83 ms\n"
     ]
    },
    {
     "data": {
      "text/plain": [
       "35"
      ]
     },
     "execution_count": 27,
     "metadata": {},
     "output_type": "execute_result"
    }
   ],
   "source": [
    "%%time\n",
    "get_current_score(aeroflot_x, aeroflot_y, parameters)"
   ]
  },
  {
   "cell_type": "code",
   "execution_count": 358,
   "metadata": {},
   "outputs": [
    {
     "data": {
      "text/plain": [
       "(7, 6, 4)"
      ]
     },
     "execution_count": 358,
     "metadata": {},
     "output_type": "execute_result"
    }
   ],
   "source": [
    "results[1][1].shape"
   ]
  },
  {
   "cell_type": "code",
   "execution_count": 510,
   "metadata": {},
   "outputs": [
    {
     "name": "stdout",
     "output_type": "stream",
     "text": [
      "Wall time: 76 ms\n"
     ]
    }
   ],
   "source": [
    "%%time\n",
    "picture_1 = pixelization_v2(aeroflot_x, aeroflot_y, parameters)"
   ]
  },
  {
   "cell_type": "code",
   "execution_count": 512,
   "metadata": {},
   "outputs": [
    {
     "data": {
      "text/plain": [
       "(7, 6)"
      ]
     },
     "execution_count": 512,
     "metadata": {},
     "output_type": "execute_result"
    }
   ],
   "source": [
    "picture_1.shape"
   ]
  },
  {
   "cell_type": "code",
   "execution_count": 548,
   "metadata": {},
   "outputs": [
    {
     "data": {
      "text/plain": [
       "array([[ 1.],\n",
       "       [ 0.],\n",
       "       [ 0.],\n",
       "       [ 3.],\n",
       "       [ 2.],\n",
       "       [ 2.]])"
      ]
     },
     "execution_count": 548,
     "metadata": {},
     "output_type": "execute_result"
    }
   ],
   "source": [
    "picture_1[5, :]"
   ]
  },
  {
   "cell_type": "code",
   "execution_count": 356,
   "metadata": {
    "collapsed": true
   },
   "outputs": [],
   "source": []
  },
  {
   "cell_type": "code",
   "execution_count": 357,
   "metadata": {
    "collapsed": true
   },
   "outputs": [],
   "source": []
  },
  {
   "cell_type": "code",
   "execution_count": 406,
   "metadata": {
    "collapsed": true
   },
   "outputs": [],
   "source": [
    "X_train = results[1][1]\n",
    "X_train = np.expand_dims(X_train, axis=0)\n",
    "Y_train = np.zeros((1, 142))\n",
    "\n",
    "for rr in range(50):\n",
    "    jj = randint(0, 141)\n",
    "    Y_train[0, jj] = randint(1, 9)"
   ]
  },
  {
   "cell_type": "code",
   "execution_count": null,
   "metadata": {
    "collapsed": true
   },
   "outputs": [],
   "source": []
  },
  {
   "cell_type": "code",
   "execution_count": null,
   "metadata": {
    "collapsed": true
   },
   "outputs": [],
   "source": []
  },
  {
   "cell_type": "code",
   "execution_count": 373,
   "metadata": {},
   "outputs": [
    {
     "name": "stdout",
     "output_type": "stream",
     "text": [
      "_________________________________________________________________\n",
      "Layer (type)                 Output Shape              Param #   \n",
      "=================================================================\n",
      "input_2 (InputLayer)         (None, 7, 6, 4)           0         \n",
      "_________________________________________________________________\n",
      "zero_padding2d_2 (ZeroPaddin (None, 11, 10, 4)         0         \n",
      "_________________________________________________________________\n",
      "conv0 (Conv2D)               (None, 7, 6, 8)           808       \n",
      "_________________________________________________________________\n",
      "activation_3 (Activation)    (None, 7, 6, 8)           0         \n",
      "_________________________________________________________________\n",
      "conv1 (Conv2D)               (None, 5, 4, 16)          1168      \n",
      "_________________________________________________________________\n",
      "activation_4 (Activation)    (None, 5, 4, 16)          0         \n",
      "_________________________________________________________________\n",
      "flatten_2 (Flatten)          (None, 320)               0         \n",
      "_________________________________________________________________\n",
      "fc0 (Dense)                  (None, 142)               45582     \n",
      "=================================================================\n",
      "Total params: 47,558\n",
      "Trainable params: 47,558\n",
      "Non-trainable params: 0\n",
      "_________________________________________________________________\n"
     ]
    }
   ],
   "source": [
    "aero_cnn.summary()"
   ]
  },
  {
   "cell_type": "code",
   "execution_count": null,
   "metadata": {
    "collapsed": true
   },
   "outputs": [],
   "source": []
  },
  {
   "cell_type": "code",
   "execution_count": null,
   "metadata": {
    "collapsed": true
   },
   "outputs": [],
   "source": []
  },
  {
   "cell_type": "code",
   "execution_count": null,
   "metadata": {
    "collapsed": true
   },
   "outputs": [],
   "source": []
  },
  {
   "cell_type": "code",
   "execution_count": null,
   "metadata": {
    "collapsed": true
   },
   "outputs": [],
   "source": []
  },
  {
   "cell_type": "code",
   "execution_count": null,
   "metadata": {
    "collapsed": true
   },
   "outputs": [],
   "source": []
  },
  {
   "cell_type": "code",
   "execution_count": 405,
   "metadata": {},
   "outputs": [
    {
     "data": {
      "text/plain": [
       "array([[  6.53922844,   0.        ,   0.        ,   7.80634499,\n",
       "          7.30447292,   3.78879094,  11.14229012,  11.93689919,\n",
       "          4.98499155,   5.99331045,   7.56705952,   4.97728157,\n",
       "          7.87488127,   0.        ,  13.27569866,   6.92039585,\n",
       "          0.        ,   4.96320534,   8.07557678,  11.78556919,\n",
       "         13.18387508,   9.10807705,   5.56552172,   7.45903015,\n",
       "         15.27207088,   6.32335901,   4.55224133,   5.45091486,\n",
       "          9.23403835,   5.23410654,   5.97049475,   2.63473272,\n",
       "          0.        ,   7.08221531,   3.95775652,   7.56428432,\n",
       "          6.17845583,   3.91580534,   7.89203548,   3.77617788,\n",
       "          0.        ,   5.40313768,   6.6367588 ,   7.64022684,\n",
       "          9.9065752 ,   8.51534081,   8.67140293,   4.50644112,\n",
       "          9.50450325,   0.        ,   8.16275883,  15.68370533,\n",
       "          6.00693178,   9.38634014,  14.23967934,   7.04720116,\n",
       "          5.5672493 ,   5.11613989,   7.88436174,  10.19739342,\n",
       "          5.74646759,   2.77500272,   7.94182301,   0.        ,\n",
       "          2.9304986 ,   3.66773391,   6.0057025 ,   3.27339363,\n",
       "          5.07459259,   1.80954266,   1.1157403 ]], dtype=float32)"
      ]
     },
     "execution_count": 405,
     "metadata": {},
     "output_type": "execute_result"
    }
   ],
   "source": [
    "predictions"
   ]
  },
  {
   "cell_type": "code",
   "execution_count": null,
   "metadata": {
    "collapsed": true
   },
   "outputs": [],
   "source": []
  },
  {
   "cell_type": "code",
   "execution_count": 110,
   "metadata": {
    "collapsed": true
   },
   "outputs": [],
   "source": [
    "for move, pred in enumerate(predictions.reshape(-1)):\n",
    "    if (pred > 0):\n",
    "        print(move + 1, pred)"
   ]
  },
  {
   "cell_type": "code",
   "execution_count": 132,
   "metadata": {},
   "outputs": [
    {
     "data": {
      "text/plain": [
       "(1, 2, 'right')"
      ]
     },
     "execution_count": 132,
     "metadata": {},
     "output_type": "execute_result"
    }
   ],
   "source": [
    "process_move_71(38)"
   ]
  },
  {
   "cell_type": "code",
   "execution_count": 433,
   "metadata": {
    "collapsed": true
   },
   "outputs": [],
   "source": [
    "\n"
   ]
  },
  {
   "cell_type": "code",
   "execution_count": 471,
   "metadata": {
    "collapsed": true
   },
   "outputs": [],
   "source": [
    "tmp = pixelization_v2(aeroflot_x, aeroflot_y, parameters)"
   ]
  },
  {
   "cell_type": "code",
   "execution_count": 473,
   "metadata": {},
   "outputs": [
    {
     "data": {
      "text/plain": [
       "array([[ 0.25,  0.5 ,  0.75,  0.25,  1.  ,  0.25],\n",
       "       [ 1.  ,  0.5 ,  1.  ,  0.5 ,  1.  ,  1.  ],\n",
       "       [ 0.75,  1.  ,  0.5 ,  0.25,  0.25,  0.5 ],\n",
       "       [ 1.  ,  0.25,  0.5 ,  1.  ,  0.25,  0.5 ],\n",
       "       [ 0.25,  0.75,  0.25,  1.  ,  1.  ,  0.75],\n",
       "       [ 1.  ,  0.5 ,  1.  ,  0.5 ,  0.5 ,  0.75],\n",
       "       [ 1.  ,  0.75,  0.5 ,  0.5 ,  1.  ,  1.  ]])"
      ]
     },
     "execution_count": 473,
     "metadata": {},
     "output_type": "execute_result"
    }
   ],
   "source": [
    "tmp.reshape(7, 6)"
   ]
  },
  {
   "cell_type": "code",
   "execution_count": 489,
   "metadata": {
    "collapsed": true
   },
   "outputs": [],
   "source": [
    "cnt = len(replay_memory)\n",
    "\n",
    "for item in range(1770, cnt):\n",
    "    xxx = (replay_memory[item][0] + 1) / 4.0\n",
    "    yyy = (replay_memory[item][3] + 1) / 4.0\n",
    "    \n",
    "    tmp.append( (xxx, replay_memory[item][1], replay_memory[item][2], yyy) )"
   ]
  },
  {
   "cell_type": "code",
   "execution_count": 492,
   "metadata": {},
   "outputs": [
    {
     "data": {
      "text/plain": [
       "array([[ 1.  ,  0.75,  1.  ,  1.  ,  0.75,  1.  ],\n",
       "       [ 0.5 ,  0.25,  0.75,  0.75,  0.5 ,  0.5 ],\n",
       "       [ 0.5 ,  0.75,  0.75,  0.5 ,  1.  ,  0.75],\n",
       "       [ 0.75,  0.5 ,  0.25,  0.75,  1.  ,  0.75],\n",
       "       [ 0.75,  0.75,  0.25,  0.5 ,  0.75,  1.  ],\n",
       "       [ 0.25,  0.5 ,  0.5 ,  0.75,  0.75,  1.  ],\n",
       "       [ 0.75,  1.  ,  0.25,  0.5 ,  0.5 ,  0.25]])"
      ]
     },
     "execution_count": 492,
     "metadata": {},
     "output_type": "execute_result"
    }
   ],
   "source": [
    "tmp[-1][3].reshape(7, 6)"
   ]
  },
  {
   "cell_type": "code",
   "execution_count": 515,
   "metadata": {
    "collapsed": true
   },
   "outputs": [],
   "source": [
    "# Готовим модель\n",
    "tmp = Aero_CNN_v4(input_shape=(7, 6, 1), classes=number_of_moves)\n",
    "tmp.compile(optimizer='adam', loss='mean_squared_error', metrics=['accuracy'])"
   ]
  },
  {
   "cell_type": "code",
   "execution_count": 516,
   "metadata": {},
   "outputs": [
    {
     "name": "stdout",
     "output_type": "stream",
     "text": [
      "_________________________________________________________________\n",
      "Layer (type)                 Output Shape              Param #   \n",
      "=================================================================\n",
      "input_20 (InputLayer)        (None, 7, 6, 1)           0         \n",
      "_________________________________________________________________\n",
      "zero_padding2d_22 (ZeroPaddi (None, 9, 8, 1)           0         \n",
      "_________________________________________________________________\n",
      "conv0 (Conv2D)               (None, 7, 6, 32)          320       \n",
      "_________________________________________________________________\n",
      "activation_40 (Activation)   (None, 7, 6, 32)          0         \n",
      "_________________________________________________________________\n",
      "conv1 (Conv2D)               (None, 5, 4, 64)          18496     \n",
      "_________________________________________________________________\n",
      "activation_41 (Activation)   (None, 5, 4, 64)          0         \n",
      "_________________________________________________________________\n",
      "flatten_19 (Flatten)         (None, 1280)              0         \n",
      "_________________________________________________________________\n",
      "fc0 (Dense)                  (None, 256)               327936    \n",
      "_________________________________________________________________\n",
      "activation_42 (Activation)   (None, 256)               0         \n",
      "_________________________________________________________________\n",
      "fc1 (Dense)                  (None, 71)                18247     \n",
      "=================================================================\n",
      "Total params: 364,999\n",
      "Trainable params: 364,999\n",
      "Non-trainable params: 0\n",
      "_________________________________________________________________\n"
     ]
    }
   ],
   "source": [
    "tmp.summary()"
   ]
  },
  {
   "cell_type": "code",
   "execution_count": 10,
   "metadata": {},
   "outputs": [
    {
     "name": "stdout",
     "output_type": "stream",
     "text": [
      "Wall time: 57min 10s\n"
     ]
    }
   ],
   "source": [
    "%%time\n",
    "\n",
    "seed()\n",
    "\n",
    "# Пенальти за будущие ходы\n",
    "gamma = 0.2\n",
    "\n",
    "for i in range(20000):\n",
    "    samples = sample(replay_memory, 32)\n",
    "    \n",
    "    # Строим X_train\n",
    "    X_train_now = ()\n",
    "    X_train_future = ()\n",
    "\n",
    "    for s in range(32):\n",
    "        X_train_now = X_train_now + (samples[s][0],)\n",
    "        X_train_future = X_train_future + (samples[s][3],)\n",
    "\n",
    "    X_train_now = np.stack(X_train_now, axis=0)\n",
    "    X_train_future = np.stack(X_train_future, axis=0)\n",
    "\n",
    "    # Строим Y_train. На выходе размерность [minibatch, number_of_moves]\n",
    "    Y_train_now = aero_cnn.predict(X_train_now)\n",
    "    Y_train_future = aero_cnn.predict(X_train_future)\n",
    "\n",
    "    for s in range(32):\n",
    "        actn = samples[s][1]\n",
    "        rwrd = samples[s][2]\n",
    "        if (rwrd > 0):\n",
    "            Y_train_now[s, actn - 1] = rwrd + gamma * Y_train_future[s, :].max()\n",
    "        else:\n",
    "            # Если ход нулевой, то предсказывать 0 сразу!\n",
    "            Y_train_now[s, actn - 1] = 0\n",
    "\n",
    "    # Делаем градиентный спуск, подкручиваем веса сети\n",
    "    aero_cnn.fit(X_train_now, Y_train_now, epochs=15, verbose=0)\n"
   ]
  },
  {
   "cell_type": "code",
   "execution_count": 560,
   "metadata": {},
   "outputs": [
    {
     "name": "stdout",
     "output_type": "stream",
     "text": [
      "3325\n"
     ]
    },
    {
     "data": {
      "text/plain": [
       "-1"
      ]
     },
     "execution_count": 560,
     "metadata": {},
     "output_type": "execute_result"
    }
   ],
   "source": [
    "get_current_score(aeroflot_x, aeroflot_y, parameters)"
   ]
  },
  {
   "cell_type": "code",
   "execution_count": 565,
   "metadata": {
    "collapsed": true
   },
   "outputs": [],
   "source": [
    "ret = check_if_new_game(aeroflot_x, aeroflot_y, parameters)"
   ]
  },
  {
   "cell_type": "code",
   "execution_count": 589,
   "metadata": {},
   "outputs": [
    {
     "data": {
      "text/plain": [
       "array([161, 161, 161, 161, 161, 161, 241, 254, 252, 249, 171, 161, 159,\n",
       "       140, 140, 140, 140, 140, 140, 140, 140, 140, 140, 140, 140, 140, 140], dtype=uint8)"
      ]
     },
     "execution_count": 589,
     "metadata": {},
     "output_type": "execute_result"
    }
   ],
   "source": [
    "ret[7, 5:-5]"
   ]
  },
  {
   "cell_type": "code",
   "execution_count": 590,
   "metadata": {},
   "outputs": [
    {
     "data": {
      "text/plain": [
       "array([161, 161, 161, 161, 162, 161, 175, 251, 252, 216, 163, 161, 161,\n",
       "       145, 140, 140, 140, 140, 140, 140, 140, 140, 140, 140, 140, 140, 140], dtype=uint8)"
      ]
     },
     "execution_count": 590,
     "metadata": {},
     "output_type": "execute_result"
    }
   ],
   "source": [
    "parameters[\"Game_Starter\"][7, 5:-5]"
   ]
  },
  {
   "cell_type": "code",
   "execution_count": null,
   "metadata": {
    "collapsed": true
   },
   "outputs": [],
   "source": []
  }
 ],
 "metadata": {
  "kernelspec": {
   "display_name": "Python 3",
   "language": "python",
   "name": "python3"
  },
  "language_info": {
   "codemirror_mode": {
    "name": "ipython",
    "version": 3
   },
   "file_extension": ".py",
   "mimetype": "text/x-python",
   "name": "python",
   "nbconvert_exporter": "python",
   "pygments_lexer": "ipython3",
   "version": "3.6.2"
  }
 },
 "nbformat": 4,
 "nbformat_minor": 2
}
